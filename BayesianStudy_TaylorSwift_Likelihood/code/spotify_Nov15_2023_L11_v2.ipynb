{
 "cells": [
  {
   "cell_type": "markdown",
   "id": "6fc52115-27da-44a2-a0e1-5d3e5df9ad3a",
   "metadata": {},
   "source": [
    "# L11 Hierarchical Modeling - \"Statistics.xlsx\"\n",
    "- Q1: How are shape of 2 and scale (rate) of 1/5 determined in dgamma() for mu?\n",
    "-  The choice of these parameters is based on the specific problem being solved and the prior knowledge of the data\n",
    "-  The shape and scale parameters can be chosen based on the mean and variance of the data, or they can be chosen based on prior knowledge of the distribution. In some cases, the choice of parameters may be arbitrary or based on trial and error\n",
    "-  **Adjust mu ~ dgamma(2, 1/5) setting** to be closer to \"a place\" where streams_m average would be in the outcome of **colMeans()**!!!"
   ]
  },
  {
   "cell_type": "code",
   "execution_count": 1,
   "id": "f03394ae-c2b1-4673-8997-af3293fa4881",
   "metadata": {},
   "outputs": [
    {
     "name": "stderr",
     "output_type": "stream",
     "text": [
      "── \u001b[1mAttaching core tidyverse packages\u001b[22m ───────────────────────── tidyverse 2.0.0 ──\n",
      "\u001b[32m✔\u001b[39m \u001b[34mdplyr    \u001b[39m 1.1.2     \u001b[32m✔\u001b[39m \u001b[34mreadr    \u001b[39m 2.1.4\n",
      "\u001b[32m✔\u001b[39m \u001b[34mforcats  \u001b[39m 1.0.0     \u001b[32m✔\u001b[39m \u001b[34mstringr  \u001b[39m 1.5.0\n",
      "\u001b[32m✔\u001b[39m \u001b[34mggplot2  \u001b[39m 3.4.3     \u001b[32m✔\u001b[39m \u001b[34mtibble   \u001b[39m 3.2.1\n",
      "\u001b[32m✔\u001b[39m \u001b[34mlubridate\u001b[39m 1.9.2     \u001b[32m✔\u001b[39m \u001b[34mtidyr    \u001b[39m 1.3.0\n",
      "\u001b[32m✔\u001b[39m \u001b[34mpurrr    \u001b[39m 1.0.1     \n",
      "── \u001b[1mConflicts\u001b[22m ─────────────────────────────────────────── tidyverse_conflicts() ──\n",
      "\u001b[31m✖\u001b[39m \u001b[34mdplyr\u001b[39m::\u001b[32mfilter()\u001b[39m masks \u001b[34mstats\u001b[39m::filter()\n",
      "\u001b[31m✖\u001b[39m \u001b[34mdplyr\u001b[39m::\u001b[32mlag()\u001b[39m    masks \u001b[34mstats\u001b[39m::lag()\n",
      "\u001b[36mℹ\u001b[39m Use the conflicted package (\u001b[3m\u001b[34m<http://conflicted.r-lib.org/>\u001b[39m\u001b[23m) to force all conflicts to become errors\n",
      "\n",
      "Attaching package: 'data.table'\n",
      "\n",
      "\n",
      "The following objects are masked from 'package:lubridate':\n",
      "\n",
      "    hour, isoweek, mday, minute, month, quarter, second, wday, week,\n",
      "    yday, year\n",
      "\n",
      "\n",
      "The following objects are masked from 'package:dplyr':\n",
      "\n",
      "    between, first, last\n",
      "\n",
      "\n",
      "The following object is masked from 'package:purrr':\n",
      "\n",
      "    transpose\n",
      "\n",
      "\n"
     ]
    }
   ],
   "source": [
    "library(tidyverse)\n",
    "library(dplyr)\n",
    "library(data.table)\n",
    "\n",
    "#df1 <- read.csv(\"./data/spotify_output_11012023.csv\")\n",
    "\n",
    "#df_m1 <- df1 %>% select(-comment)\n",
    "\n",
    "#df_m1 <- df_m1[df_m1$outlier != 1,]\n",
    "\n",
    "# Create a data.frame (df_hm1) with Taylor and N=50 from others, randomly select\n",
    "\n",
    "#df_nts <- df_m1[df_m1$artist4 != \"Taylor Swift\",]\n",
    "#df_ts <-  df_m1[df_m1$artist4 == \"Taylor Swift\",]\n",
    "\n",
    "#set.seed(101)\n",
    "\n",
    "#df_subsample_1 <- df_nts %>% sample_n(50)\n",
    "#df_hm1 <- rbind(df_ts, df_subsample_1)\n",
    "#df_hm1$ts <- 0\n",
    "#df_hm1$ts[df_hm1$artist4 == 'Taylor Swift'] <-1\n",
    "\n",
    "# Create a data.frame (df_hm2) with Taylor and other Top6 singers to make it Top7 dataset.\n",
    "#df_hm2 <- df_m1\n",
    "#df_hm2$artist5 <- 0\n",
    "#df_hm2$artist5[df_hm2$artist4 == 'Taylor Swift'] <-1\n",
    "#df_hm2$artist5[df_hm2$artist4 == 'The Weeknd'] <-2\n",
    "#df_hm2$artist5[df_hm2$artist4 == 'Bad Bunny'] <-3\n",
    "#df_hm2$artist5[df_hm2$artist4 == 'Drake'] <-4\n",
    "#df_hm2$artist5[df_hm2$artist4 == 'Harry Styles'] <-5\n",
    "#df_hm2$artist5[df_hm2$artist4 == 'Ed Sheeran'] <-6\n",
    "#df_hm2$artist5[df_hm2$artist4 == 'SZA'] <-7\n",
    "#df_hm2 <-df_hm2[df_hm2$artist5 != 0,]\n",
    "#summary(df_hm1)\n",
    "#nrow(df_hm1)\n",
    "\n",
    "#summary(df_hm2)\n",
    "#nrow(df_hm2)\n",
    "\n",
    "#fwrite(df_hm1, \"C:\\\\Users\\\\truev\\\\Documents\\\\Research\\\\Misc\\\\Spotify\\\\2023\\\\data\\\\spotify_hm1_11152023.csv\") \n",
    "#fwrite(df_hm2, \"C:\\\\Users\\\\truev\\\\Documents\\\\Research\\\\Misc\\\\Spotify\\\\2023\\\\data\\\\spotify_hm2_11152023.csv\")\n",
    "#nrow(df_ts)\n",
    "#summary(df_m1)\n",
    "#R.Version() --- DataExplorer is under newer R version(4.3.2) - Oct31.2023"
   ]
  },
  {
   "cell_type": "code",
   "execution_count": 2,
   "id": "f3071e73-6089-425a-b381-4ce32c2da1ca",
   "metadata": {},
   "outputs": [],
   "source": [
    "df_hm1 <- read.csv(\"./data/spotify_hm1_11152023.csv\")\n",
    "df_hm2 <- read.csv(\"./data/spotify_hm2_11152023.csv\")\n",
    "\n",
    "df_hm1$streams_m <- as.integer(df_hm1$streams_m)\n",
    "df_hm2$streams_m <- as.integer(df_hm2$streams_m)\n",
    "\n",
    "#str(df_hm1)\n",
    "#str(df_hm2)"
   ]
  },
  {
   "cell_type": "code",
   "execution_count": 3,
   "id": "1ded3c27-04ba-469c-b630-80c87d010982",
   "metadata": {},
   "outputs": [
    {
     "data": {
      "text/plain": [
       "\n",
       " 0  1 \n",
       "50 37 "
      ]
     },
     "metadata": {},
     "output_type": "display_data"
    },
    {
     "data": {
      "text/plain": [
       "\n",
       " 1  2  3  4  5  6  7 \n",
       "37 35 26 19 17 13 23 "
      ]
     },
     "metadata": {},
     "output_type": "display_data"
    }
   ],
   "source": [
    "table(df_hm1$ts)\n",
    "table(df_hm2$artist5)"
   ]
  },
  {
   "cell_type": "code",
   "execution_count": 4,
   "id": "27534366-f58e-494c-a22c-42e64a33f165",
   "metadata": {},
   "outputs": [
    {
     "data": {
      "image/png": "[encoded data removed]",
      "text/plain": [
       "Plot with title \"Histogram of df_hm2$streams_m\""
      ]
     },
     "metadata": {
      "image/png": {
       "height": 420,
       "width": 420
      }
     },
     "output_type": "display_data"
    }
   ],
   "source": [
    "hist(df_hm2$streams_m)"
   ]
  },
  {
   "cell_type": "code",
   "execution_count": 5,
   "id": "020e51ea-b256-43e5-8f30-3659da15c153",
   "metadata": {},
   "outputs": [
    {
     "data": {
      "image/png": "[encoded data removed]",
      "text/plain": [
       "plot without title"
      ]
     },
     "metadata": {
      "image/png": {
       "height": 420,
       "width": 420
      }
     },
     "output_type": "display_data"
    }
   ],
   "source": [
    "boxplot(streams_m ~ artist5, data=df_hm2)"
   ]
  },
  {
   "cell_type": "code",
   "execution_count": 6,
   "id": "95ab69d6-ccbf-4e56-b36f-e4229523477c",
   "metadata": {},
   "outputs": [
    {
     "data": {
      "text/plain": [
       "    Min.  1st Qu.   Median     Mean  3rd Qu.     Max. \n",
       "   0.021    2.983    9.852   61.127   29.980 4858.786 "
      ]
     },
     "metadata": {},
     "output_type": "display_data"
    }
   ],
   "source": [
    "set.seed(112)\n",
    "n_sim = 500\n",
    "alpha_pri = rexp(n_sim, rate=1.0/2.0)\n",
    "beta_pri = rexp(n_sim, rate=5.0)\n",
    "mu_pri = alpha_pri/beta_pri\n",
    "sig_pri = sqrt(alpha_pri/beta_pri^2)\n",
    "\n",
    "summary(mu_pri)"
   ]
  },
  {
   "cell_type": "code",
   "execution_count": 7,
   "id": "98c85407-6331-484d-9431-d4e1706e77a9",
   "metadata": {},
   "outputs": [
    {
     "data": {
      "text/plain": [
       "     Min.   1st Qu.    Median      Mean   3rd Qu.      Max. \n",
       "   0.1834    3.3663    8.5488   41.8137   22.2219 2865.6461 "
      ]
     },
     "metadata": {},
     "output_type": "display_data"
    }
   ],
   "source": [
    "summary(sig_pri)"
   ]
  },
  {
   "cell_type": "code",
   "execution_count": 8,
   "id": "1dfbb798-288c-411b-b5cf-a5738c706ab5",
   "metadata": {},
   "outputs": [
    {
     "data": {
      "text/plain": [
       "     Min.   1st Qu.    Median      Mean   3rd Qu.      Max. \n",
       "    0.000     1.171     7.667    83.062    28.621 11005.331 "
      ]
     },
     "metadata": {},
     "output_type": "display_data"
    }
   ],
   "source": [
    "lam_pri = rgamma(n=n_sim, shape=alpha_pri, rate=beta_pri)\n",
    "summary(lam_pri)"
   ]
  },
  {
   "cell_type": "code",
   "execution_count": 9,
   "id": "3a7dcea8-2e9f-4c11-a9bc-c6b821125c40",
   "metadata": {},
   "outputs": [
    {
     "data": {
      "text/html": [
       "<style>\n",
       ".list-inline {list-style: none; margin:0; padding: 0}\n",
       ".list-inline>li {display: inline-block}\n",
       ".list-inline>li:not(:last-child)::after {content: \"\\00b7\"; padding: 0 .5ex}\n",
       "</style>\n",
       "<ol class=list-inline><li>66.4440843636818</li><li>9.94668814963168</li><li>6.02831859742304</li><li>15.9225682026514</li><li>47.978587357679</li></ol>\n"
      ],
      "text/latex": [
       "\\begin{enumerate*}\n",
       "\\item 66.4440843636818\n",
       "\\item 9.94668814963168\n",
       "\\item 6.02831859742304\n",
       "\\item 15.9225682026514\n",
       "\\item 47.978587357679\n",
       "\\end{enumerate*}\n"
      ],
      "text/markdown": [
       "1. 66.4440843636818\n",
       "2. 9.94668814963168\n",
       "3. 6.02831859742304\n",
       "4. 15.9225682026514\n",
       "5. 47.978587357679\n",
       "\n",
       "\n"
      ],
      "text/plain": [
       "[1] 66.444084  9.946688  6.028319 15.922568 47.978587"
      ]
     },
     "metadata": {},
     "output_type": "display_data"
    }
   ],
   "source": [
    "(lam_pri = rgamma(n=5, shape=alpha_pri[1:5], rate=beta_pri[1:5]))"
   ]
  },
  {
   "cell_type": "code",
   "execution_count": 10,
   "id": "8a0a4e7a-d8f2-4ef3-be5b-8001fcf94563",
   "metadata": {},
   "outputs": [
    {
     "data": {
      "text/html": [
       "<style>\n",
       ".list-inline {list-style: none; margin:0; padding: 0}\n",
       ".list-inline>li {display: inline-block}\n",
       ".list-inline>li:not(:last-child)::after {content: \"\\00b7\"; padding: 0 .5ex}\n",
       "</style>\n",
       "<ol class=list-inline><li>63</li><li>58</li><li>64</li><li>63</li><li>70</li><li>62</li><li>61</li><li>48</li><li>71</li><li>73</li><li>70</li><li>77</li><li>66</li><li>60</li><li>72</li><li>77</li><li>69</li><li>62</li><li>66</li><li>71</li><li>49</li><li>80</li><li>66</li><li>75</li><li>74</li><li>55</li><li>62</li><li>90</li><li>65</li><li>57</li><li>12</li><li>9</li><li>7</li><li>10</li><li>12</li><li>10</li><li>11</li><li>7</li><li>14</li><li>13</li><li>9</li><li>6</li><li>6</li><li>13</li><li>7</li><li>10</li><li>12</li><li>9</li><li>9</li><li>10</li><li>7</li><li>8</li><li>6</li><li>9</li><li>7</li><li>10</li><li>13</li><li>13</li><li>8</li><li>12</li><li>6</li><li>10</li><li>3</li><li>6</li><li>7</li><li>4</li><li>6</li><li>7</li><li>5</li><li>5</li><li>4</li><li>3</li><li>6</li><li>2</li><li>8</li><li>4</li><li>8</li><li>4</li><li>5</li><li>7</li><li>1</li><li>4</li><li>5</li><li>3</li><li>8</li><li>8</li><li>3</li><li>1</li><li>7</li><li>3</li><li>16</li><li>14</li><li>13</li><li>17</li><li>17</li><li>12</li><li>13</li><li>13</li><li>16</li><li>16</li><li>15</li><li>14</li><li>11</li><li>10</li><li>13</li><li>17</li><li>16</li><li>19</li><li>16</li><li>17</li><li>15</li><li>16</li><li>7</li><li>17</li><li>21</li><li>16</li><li>12</li><li>15</li><li>14</li><li>13</li><li>52</li><li>44</li><li>51</li><li>46</li><li>39</li><li>40</li><li>40</li><li>44</li><li>46</li><li>59</li><li>45</li><li>49</li><li>58</li><li>42</li><li>31</li><li>52</li><li>43</li><li>47</li><li>53</li><li>41</li><li>48</li><li>57</li><li>35</li><li>60</li><li>51</li><li>58</li><li>36</li><li>34</li><li>41</li><li>59</li></ol>\n"
      ],
      "text/latex": [
       "\\begin{enumerate*}\n",
       "\\item 63\n",
       "\\item 58\n",
       "\\item 64\n",
       "\\item 63\n",
       "\\item 70\n",
       "\\item 62\n",
       "\\item 61\n",
       "\\item 48\n",
       "\\item 71\n",
       "\\item 73\n",
       "\\item 70\n",
       "\\item 77\n",
       "\\item 66\n",
       "\\item 60\n",
       "\\item 72\n",
       "\\item 77\n",
       "\\item 69\n",
       "\\item 62\n",
       "\\item 66\n",
       "\\item 71\n",
       "\\item 49\n",
       "\\item 80\n",
       "\\item 66\n",
       "\\item 75\n",
       "\\item 74\n",
       "\\item 55\n",
       "\\item 62\n",
       "\\item 90\n",
       "\\item 65\n",
       "\\item 57\n",
       "\\item 12\n",
       "\\item 9\n",
       "\\item 7\n",
       "\\item 10\n",
       "\\item 12\n",
       "\\item 10\n",
       "\\item 11\n",
       "\\item 7\n",
       "\\item 14\n",
       "\\item 13\n",
       "\\item 9\n",
       "\\item 6\n",
       "\\item 6\n",
       "\\item 13\n",
       "\\item 7\n",
       "\\item 10\n",
       "\\item 12\n",
       "\\item 9\n",
       "\\item 9\n",
       "\\item 10\n",
       "\\item 7\n",
       "\\item 8\n",
       "\\item 6\n",
       "\\item 9\n",
       "\\item 7\n",
       "\\item 10\n",
       "\\item 13\n",
       "\\item 13\n",
       "\\item 8\n",
       "\\item 12\n",
       "\\item 6\n",
       "\\item 10\n",
       "\\item 3\n",
       "\\item 6\n",
       "\\item 7\n",
       "\\item 4\n",
       "\\item 6\n",
       "\\item 7\n",
       "\\item 5\n",
       "\\item 5\n",
       "\\item 4\n",
       "\\item 3\n",
       "\\item 6\n",
       "\\item 2\n",
       "\\item 8\n",
       "\\item 4\n",
       "\\item 8\n",
       "\\item 4\n",
       "\\item 5\n",
       "\\item 7\n",
       "\\item 1\n",
       "\\item 4\n",
       "\\item 5\n",
       "\\item 3\n",
       "\\item 8\n",
       "\\item 8\n",
       "\\item 3\n",
       "\\item 1\n",
       "\\item 7\n",
       "\\item 3\n",
       "\\item 16\n",
       "\\item 14\n",
       "\\item 13\n",
       "\\item 17\n",
       "\\item 17\n",
       "\\item 12\n",
       "\\item 13\n",
       "\\item 13\n",
       "\\item 16\n",
       "\\item 16\n",
       "\\item 15\n",
       "\\item 14\n",
       "\\item 11\n",
       "\\item 10\n",
       "\\item 13\n",
       "\\item 17\n",
       "\\item 16\n",
       "\\item 19\n",
       "\\item 16\n",
       "\\item 17\n",
       "\\item 15\n",
       "\\item 16\n",
       "\\item 7\n",
       "\\item 17\n",
       "\\item 21\n",
       "\\item 16\n",
       "\\item 12\n",
       "\\item 15\n",
       "\\item 14\n",
       "\\item 13\n",
       "\\item 52\n",
       "\\item 44\n",
       "\\item 51\n",
       "\\item 46\n",
       "\\item 39\n",
       "\\item 40\n",
       "\\item 40\n",
       "\\item 44\n",
       "\\item 46\n",
       "\\item 59\n",
       "\\item 45\n",
       "\\item 49\n",
       "\\item 58\n",
       "\\item 42\n",
       "\\item 31\n",
       "\\item 52\n",
       "\\item 43\n",
       "\\item 47\n",
       "\\item 53\n",
       "\\item 41\n",
       "\\item 48\n",
       "\\item 57\n",
       "\\item 35\n",
       "\\item 60\n",
       "\\item 51\n",
       "\\item 58\n",
       "\\item 36\n",
       "\\item 34\n",
       "\\item 41\n",
       "\\item 59\n",
       "\\end{enumerate*}\n"
      ],
      "text/markdown": [
       "1. 63\n",
       "2. 58\n",
       "3. 64\n",
       "4. 63\n",
       "5. 70\n",
       "6. 62\n",
       "7. 61\n",
       "8. 48\n",
       "9. 71\n",
       "10. 73\n",
       "11. 70\n",
       "12. 77\n",
       "13. 66\n",
       "14. 60\n",
       "15. 72\n",
       "16. 77\n",
       "17. 69\n",
       "18. 62\n",
       "19. 66\n",
       "20. 71\n",
       "21. 49\n",
       "22. 80\n",
       "23. 66\n",
       "24. 75\n",
       "25. 74\n",
       "26. 55\n",
       "27. 62\n",
       "28. 90\n",
       "29. 65\n",
       "30. 57\n",
       "31. 12\n",
       "32. 9\n",
       "33. 7\n",
       "34. 10\n",
       "35. 12\n",
       "36. 10\n",
       "37. 11\n",
       "38. 7\n",
       "39. 14\n",
       "40. 13\n",
       "41. 9\n",
       "42. 6\n",
       "43. 6\n",
       "44. 13\n",
       "45. 7\n",
       "46. 10\n",
       "47. 12\n",
       "48. 9\n",
       "49. 9\n",
       "50. 10\n",
       "51. 7\n",
       "52. 8\n",
       "53. 6\n",
       "54. 9\n",
       "55. 7\n",
       "56. 10\n",
       "57. 13\n",
       "58. 13\n",
       "59. 8\n",
       "60. 12\n",
       "61. 6\n",
       "62. 10\n",
       "63. 3\n",
       "64. 6\n",
       "65. 7\n",
       "66. 4\n",
       "67. 6\n",
       "68. 7\n",
       "69. 5\n",
       "70. 5\n",
       "71. 4\n",
       "72. 3\n",
       "73. 6\n",
       "74. 2\n",
       "75. 8\n",
       "76. 4\n",
       "77. 8\n",
       "78. 4\n",
       "79. 5\n",
       "80. 7\n",
       "81. 1\n",
       "82. 4\n",
       "83. 5\n",
       "84. 3\n",
       "85. 8\n",
       "86. 8\n",
       "87. 3\n",
       "88. 1\n",
       "89. 7\n",
       "90. 3\n",
       "91. 16\n",
       "92. 14\n",
       "93. 13\n",
       "94. 17\n",
       "95. 17\n",
       "96. 12\n",
       "97. 13\n",
       "98. 13\n",
       "99. 16\n",
       "100. 16\n",
       "101. 15\n",
       "102. 14\n",
       "103. 11\n",
       "104. 10\n",
       "105. 13\n",
       "106. 17\n",
       "107. 16\n",
       "108. 19\n",
       "109. 16\n",
       "110. 17\n",
       "111. 15\n",
       "112. 16\n",
       "113. 7\n",
       "114. 17\n",
       "115. 21\n",
       "116. 16\n",
       "117. 12\n",
       "118. 15\n",
       "119. 14\n",
       "120. 13\n",
       "121. 52\n",
       "122. 44\n",
       "123. 51\n",
       "124. 46\n",
       "125. 39\n",
       "126. 40\n",
       "127. 40\n",
       "128. 44\n",
       "129. 46\n",
       "130. 59\n",
       "131. 45\n",
       "132. 49\n",
       "133. 58\n",
       "134. 42\n",
       "135. 31\n",
       "136. 52\n",
       "137. 43\n",
       "138. 47\n",
       "139. 53\n",
       "140. 41\n",
       "141. 48\n",
       "142. 57\n",
       "143. 35\n",
       "144. 60\n",
       "145. 51\n",
       "146. 58\n",
       "147. 36\n",
       "148. 34\n",
       "149. 41\n",
       "150. 59\n",
       "\n",
       "\n"
      ],
      "text/plain": [
       "  [1] 63 58 64 63 70 62 61 48 71 73 70 77 66 60 72 77 69 62 66 71 49 80 66 75 74\n",
       " [26] 55 62 90 65 57 12  9  7 10 12 10 11  7 14 13  9  6  6 13  7 10 12  9  9 10\n",
       " [51]  7  8  6  9  7 10 13 13  8 12  6 10  3  6  7  4  6  7  5  5  4  3  6  2  8\n",
       " [76]  4  8  4  5  7  1  4  5  3  8  8  3  1  7  3 16 14 13 17 17 12 13 13 16 16\n",
       "[101] 15 14 11 10 13 17 16 19 16 17 15 16  7 17 21 16 12 15 14 13 52 44 51 46 39\n",
       "[126] 40 40 44 46 59 45 49 58 42 31 52 43 47 53 41 48 57 35 60 51 58 36 34 41 59"
      ]
     },
     "metadata": {},
     "output_type": "display_data"
    }
   ],
   "source": [
    "(y_pri = rpois(n=150, lambda=rep(lam_pri, each=30)))"
   ]
  },
  {
   "cell_type": "code",
   "execution_count": 11,
   "id": "94a44f04-04c6-4fb9-be1c-6d2548884b2d",
   "metadata": {},
   "outputs": [
    {
     "name": "stderr",
     "output_type": "stream",
     "text": [
      "Loading required package: coda\n",
      "\n",
      "Linked to JAGS 4.3.1\n",
      "\n",
      "Loaded modules: basemod,bugs\n",
      "\n"
     ]
    }
   ],
   "source": [
    "library(\"rjags\")"
   ]
  },
  {
   "cell_type": "code",
   "execution_count": 12,
   "id": "d9ffc49b-c49c-4475-ba45-7503d4738806",
   "metadata": {},
   "outputs": [
    {
     "name": "stderr",
     "output_type": "stream",
     "text": [
      "Warning message in jags.model(textConnection(mod_string), data = data_jags, n.chains = 3):\n",
      "\"Unused variable \"track_name\" in data\"\n",
      "Warning message in jags.model(textConnection(mod_string), data = data_jags, n.chains = 3):\n",
      "\"Unused variable \"artist_name\" in data\"\n",
      "Warning message in jags.model(textConnection(mod_string), data = data_jags, n.chains = 3):\n",
      "\"Unused variable \"artist_count\" in data\"\n",
      "Warning message in jags.model(textConnection(mod_string), data = data_jags, n.chains = 3):\n",
      "\"Unused variable \"released_year\" in data\"\n",
      "Warning message in jags.model(textConnection(mod_string), data = data_jags, n.chains = 3):\n",
      "\"Unused variable \"released_month\" in data\"\n",
      "Warning message in jags.model(textConnection(mod_string), data = data_jags, n.chains = 3):\n",
      "\"Unused variable \"released_day\" in data\"\n",
      "Warning message in jags.model(textConnection(mod_string), data = data_jags, n.chains = 3):\n",
      "\"Unused variable \"in_spotify_playlists\" in data\"\n",
      "Warning message in jags.model(textConnection(mod_string), data = data_jags, n.chains = 3):\n",
      "\"Unused variable \"in_spotify_charts\" in data\"\n",
      "Warning message in jags.model(textConnection(mod_string), data = data_jags, n.chains = 3):\n",
      "\"Unused variable \"streams\" in data\"\n",
      "Warning message in jags.model(textConnection(mod_string), data = data_jags, n.chains = 3):\n",
      "\"Unused variable \"in_apple_playlists\" in data\"\n",
      "Warning message in jags.model(textConnection(mod_string), data = data_jags, n.chains = 3):\n",
      "\"Unused variable \"in_apple_charts\" in data\"\n",
      "Warning message in jags.model(textConnection(mod_string), data = data_jags, n.chains = 3):\n",
      "\"Unused variable \"in_deezer_playlists\" in data\"\n",
      "Warning message in jags.model(textConnection(mod_string), data = data_jags, n.chains = 3):\n",
      "\"Unused variable \"in_deezer_charts\" in data\"\n",
      "Warning message in jags.model(textConnection(mod_string), data = data_jags, n.chains = 3):\n",
      "\"Unused variable \"in_shazam_charts\" in data\"\n",
      "Warning message in jags.model(textConnection(mod_string), data = data_jags, n.chains = 3):\n",
      "\"Unused variable \"bpm\" in data\"\n",
      "Warning message in jags.model(textConnection(mod_string), data = data_jags, n.chains = 3):\n",
      "\"Unused variable \"key\" in data\"\n",
      "Warning message in jags.model(textConnection(mod_string), data = data_jags, n.chains = 3):\n",
      "\"Unused variable \"mode\" in data\"\n",
      "Warning message in jags.model(textConnection(mod_string), data = data_jags, n.chains = 3):\n",
      "\"Unused variable \"danceability_.\" in data\"\n",
      "Warning message in jags.model(textConnection(mod_string), data = data_jags, n.chains = 3):\n",
      "\"Unused variable \"valence_.\" in data\"\n",
      "Warning message in jags.model(textConnection(mod_string), data = data_jags, n.chains = 3):\n",
      "\"Unused variable \"energy_.\" in data\"\n",
      "Warning message in jags.model(textConnection(mod_string), data = data_jags, n.chains = 3):\n",
      "\"Unused variable \"acousticness_.\" in data\"\n",
      "Warning message in jags.model(textConnection(mod_string), data = data_jags, n.chains = 3):\n",
      "\"Unused variable \"instrumentalness_.\" in data\"\n",
      "Warning message in jags.model(textConnection(mod_string), data = data_jags, n.chains = 3):\n",
      "\"Unused variable \"liveness_.\" in data\"\n",
      "Warning message in jags.model(textConnection(mod_string), data = data_jags, n.chains = 3):\n",
      "\"Unused variable \"speechiness_.\" in data\"\n",
      "Warning message in jags.model(textConnection(mod_string), data = data_jags, n.chains = 3):\n",
      "\"Unused variable \"artist1\" in data\"\n",
      "Warning message in jags.model(textConnection(mod_string), data = data_jags, n.chains = 3):\n",
      "\"Unused variable \"artist2\" in data\"\n",
      "Warning message in jags.model(textConnection(mod_string), data = data_jags, n.chains = 3):\n",
      "\"Unused variable \"artist3\" in data\"\n",
      "Warning message in jags.model(textConnection(mod_string), data = data_jags, n.chains = 3):\n",
      "\"Unused variable \"in_deezer_playlists_m\" in data\"\n",
      "Warning message in jags.model(textConnection(mod_string), data = data_jags, n.chains = 3):\n",
      "\"Unused variable \"in_shazam_charts_m\" in data\"\n",
      "Warning message in jags.model(textConnection(mod_string), data = data_jags, n.chains = 3):\n",
      "\"Unused variable \"outlier\" in data\"\n",
      "Warning message in jags.model(textConnection(mod_string), data = data_jags, n.chains = 3):\n",
      "\"Unused variable \"key_m\" in data\"\n",
      "Warning message in jags.model(textConnection(mod_string), data = data_jags, n.chains = 3):\n",
      "\"Unused variable \"mode_m\" in data\"\n",
      "Warning message in jags.model(textConnection(mod_string), data = data_jags, n.chains = 3):\n",
      "\"Unused variable \"artist4\" in data\"\n"
     ]
    },
    {
     "name": "stdout",
     "output_type": "stream",
     "text": [
      "Compiling model graph\n",
      "   Resolving undeclared variables\n",
      "   Allocating nodes\n",
      "Graph information:\n",
      "   Observed stochastic nodes: 170\n",
      "   Unobserved stochastic nodes: 9\n",
      "   Total graph size: 358\n",
      "\n",
      "Initializing model\n",
      "\n"
     ]
    },
    {
     "data": {
      "image/png": "[encoded data removed]",
      "text/plain": [
       "Plot with title \"Density of lam[4]\""
      ]
     },
     "metadata": {
      "image/png": {
       "height": 420,
       "width": 420
      }
     },
     "output_type": "display_data"
    },
    {
     "data": {
      "image/png": "[encoded data removed]",
      "text/plain": [
       "Plot with title \"Density of mu\""
      ]
     },
     "metadata": {
      "image/png": {
       "height": 420,
       "width": 420
      }
     },
     "output_type": "display_data"
    },
    {
     "data": {
      "text/plain": [
       "Potential scale reduction factors:\n",
       "\n",
       "       Point est. Upper C.I.\n",
       "lam[1]          1          1\n",
       "lam[2]          1          1\n",
       "lam[3]          1          1\n",
       "lam[4]          1          1\n",
       "lam[5]          1          1\n",
       "lam[6]          1          1\n",
       "lam[7]          1          1\n",
       "mu              1          1\n",
       "sig             1          1\n",
       "\n",
       "Multivariate psrf\n",
       "\n",
       "1"
      ]
     },
     "metadata": {},
     "output_type": "display_data"
    },
    {
     "data": {
      "text/html": [
       "<table class=\"dataframe\">\n",
       "<caption>A matrix: 5 × 9 of type dbl</caption>\n",
       "<thead>\n",
       "\t<tr><th></th><th scope=col>lam[1]</th><th scope=col>lam[2]</th><th scope=col>lam[3]</th><th scope=col>lam[4]</th><th scope=col>lam[5]</th><th scope=col>lam[6]</th><th scope=col>lam[7]</th><th scope=col>mu</th><th scope=col>sig</th></tr>\n",
       "</thead>\n",
       "<tbody>\n",
       "\t<tr><th scope=row>Lag 0</th><td> 1.000000000</td><td> 1.0000000000</td><td> 1.000000000</td><td> 1.000000000</td><td> 1.000000000</td><td> 1.0000000000</td><td> 1.000000000</td><td> 1.000000000</td><td> 1.000000000</td></tr>\n",
       "\t<tr><th scope=row>Lag 1</th><td>-0.016290443</td><td>-0.0198606050</td><td> 0.001002684</td><td>-0.009970487</td><td> 0.003358555</td><td> 0.0196828325</td><td>-0.006467072</td><td> 0.401058403</td><td> 0.409229362</td></tr>\n",
       "\t<tr><th scope=row>Lag 5</th><td> 0.000249243</td><td>-0.0003403046</td><td>-0.007625921</td><td>-0.005566338</td><td>-0.013390713</td><td> 0.0004250693</td><td>-0.005797561</td><td> 0.008700381</td><td> 0.016498832</td></tr>\n",
       "\t<tr><th scope=row>Lag 10</th><td>-0.011576397</td><td> 0.0058168010</td><td> 0.006653193</td><td>-0.004705302</td><td> 0.012685462</td><td> 0.0058392753</td><td> 0.005795769</td><td>-0.015357254</td><td>-0.006828845</td></tr>\n",
       "\t<tr><th scope=row>Lag 50</th><td>-0.006857050</td><td> 0.0030661882</td><td>-0.014329754</td><td> 0.012460788</td><td> 0.001385289</td><td>-0.0011220638</td><td>-0.007800190</td><td> 0.002650107</td><td> 0.009335136</td></tr>\n",
       "</tbody>\n",
       "</table>\n"
      ],
      "text/latex": [
       "A matrix: 5 × 9 of type dbl\n",
       "\\begin{tabular}{r|lllllllll}\n",
       "  & lam{[}1{]} & lam{[}2{]} & lam{[}3{]} & lam{[}4{]} & lam{[}5{]} & lam{[}6{]} & lam{[}7{]} & mu & sig\\\\\n",
       "\\hline\n",
       "\tLag 0 &  1.000000000 &  1.0000000000 &  1.000000000 &  1.000000000 &  1.000000000 &  1.0000000000 &  1.000000000 &  1.000000000 &  1.000000000\\\\\n",
       "\tLag 1 & -0.016290443 & -0.0198606050 &  0.001002684 & -0.009970487 &  0.003358555 &  0.0196828325 & -0.006467072 &  0.401058403 &  0.409229362\\\\\n",
       "\tLag 5 &  0.000249243 & -0.0003403046 & -0.007625921 & -0.005566338 & -0.013390713 &  0.0004250693 & -0.005797561 &  0.008700381 &  0.016498832\\\\\n",
       "\tLag 10 & -0.011576397 &  0.0058168010 &  0.006653193 & -0.004705302 &  0.012685462 &  0.0058392753 &  0.005795769 & -0.015357254 & -0.006828845\\\\\n",
       "\tLag 50 & -0.006857050 &  0.0030661882 & -0.014329754 &  0.012460788 &  0.001385289 & -0.0011220638 & -0.007800190 &  0.002650107 &  0.009335136\\\\\n",
       "\\end{tabular}\n"
      ],
      "text/markdown": [
       "\n",
       "A matrix: 5 × 9 of type dbl\n",
       "\n",
       "| <!--/--> | lam[1] | lam[2] | lam[3] | lam[4] | lam[5] | lam[6] | lam[7] | mu | sig |\n",
       "|---|---|---|---|---|---|---|---|---|---|\n",
       "| Lag 0 |  1.000000000 |  1.0000000000 |  1.000000000 |  1.000000000 |  1.000000000 |  1.0000000000 |  1.000000000 |  1.000000000 |  1.000000000 |\n",
       "| Lag 1 | -0.016290443 | -0.0198606050 |  0.001002684 | -0.009970487 |  0.003358555 |  0.0196828325 | -0.006467072 |  0.401058403 |  0.409229362 |\n",
       "| Lag 5 |  0.000249243 | -0.0003403046 | -0.007625921 | -0.005566338 | -0.013390713 |  0.0004250693 | -0.005797561 |  0.008700381 |  0.016498832 |\n",
       "| Lag 10 | -0.011576397 |  0.0058168010 |  0.006653193 | -0.004705302 |  0.012685462 |  0.0058392753 |  0.005795769 | -0.015357254 | -0.006828845 |\n",
       "| Lag 50 | -0.006857050 |  0.0030661882 | -0.014329754 |  0.012460788 |  0.001385289 | -0.0011220638 | -0.007800190 |  0.002650107 |  0.009335136 |\n",
       "\n"
      ],
      "text/plain": [
       "       lam[1]       lam[2]        lam[3]       lam[4]       lam[5]      \n",
       "Lag 0   1.000000000  1.0000000000  1.000000000  1.000000000  1.000000000\n",
       "Lag 1  -0.016290443 -0.0198606050  0.001002684 -0.009970487  0.003358555\n",
       "Lag 5   0.000249243 -0.0003403046 -0.007625921 -0.005566338 -0.013390713\n",
       "Lag 10 -0.011576397  0.0058168010  0.006653193 -0.004705302  0.012685462\n",
       "Lag 50 -0.006857050  0.0030661882 -0.014329754  0.012460788  0.001385289\n",
       "       lam[6]        lam[7]       mu           sig         \n",
       "Lag 0   1.0000000000  1.000000000  1.000000000  1.000000000\n",
       "Lag 1   0.0196828325 -0.006467072  0.401058403  0.409229362\n",
       "Lag 5   0.0004250693 -0.005797561  0.008700381  0.016498832\n",
       "Lag 10  0.0058392753  0.005795769 -0.015357254 -0.006828845\n",
       "Lag 50 -0.0011220638 -0.007800190  0.002650107  0.009335136"
      ]
     },
     "metadata": {},
     "output_type": "display_data"
    },
    {
     "data": {
      "image/png": "[encoded data removed]",
      "text/plain": [
       "Plot with title \"Density of sig\""
      ]
     },
     "metadata": {
      "image/png": {
       "height": 420,
       "width": 420
      }
     },
     "output_type": "display_data"
    },
    {
     "data": {
      "image/png": "[encoded data removed]",
      "text/plain": [
       "Plot with title \"sig\""
      ]
     },
     "metadata": {
      "image/png": {
       "height": 420,
       "width": 420
      }
     },
     "output_type": "display_data"
    },
    {
     "data": {
      "image/png": "[encoded data removed]",
      "text/plain": [
       "Plot with title \"sig\""
      ]
     },
     "metadata": {
      "image/png": {
       "height": 420,
       "width": 420
      }
     },
     "output_type": "display_data"
    },
    {
     "data": {
      "text/html": [
       "<style>\n",
       ".dl-inline {width: auto; margin:0; padding: 0}\n",
       ".dl-inline>dt, .dl-inline>dd {float: none; width: auto; display: inline-block}\n",
       ".dl-inline>dt::after {content: \":\\0020\"; padding-right: .5ex}\n",
       ".dl-inline>dt:not(:first-of-type) {padding-left: .5ex}\n",
       "</style><dl class=dl-inline><dt>lam[1]</dt><dd>15058.6919219041</dd><dt>lam[2]</dt><dd>15595.7496563598</dd><dt>lam[3]</dt><dd>14810.4463730858</dd><dt>lam[4]</dt><dd>15000</dd><dt>lam[5]</dt><dd>15240.4453945074</dd><dt>lam[6]</dt><dd>15566.8995086009</dd><dt>lam[7]</dt><dd>15018.5582113873</dd><dt>mu</dt><dd>5981.23661081248</dd><dt>sig</dt><dd>5829.82982825472</dd></dl>\n"
      ],
      "text/latex": [
       "\\begin{description*}\n",
       "\\item[lam\\{{[}\\}1\\{{]}\\}] 15058.6919219041\n",
       "\\item[lam\\{{[}\\}2\\{{]}\\}] 15595.7496563598\n",
       "\\item[lam\\{{[}\\}3\\{{]}\\}] 14810.4463730858\n",
       "\\item[lam\\{{[}\\}4\\{{]}\\}] 15000\n",
       "\\item[lam\\{{[}\\}5\\{{]}\\}] 15240.4453945074\n",
       "\\item[lam\\{{[}\\}6\\{{]}\\}] 15566.8995086009\n",
       "\\item[lam\\{{[}\\}7\\{{]}\\}] 15018.5582113873\n",
       "\\item[mu] 5981.23661081248\n",
       "\\item[sig] 5829.82982825472\n",
       "\\end{description*}\n"
      ],
      "text/markdown": [
       "lam[1]\n",
       ":   15058.6919219041lam[2]\n",
       ":   15595.7496563598lam[3]\n",
       ":   14810.4463730858lam[4]\n",
       ":   15000lam[5]\n",
       ":   15240.4453945074lam[6]\n",
       ":   15566.8995086009lam[7]\n",
       ":   15018.5582113873mu\n",
       ":   5981.23661081248sig\n",
       ":   5829.82982825472\n",
       "\n"
      ],
      "text/plain": [
       "   lam[1]    lam[2]    lam[3]    lam[4]    lam[5]    lam[6]    lam[7]        mu \n",
       "15058.692 15595.750 14810.446 15000.000 15240.445 15566.900 15018.558  5981.237 \n",
       "      sig \n",
       " 5829.830 "
      ]
     },
     "metadata": {},
     "output_type": "display_data"
    },
    {
     "data": {
      "text/plain": [
       "Mean deviance:  88038 \n",
       "penalty 6.943 \n",
       "Penalized deviance: 88045 "
      ]
     },
     "metadata": {},
     "output_type": "display_data"
    },
    {
     "data": {
      "image/png": "[encoded data removed]",
      "text/plain": [
       "Plot with title \"sig\""
      ]
     },
     "metadata": {
      "image/png": {
       "height": 420,
       "width": 420
      }
     },
     "output_type": "display_data"
    }
   ],
   "source": [
    "mod_string = \" model {\n",
    "for (i in 1:length(streams_m)) {\n",
    "  streams_m[i] ~ dpois(lam[artist5[i]])\n",
    "}\n",
    "\n",
    "for (j in 1:max(artist5)) {\n",
    "  lam[j] ~ dgamma(alpha, beta)\n",
    "}\n",
    "\n",
    "alpha = mu^2 / sig^2\n",
    "beta = mu / sig^2\n",
    "\n",
    "mu ~ dgamma(150.0, 1.0/10.0)\n",
    "sig ~ dexp(1.0)\n",
    "\n",
    "} \"\n",
    "\n",
    "set.seed(113)\n",
    "\n",
    "data_jags = as.list(df_hm2)\n",
    "\n",
    "params = c(\"lam\", \"mu\", \"sig\")\n",
    "\n",
    "mod = jags.model(textConnection(mod_string), data=data_jags, n.chains=3)\n",
    "update(mod, 1e3)\n",
    "\n",
    "mod_sim = coda.samples(model=mod,\n",
    "                       variable.names=params,\n",
    "                       n.iter=5e3)\n",
    "mod_csim = as.mcmc(do.call(rbind, mod_sim))\n",
    "\n",
    "## convergence diagnostics\n",
    "plot(mod_sim)\n",
    "\n",
    "gelman.diag(mod_sim)\n",
    "autocorr.diag(mod_sim)\n",
    "autocorr.plot(mod_sim)\n",
    "effectiveSize(mod_sim)\n",
    "\n",
    "## compute DIC\n",
    "dic = dic.samples(mod, n.iter=1e3)\n",
    "dic"
   ]
  },
  {
   "cell_type": "code",
   "execution_count": 13,
   "id": "ff8febd0-a4e3-4424-9267-46ab77f90152",
   "metadata": {},
   "outputs": [
    {
     "data": {
      "image/png": "[encoded data removed]",
      "text/plain": [
       "Plot with title \"Trace of sig\""
      ]
     },
     "metadata": {
      "image/png": {
       "height": 420,
       "width": 420
      }
     },
     "output_type": "display_data"
    }
   ],
   "source": [
    "#library(jagsUI)\n",
    "#par(mfrow = c(3, 4))\n",
    "#traceplot(mod_sim)\n",
    "\n",
    "par(mfrow = c(3, 3))\n",
    "traceplot(mod_sim)\n",
    "#plot(mod_sim)"
   ]
  },
  {
   "cell_type": "code",
   "execution_count": 14,
   "id": "8abaf400-d7a9-4991-8f8d-1948143143bf",
   "metadata": {},
   "outputs": [
    {
     "name": "stderr",
     "output_type": "stream",
     "text": [
      "Warning message:\n",
      "\"package 'jagsUI' was built under R version 4.3.2\"\n",
      "\n",
      "Attaching package: 'jagsUI'\n",
      "\n",
      "\n",
      "The following object is masked from 'package:coda':\n",
      "\n",
      "    traceplot\n",
      "\n",
      "\n"
     ]
    },
    {
     "data": {
      "image/png": "[encoded data removed]",
      "text/plain": [
       "Plot with title \"Density of sig\""
      ]
     },
     "metadata": {
      "image/png": {
       "height": 420,
       "width": 420
      }
     },
     "output_type": "display_data"
    }
   ],
   "source": [
    "#Create density plot for a specific variable\n",
    "#library(coda)\n",
    "#densplot(as.mcmc(mod_sim)[, \"beta\"])\n",
    "\n",
    "library(jagsUI)\n",
    "par(mfrow = c(3, 3))\n",
    "densplot(mod_sim)\n",
    "\n"
   ]
  },
  {
   "cell_type": "code",
   "execution_count": null,
   "id": "d20f9742-6178-4e52-b531-d3a6efd9e822",
   "metadata": {},
   "outputs": [],
   "source": [
    "#Create density plot for a specific variable\n",
    "#library(coda)\n",
    "#densplot(as.mcmc(mod_sim)[, \"beta\"])\n"
   ]
  },
  {
   "cell_type": "code",
   "execution_count": 15,
   "id": "8bed465d-7513-47fc-8c5f-10e0e9488812",
   "metadata": {},
   "outputs": [
    {
     "data": {
      "text/html": [
       "<table class=\"dataframe\">\n",
       "<caption>A matrix: 5 × 9 of type dbl</caption>\n",
       "<thead>\n",
       "\t<tr><th></th><th scope=col>lam[1]</th><th scope=col>lam[2]</th><th scope=col>lam[3]</th><th scope=col>lam[4]</th><th scope=col>lam[5]</th><th scope=col>lam[6]</th><th scope=col>lam[7]</th><th scope=col>mu</th><th scope=col>sig</th></tr>\n",
       "</thead>\n",
       "<tbody>\n",
       "\t<tr><th scope=row>Lag 0</th><td> 1.000000000</td><td> 1.0000000000</td><td> 1.000000000</td><td> 1.000000000</td><td> 1.000000000</td><td> 1.0000000000</td><td> 1.000000000</td><td> 1.000000000</td><td> 1.000000000</td></tr>\n",
       "\t<tr><th scope=row>Lag 1</th><td>-0.016290443</td><td>-0.0198606050</td><td> 0.001002684</td><td>-0.009970487</td><td> 0.003358555</td><td> 0.0196828325</td><td>-0.006467072</td><td> 0.401058403</td><td> 0.409229362</td></tr>\n",
       "\t<tr><th scope=row>Lag 5</th><td> 0.000249243</td><td>-0.0003403046</td><td>-0.007625921</td><td>-0.005566338</td><td>-0.013390713</td><td> 0.0004250693</td><td>-0.005797561</td><td> 0.008700381</td><td> 0.016498832</td></tr>\n",
       "\t<tr><th scope=row>Lag 10</th><td>-0.011576397</td><td> 0.0058168010</td><td> 0.006653193</td><td>-0.004705302</td><td> 0.012685462</td><td> 0.0058392753</td><td> 0.005795769</td><td>-0.015357254</td><td>-0.006828845</td></tr>\n",
       "\t<tr><th scope=row>Lag 50</th><td>-0.006857050</td><td> 0.0030661882</td><td>-0.014329754</td><td> 0.012460788</td><td> 0.001385289</td><td>-0.0011220638</td><td>-0.007800190</td><td> 0.002650107</td><td> 0.009335136</td></tr>\n",
       "</tbody>\n",
       "</table>\n"
      ],
      "text/latex": [
       "A matrix: 5 × 9 of type dbl\n",
       "\\begin{tabular}{r|lllllllll}\n",
       "  & lam{[}1{]} & lam{[}2{]} & lam{[}3{]} & lam{[}4{]} & lam{[}5{]} & lam{[}6{]} & lam{[}7{]} & mu & sig\\\\\n",
       "\\hline\n",
       "\tLag 0 &  1.000000000 &  1.0000000000 &  1.000000000 &  1.000000000 &  1.000000000 &  1.0000000000 &  1.000000000 &  1.000000000 &  1.000000000\\\\\n",
       "\tLag 1 & -0.016290443 & -0.0198606050 &  0.001002684 & -0.009970487 &  0.003358555 &  0.0196828325 & -0.006467072 &  0.401058403 &  0.409229362\\\\\n",
       "\tLag 5 &  0.000249243 & -0.0003403046 & -0.007625921 & -0.005566338 & -0.013390713 &  0.0004250693 & -0.005797561 &  0.008700381 &  0.016498832\\\\\n",
       "\tLag 10 & -0.011576397 &  0.0058168010 &  0.006653193 & -0.004705302 &  0.012685462 &  0.0058392753 &  0.005795769 & -0.015357254 & -0.006828845\\\\\n",
       "\tLag 50 & -0.006857050 &  0.0030661882 & -0.014329754 &  0.012460788 &  0.001385289 & -0.0011220638 & -0.007800190 &  0.002650107 &  0.009335136\\\\\n",
       "\\end{tabular}\n"
      ],
      "text/markdown": [
       "\n",
       "A matrix: 5 × 9 of type dbl\n",
       "\n",
       "| <!--/--> | lam[1] | lam[2] | lam[3] | lam[4] | lam[5] | lam[6] | lam[7] | mu | sig |\n",
       "|---|---|---|---|---|---|---|---|---|---|\n",
       "| Lag 0 |  1.000000000 |  1.0000000000 |  1.000000000 |  1.000000000 |  1.000000000 |  1.0000000000 |  1.000000000 |  1.000000000 |  1.000000000 |\n",
       "| Lag 1 | -0.016290443 | -0.0198606050 |  0.001002684 | -0.009970487 |  0.003358555 |  0.0196828325 | -0.006467072 |  0.401058403 |  0.409229362 |\n",
       "| Lag 5 |  0.000249243 | -0.0003403046 | -0.007625921 | -0.005566338 | -0.013390713 |  0.0004250693 | -0.005797561 |  0.008700381 |  0.016498832 |\n",
       "| Lag 10 | -0.011576397 |  0.0058168010 |  0.006653193 | -0.004705302 |  0.012685462 |  0.0058392753 |  0.005795769 | -0.015357254 | -0.006828845 |\n",
       "| Lag 50 | -0.006857050 |  0.0030661882 | -0.014329754 |  0.012460788 |  0.001385289 | -0.0011220638 | -0.007800190 |  0.002650107 |  0.009335136 |\n",
       "\n"
      ],
      "text/plain": [
       "       lam[1]       lam[2]        lam[3]       lam[4]       lam[5]      \n",
       "Lag 0   1.000000000  1.0000000000  1.000000000  1.000000000  1.000000000\n",
       "Lag 1  -0.016290443 -0.0198606050  0.001002684 -0.009970487  0.003358555\n",
       "Lag 5   0.000249243 -0.0003403046 -0.007625921 -0.005566338 -0.013390713\n",
       "Lag 10 -0.011576397  0.0058168010  0.006653193 -0.004705302  0.012685462\n",
       "Lag 50 -0.006857050  0.0030661882 -0.014329754  0.012460788  0.001385289\n",
       "       lam[6]        lam[7]       mu           sig         \n",
       "Lag 0   1.0000000000  1.000000000  1.000000000  1.000000000\n",
       "Lag 1   0.0196828325 -0.006467072  0.401058403  0.409229362\n",
       "Lag 5   0.0004250693 -0.005797561  0.008700381  0.016498832\n",
       "Lag 10  0.0058392753  0.005795769 -0.015357254 -0.006828845\n",
       "Lag 50 -0.0011220638 -0.007800190  0.002650107  0.009335136"
      ]
     },
     "metadata": {},
     "output_type": "display_data"
    },
    {
     "data": {
      "image/png": "[encoded data removed]",
      "text/plain": [
       "Plot with title \"sig\""
      ]
     },
     "metadata": {
      "image/png": {
       "height": 420,
       "width": 420
      }
     },
     "output_type": "display_data"
    },
    {
     "data": {
      "image/png": "[encoded data removed]",
      "text/plain": [
       "Plot with title \"sig\""
      ]
     },
     "metadata": {
      "image/png": {
       "height": 420,
       "width": 420
      }
     },
     "output_type": "display_data"
    },
    {
     "data": {
      "text/html": [
       "<style>\n",
       ".dl-inline {width: auto; margin:0; padding: 0}\n",
       ".dl-inline>dt, .dl-inline>dd {float: none; width: auto; display: inline-block}\n",
       ".dl-inline>dt::after {content: \":\\0020\"; padding-right: .5ex}\n",
       ".dl-inline>dt:not(:first-of-type) {padding-left: .5ex}\n",
       "</style><dl class=dl-inline><dt>lam[1]</dt><dd>15058.6919219041</dd><dt>lam[2]</dt><dd>15595.7496563598</dd><dt>lam[3]</dt><dd>14810.4463730858</dd><dt>lam[4]</dt><dd>15000</dd><dt>lam[5]</dt><dd>15240.4453945074</dd><dt>lam[6]</dt><dd>15566.8995086009</dd><dt>lam[7]</dt><dd>15018.5582113873</dd><dt>mu</dt><dd>5981.23661081248</dd><dt>sig</dt><dd>5829.82982825472</dd></dl>\n"
      ],
      "text/latex": [
       "\\begin{description*}\n",
       "\\item[lam\\{{[}\\}1\\{{]}\\}] 15058.6919219041\n",
       "\\item[lam\\{{[}\\}2\\{{]}\\}] 15595.7496563598\n",
       "\\item[lam\\{{[}\\}3\\{{]}\\}] 14810.4463730858\n",
       "\\item[lam\\{{[}\\}4\\{{]}\\}] 15000\n",
       "\\item[lam\\{{[}\\}5\\{{]}\\}] 15240.4453945074\n",
       "\\item[lam\\{{[}\\}6\\{{]}\\}] 15566.8995086009\n",
       "\\item[lam\\{{[}\\}7\\{{]}\\}] 15018.5582113873\n",
       "\\item[mu] 5981.23661081248\n",
       "\\item[sig] 5829.82982825472\n",
       "\\end{description*}\n"
      ],
      "text/markdown": [
       "lam[1]\n",
       ":   15058.6919219041lam[2]\n",
       ":   15595.7496563598lam[3]\n",
       ":   14810.4463730858lam[4]\n",
       ":   15000lam[5]\n",
       ":   15240.4453945074lam[6]\n",
       ":   15566.8995086009lam[7]\n",
       ":   15018.5582113873mu\n",
       ":   5981.23661081248sig\n",
       ":   5829.82982825472\n",
       "\n"
      ],
      "text/plain": [
       "   lam[1]    lam[2]    lam[3]    lam[4]    lam[5]    lam[6]    lam[7]        mu \n",
       "15058.692 15595.750 14810.446 15000.000 15240.445 15566.900 15018.558  5981.237 \n",
       "      sig \n",
       " 5829.830 "
      ]
     },
     "metadata": {},
     "output_type": "display_data"
    },
    {
     "data": {
      "image/png": "[encoded data removed]",
      "text/plain": [
       "Plot with title \"sig\""
      ]
     },
     "metadata": {
      "image/png": {
       "height": 420,
       "width": 420
      }
     },
     "output_type": "display_data"
    }
   ],
   "source": [
    "#gelman.diag(mod_sim)\n",
    "par(mfrow = c(4, 4))\n",
    "autocorr.diag(mod_sim)\n",
    "autocorr.plot(mod_sim)\n",
    "effectiveSize(mod_sim)"
   ]
  },
  {
   "cell_type": "code",
   "execution_count": 16,
   "id": "8d2f0098-430f-4cbe-bc42-debd84f5a1fe",
   "metadata": {},
   "outputs": [
    {
     "data": {
      "text/html": [
       "<style>\n",
       ".dl-inline {width: auto; margin:0; padding: 0}\n",
       ".dl-inline>dt, .dl-inline>dd {float: none; width: auto; display: inline-block}\n",
       ".dl-inline>dt::after {content: \":\\0020\"; padding-right: .5ex}\n",
       ".dl-inline>dt:not(:first-of-type) {padding-left: .5ex}\n",
       "</style><dl class=dl-inline><dt>lam[1]</dt><dd>15058.6919219041</dd><dt>lam[2]</dt><dd>15595.7496563598</dd><dt>lam[3]</dt><dd>14810.4463730858</dd><dt>lam[4]</dt><dd>15000</dd><dt>lam[5]</dt><dd>15240.4453945074</dd><dt>lam[6]</dt><dd>15566.8995086009</dd><dt>lam[7]</dt><dd>15018.5582113873</dd><dt>mu</dt><dd>5981.23661081248</dd><dt>sig</dt><dd>5829.82982825472</dd></dl>\n"
      ],
      "text/latex": [
       "\\begin{description*}\n",
       "\\item[lam\\{{[}\\}1\\{{]}\\}] 15058.6919219041\n",
       "\\item[lam\\{{[}\\}2\\{{]}\\}] 15595.7496563598\n",
       "\\item[lam\\{{[}\\}3\\{{]}\\}] 14810.4463730858\n",
       "\\item[lam\\{{[}\\}4\\{{]}\\}] 15000\n",
       "\\item[lam\\{{[}\\}5\\{{]}\\}] 15240.4453945074\n",
       "\\item[lam\\{{[}\\}6\\{{]}\\}] 15566.8995086009\n",
       "\\item[lam\\{{[}\\}7\\{{]}\\}] 15018.5582113873\n",
       "\\item[mu] 5981.23661081248\n",
       "\\item[sig] 5829.82982825472\n",
       "\\end{description*}\n"
      ],
      "text/markdown": [
       "lam[1]\n",
       ":   15058.6919219041lam[2]\n",
       ":   15595.7496563598lam[3]\n",
       ":   14810.4463730858lam[4]\n",
       ":   15000lam[5]\n",
       ":   15240.4453945074lam[6]\n",
       ":   15566.8995086009lam[7]\n",
       ":   15018.5582113873mu\n",
       ":   5981.23661081248sig\n",
       ":   5829.82982825472\n",
       "\n"
      ],
      "text/plain": [
       "   lam[1]    lam[2]    lam[3]    lam[4]    lam[5]    lam[6]    lam[7]        mu \n",
       "15058.692 15595.750 14810.446 15000.000 15240.445 15566.900 15018.558  5981.237 \n",
       "      sig \n",
       " 5829.830 "
      ]
     },
     "metadata": {},
     "output_type": "display_data"
    }
   ],
   "source": [
    "effectiveSize(mod_sim)"
   ]
  },
  {
   "cell_type": "code",
   "execution_count": 17,
   "id": "6d0c8603-10b1-4fac-bfe3-bf3870292371",
   "metadata": {},
   "outputs": [
    {
     "data": {
      "text/html": [
       "<style>\n",
       ".dl-inline {width: auto; margin:0; padding: 0}\n",
       ".dl-inline>dt, .dl-inline>dd {float: none; width: auto; display: inline-block}\n",
       ".dl-inline>dt::after {content: \":\\0020\"; padding-right: .5ex}\n",
       ".dl-inline>dt:not(:first-of-type) {padding-left: .5ex}\n",
       "</style><dl class=dl-inline><dt>lam[1]</dt><dd>391.623039258925</dd><dt>lam[2]</dt><dd>628.875201963783</dd><dt>lam[3]</dt><dd>590.650111338693</dd><dt>lam[4]</dt><dd>423.818437643984</dd><dt>lam[5]</dt><dd>682.000147360413</dd><dt>lam[6]</dt><dd>1115.09672928607</dd><dt>lam[7]</dt><dd>283.328922952072</dd><dt>mu</dt><dd>607.880306912768</dd><dt>sig</dt><dd>75.0972536202888</dd></dl>\n"
      ],
      "text/latex": [
       "\\begin{description*}\n",
       "\\item[lam\\{{[}\\}1\\{{]}\\}] 391.623039258925\n",
       "\\item[lam\\{{[}\\}2\\{{]}\\}] 628.875201963783\n",
       "\\item[lam\\{{[}\\}3\\{{]}\\}] 590.650111338693\n",
       "\\item[lam\\{{[}\\}4\\{{]}\\}] 423.818437643984\n",
       "\\item[lam\\{{[}\\}5\\{{]}\\}] 682.000147360413\n",
       "\\item[lam\\{{[}\\}6\\{{]}\\}] 1115.09672928607\n",
       "\\item[lam\\{{[}\\}7\\{{]}\\}] 283.328922952072\n",
       "\\item[mu] 607.880306912768\n",
       "\\item[sig] 75.0972536202888\n",
       "\\end{description*}\n"
      ],
      "text/markdown": [
       "lam[1]\n",
       ":   391.623039258925lam[2]\n",
       ":   628.875201963783lam[3]\n",
       ":   590.650111338693lam[4]\n",
       ":   423.818437643984lam[5]\n",
       ":   682.000147360413lam[6]\n",
       ":   1115.09672928607lam[7]\n",
       ":   283.328922952072mu\n",
       ":   607.880306912768sig\n",
       ":   75.0972536202888\n",
       "\n"
      ],
      "text/plain": [
       "    lam[1]     lam[2]     lam[3]     lam[4]     lam[5]     lam[6]     lam[7] \n",
       " 391.62304  628.87520  590.65011  423.81844  682.00015 1115.09673  283.32892 \n",
       "        mu        sig \n",
       " 607.88031   75.09725 "
      ]
     },
     "metadata": {},
     "output_type": "display_data"
    }
   ],
   "source": [
    "## observation level residuals\n",
    "(pm_params = colMeans(mod_csim))"
   ]
  },
  {
   "cell_type": "code",
   "execution_count": 18,
   "id": "663aafcc-9a35-4424-a7ba-834ce9242941",
   "metadata": {},
   "outputs": [
    {
     "data": {
      "text/plain": [
       "\n",
       " 1  2  3  4  5  6  7 \n",
       "37 35 26 19 17 13 23 "
      ]
     },
     "metadata": {},
     "output_type": "display_data"
    }
   ],
   "source": [
    "table(df_hm2$artist5)"
   ]
  },
  {
   "cell_type": "code",
   "execution_count": 19,
   "id": "89cb69ea-288f-42f1-b729-2ac4f80e4341",
   "metadata": {},
   "outputs": [
    {
     "data": {
      "image/png": "[encoded data removed]",
      "text/plain": [
       "Plot with title \"Residual Plot \n",
       " (Observation Level) \""
      ]
     },
     "metadata": {
      "image/png": {
       "height": 420,
       "width": 420
      }
     },
     "output_type": "display_data"
    }
   ],
   "source": [
    "# For equal weight, the following is the code\n",
    "#yhat = rep(pm_params[1:7], each=30)\n",
    "\n",
    "# For uneven weight, the following is the code\n",
    "\n",
    "# Define the number of observations in each group\n",
    "n <- c(37, 35, 26, 19, 17,13,23)\n",
    "\n",
    "# Sample from pm_params for each group\n",
    "yhat <- unlist(lapply(n, function(x) sample(pm_params[1:7], x, replace = TRUE)))\n",
    "\n",
    "resid = df_hm2$streams_m - yhat\n",
    "\n",
    "par(font.main = 2, font.lab = 2, font.axis = 2)\n",
    "par(mar = c(5, 6, 4, 2) + 0.1)\n",
    "\n",
    "plot(resid, \n",
    "     main=\"Residual Plot \\n (Observation Level) \",\n",
    "     xlab = \"Count\",\n",
    "     ylab = \"Residuals \\n (Observation - Artists Means)\",\n",
    "     col = \"cyan\",\n",
    "     cex = 1.2)\n",
    "\n",
    "#main=\"Different boxplots for Each Mode (All)\",\n",
    "#xlab=\"Stream Volume (millions)\",\n",
    "#ylab=\"Mode\",\n",
    "#col=\"lightgreen\",\n",
    "#horizontal = TRUE,\n",
    "#las=1,\n",
    "#notch = FALSE,\n",
    "#border=\"brown\"\n",
    "#)"
   ]
  },
  {
   "cell_type": "code",
   "execution_count": 20,
   "id": "73f5f6fa-258a-4b12-99c3-d4c122db3ec7",
   "metadata": {},
   "outputs": [
    {
     "data": {
      "image/png": "[encoded data removed]",
      "text/plain": [
       "plot without title"
      ]
     },
     "metadata": {
      "image/png": {
       "height": 420,
       "width": 420
      }
     },
     "output_type": "display_data"
    }
   ],
   "source": [
    "plot(jitter(yhat), resid)"
   ]
  },
  {
   "cell_type": "code",
   "execution_count": 21,
   "id": "3cbb5bb8-3c16-43c6-84c4-9494b2e9c7dc",
   "metadata": {},
   "outputs": [
    {
     "data": {
      "text/html": [
       "555467.028571429"
      ],
      "text/latex": [
       "555467.028571429"
      ],
      "text/markdown": [
       "555467.028571429"
      ],
      "text/plain": [
       "[1] 555467"
      ]
     },
     "metadata": {},
     "output_type": "display_data"
    }
   ],
   "source": [
    "var(resid[yhat<300])"
   ]
  },
  {
   "cell_type": "code",
   "execution_count": 22,
   "id": "be9ad6d8-c361-4600-9ee1-b8469dca63f1",
   "metadata": {},
   "outputs": [
    {
     "data": {
      "text/html": [
       "178128.344615385"
      ],
      "text/latex": [
       "178128.344615385"
      ],
      "text/markdown": [
       "178128.344615385"
      ],
      "text/plain": [
       "[1] 178128.3"
      ]
     },
     "metadata": {},
     "output_type": "display_data"
    }
   ],
   "source": [
    "var(resid[yhat>1000])"
   ]
  },
  {
   "cell_type": "code",
   "execution_count": 48,
   "id": "b4d93a99-25ac-4ac5-aa94-07d12e2a9179",
   "metadata": {},
   "outputs": [
    {
     "data": {
      "image/png": "[encoded data removed]",
      "text/plain": [
       "Plot with title \"Residual Plot \n",
       " (Artist Level) \""
      ]
     },
     "metadata": {
      "image/png": {
       "height": 420,
       "width": 420
      }
     },
     "output_type": "display_data"
    }
   ],
   "source": [
    "## location level residuals\n",
    "lam_resid = pm_params[1:7] - pm_params[\"mu\"]\n",
    "\n",
    "par(font.main = 2, font.lab = 2, font.axis = 2)\n",
    "par(mar = c(9, 5, 4, 2) + 0.1)\n",
    "\n",
    "plot(lam_resid,\n",
    "     main=\"Residual Plot \\n (Artist Level) \",\n",
    "     xlab = \"\",\n",
    "     ylab = \"Residuals \\n (Individual Artist Mean - Overall Mean)\",\n",
    "     col = \"green\",\n",
    "     cex = 3,\n",
    "     pch=16)\n",
    "axis(1, at = 1:length(lam_resid), labels = c(\"lam[1] Taylor Swift\", \"lam[2] The Weeknd\", \"lam[3] Bad Bunny\", \n",
    "                                             \"lam[4] Drake\", \"lam[5] Harry Styles\", \"lam[6] Ed Sheeran\",\n",
    "                                             \"lam[7] SZA\"), las=3)\n",
    "abline(h=0, lty=2)"
   ]
  },
  {
   "cell_type": "code",
   "execution_count": 24,
   "id": "c8196d15-c072-4348-8efc-d8457b1ba058",
   "metadata": {},
   "outputs": [
    {
     "data": {
      "image/png": "[encoded data removed]",
      "text/plain": [
       "Plot with title \"Residual Plot \n",
       " (Artist Level) \""
      ]
     },
     "metadata": {
      "image/png": {
       "height": 420,
       "width": 420
      }
     },
     "output_type": "display_data"
    }
   ],
   "source": [
    "## location level residuals\n",
    "lam_resid = pm_params[1:7] - pm_params[\"mu\"]\n",
    "\n",
    "par(font.main = 2, font.lab = 2, font.axis = 2)\n",
    "par(mar = c(6, 5, 4, 2) + 0.1)\n",
    "\n",
    "plot(lam_resid,\n",
    "     main=\"Residual Plot \\n (Artist Level) \",\n",
    "     xlab = \"\",\n",
    "     ylab = \"Residuals \\n (Individual Artist Mean - Overall Mean)\",\n",
    "     col = \"green\",\n",
    "     cex = 3,\n",
    "     pch=16)\n",
    "axis(1, at = 1:length(lam_resid), labels = c(\"Taylor Swift\", \"The Weeknd\", \"Bad Bunny\", \"Drake\",\n",
    "                                             \"Harry Styles\", \"Ed Sheeran\", \"SZA\"), las=3)\n",
    "abline(h=0, lty=2)"
   ]
  },
  {
   "cell_type": "code",
   "execution_count": 25,
   "id": "e8fcf099-1363-4925-b4c3-67975c6d167c",
   "metadata": {},
   "outputs": [
    {
     "data": {
      "image/png": "[encoded data removed]",
      "text/plain": [
       "plot without title"
      ]
     },
     "metadata": {
      "image/png": {
       "height": 420,
       "width": 420
      }
     },
     "output_type": "display_data"
    }
   ],
   "source": [
    "plot(lam_resid, xaxt = \"n\", xlab = \"\")\n",
    "abline(h=0, lty=2)\n",
    "axis(1, at = 1:length(lam_resid), labels = c(\"Taylor Swift\", \"The Weeknd\", \"Bad Bunny\", \"Drake\",\n",
    "                                             \"Harry Styles\", \"Ed Sheeran\", \"SZA\"), las=2)\n",
    "                "
   ]
  },
  {
   "cell_type": "code",
   "execution_count": 26,
   "id": "6d362c73-d504-49d1-acef-0dfbce7211c5",
   "metadata": {},
   "outputs": [
    {
     "data": {
      "text/plain": [
       "\n",
       "Iterations = 2001:7000\n",
       "Thinning interval = 1 \n",
       "Number of chains = 3 \n",
       "Sample size per chain = 5000 \n",
       "\n",
       "1. Empirical mean and standard deviation for each variable,\n",
       "   plus standard error of the mean:\n",
       "\n",
       "         Mean     SD Naive SE Time-series SE\n",
       "lam[1]  391.6  3.256  0.02659        0.02654\n",
       "lam[2]  628.9  4.244  0.03465        0.03400\n",
       "lam[3]  590.7  4.768  0.03893        0.03919\n",
       "lam[4]  423.8  4.689  0.03828        0.03829\n",
       "lam[5]  682.0  6.224  0.05082        0.05054\n",
       "lam[6] 1115.1  9.223  0.07531        0.07410\n",
       "lam[7]  283.3  3.517  0.02871        0.02870\n",
       "mu      607.9 25.812  0.21075        0.33391\n",
       "sig      75.1  5.530  0.04516        0.07244\n",
       "\n",
       "2. Quantiles for each variable:\n",
       "\n",
       "          2.5%     25%    50%     75%   97.5%\n",
       "lam[1]  385.36  389.40  391.6  393.79  398.09\n",
       "lam[2]  620.56  626.03  628.9  631.73  637.28\n",
       "lam[3]  581.39  587.43  590.6  593.80  600.00\n",
       "lam[4]  414.66  420.63  423.9  426.95  433.03\n",
       "lam[5]  669.76  677.76  682.0  686.21  694.15\n",
       "lam[6] 1097.21 1108.93 1115.1 1121.19 1133.45\n",
       "lam[7]  276.49  280.97  283.3  285.67  290.32\n",
       "mu      558.48  590.57  607.3  625.01  659.73\n",
       "sig      65.11   71.24   74.8   78.59   86.69\n"
      ]
     },
     "metadata": {},
     "output_type": "display_data"
    }
   ],
   "source": [
    "summary(mod_sim)"
   ]
  },
  {
   "cell_type": "code",
   "execution_count": 27,
   "id": "adc68585-034e-4364-80f1-2335c0ddb8f3",
   "metadata": {},
   "outputs": [
    {
     "data": {
      "text/html": [
       "15000"
      ],
      "text/latex": [
       "15000"
      ],
      "text/markdown": [
       "15000"
      ],
      "text/plain": [
       "[1] 15000"
      ]
     },
     "metadata": {},
     "output_type": "display_data"
    }
   ],
   "source": [
    "(n_sim = nrow(mod_csim))"
   ]
  },
  {
   "cell_type": "code",
   "execution_count": 28,
   "id": "1ecb2ed6-c695-48c2-9e49-f1fa4c85f027",
   "metadata": {},
   "outputs": [
    {
     "data": {
      "image/png": "[encoded data removed]",
      "text/plain": [
       "Plot with title \"Histogram of lam_pred\""
      ]
     },
     "metadata": {
      "image/png": {
       "height": 420,
       "width": 420
      }
     },
     "output_type": "display_data"
    }
   ],
   "source": [
    "lam_pred = rgamma(n=n_sim, shape=mod_csim[,\"mu\"]^2/mod_csim[,\"sig\"]^2, \n",
    "                  rate=mod_csim[,\"mu\"]/mod_csim[,\"sig\"]^2)\n",
    "hist(lam_pred)"
   ]
  },
  {
   "cell_type": "code",
   "execution_count": 29,
   "id": "47ee5be7-e7ba-4a27-9819-aca1090abcbc",
   "metadata": {},
   "outputs": [
    {
     "data": {
      "text/html": [
       "0.0131333333333333"
      ],
      "text/latex": [
       "0.0131333333333333"
      ],
      "text/markdown": [
       "0.0131333333333333"
      ],
      "text/plain": [
       "[1] 0.01313333"
      ]
     },
     "metadata": {},
     "output_type": "display_data"
    }
   ],
   "source": [
    "mean(lam_pred > 800)"
   ]
  },
  {
   "cell_type": "code",
   "execution_count": 30,
   "id": "8ad13744-0698-411f-be4b-4bda9a8cb004",
   "metadata": {},
   "outputs": [
    {
     "data": {
      "image/png": "[encoded data removed]",
      "text/plain": [
       "Plot with title \"Histogram of y_pred\""
      ]
     },
     "metadata": {
      "image/png": {
       "height": 420,
       "width": 420
      }
     },
     "output_type": "display_data"
    }
   ],
   "source": [
    "y_pred = rpois(n=n_sim, lambda=lam_pred)\n",
    "hist(y_pred)"
   ]
  },
  {
   "cell_type": "code",
   "execution_count": 31,
   "id": "bd062cd4-f54f-4316-b24e-b15bd2445e02",
   "metadata": {},
   "outputs": [
    {
     "data": {
      "text/html": [
       "0.0160666666666667"
      ],
      "text/latex": [
       "0.0160666666666667"
      ],
      "text/markdown": [
       "0.0160666666666667"
      ],
      "text/plain": [
       "[1] 0.01606667"
      ]
     },
     "metadata": {},
     "output_type": "display_data"
    }
   ],
   "source": [
    "mean(y_pred > 800)"
   ]
  },
  {
   "cell_type": "code",
   "execution_count": 32,
   "id": "29e44fca-2cfc-4c2b-87a6-34df2c9fdc29",
   "metadata": {},
   "outputs": [
    {
     "data": {
      "image/png": "[encoded data removed]",
      "text/plain": [
       "Plot with title \"Histogram of df_hm2$streams_m\""
      ]
     },
     "metadata": {
      "image/png": {
       "height": 420,
       "width": 420
      }
     },
     "output_type": "display_data"
    }
   ],
   "source": [
    "hist(df_hm2$streams_m)"
   ]
  },
  {
   "cell_type": "code",
   "execution_count": 33,
   "id": "dd95520b-f92f-47db-aab2-e48b025a2f40",
   "metadata": {},
   "outputs": [
    {
     "data": {
      "image/png": "[encoded data removed]",
      "text/plain": [
       "Plot with title \"Histogram of y_pred1\""
      ]
     },
     "metadata": {
      "image/png": {
       "height": 420,
       "width": 420
      }
     },
     "output_type": "display_data"
    }
   ],
   "source": [
    "y_pred1 = rpois(n=n_sim, lambda=mod_csim[,\"lam[1]\"])\n",
    "hist(y_pred1)"
   ]
  },
  {
   "cell_type": "code",
   "execution_count": 50,
   "id": "66e219a3-dd04-45f7-b907-81cc5d15dd45",
   "metadata": {},
   "outputs": [
    {
     "data": {
      "text/html": [
       "0.324"
      ],
      "text/latex": [
       "0.324"
      ],
      "text/markdown": [
       "0.324"
      ],
      "text/plain": [
       "[1] 0.324"
      ]
     },
     "metadata": {},
     "output_type": "display_data"
    }
   ],
   "source": [
    "mean(y_pred1 > 400)"
   ]
  },
  {
   "cell_type": "code",
   "execution_count": 35,
   "id": "e9d36d2d-6fa3-4b1d-84fc-a9e4afe029f0",
   "metadata": {},
   "outputs": [
    {
     "name": "stderr",
     "output_type": "stream",
     "text": [
      "\u001b[1m\u001b[22m`summarise()` has grouped output by 'artist5'. You can override using the\n",
      "`.groups` argument.\n"
     ]
    },
    {
     "data": {
      "text/html": [
       "<table class=\"dataframe\">\n",
       "<caption>A grouped_df: 38 × 8</caption>\n",
       "<thead>\n",
       "\t<tr><th scope=col>artist5</th><th scope=col>released_year</th><th scope=col>count</th><th scope=col>min</th><th scope=col>mean</th><th scope=col>median</th><th scope=col>max</th><th scope=col>std</th></tr>\n",
       "\t<tr><th scope=col>&lt;int&gt;</th><th scope=col>&lt;int&gt;</th><th scope=col>&lt;int&gt;</th><th scope=col>&lt;int&gt;</th><th scope=col>&lt;dbl&gt;</th><th scope=col>&lt;dbl&gt;</th><th scope=col>&lt;int&gt;</th><th scope=col>&lt;dbl&gt;</th></tr>\n",
       "</thead>\n",
       "<tbody>\n",
       "\t<tr><td>1</td><td>2010</td><td> 1</td><td> 621</td><td> 621.0000</td><td> 621.0</td><td> 621</td><td>        NA</td></tr>\n",
       "\t<tr><td>1</td><td>2012</td><td> 1</td><td> 882</td><td> 882.0000</td><td> 882.0</td><td> 882</td><td>        NA</td></tr>\n",
       "\t<tr><td>1</td><td>2014</td><td> 3</td><td> 786</td><td>1084.6667</td><td>1113.0</td><td>1355</td><td> 285.55618</td></tr>\n",
       "\t<tr><td>1</td><td>2017</td><td> 1</td><td> 685</td><td> 685.0000</td><td> 685.0</td><td> 685</td><td>        NA</td></tr>\n",
       "\t<tr><td>1</td><td>2019</td><td> 2</td><td> 185</td><td> 492.5000</td><td> 492.5</td><td> 800</td><td> 434.87067</td></tr>\n",
       "\t<tr><td>1</td><td>2020</td><td> 2</td><td> 607</td><td> 709.5000</td><td> 709.5</td><td> 812</td><td> 144.95689</td></tr>\n",
       "\t<tr><td>1</td><td>2021</td><td> 2</td><td> 350</td><td> 466.5000</td><td> 466.5</td><td> 583</td><td> 164.75588</td></tr>\n",
       "\t<tr><td>1</td><td>2022</td><td>17</td><td> 121</td><td> 312.8235</td><td> 253.0</td><td> 999</td><td> 206.72180</td></tr>\n",
       "\t<tr><td>1</td><td>2023</td><td> 8</td><td>  30</td><td>  46.2500</td><td>  42.5</td><td>  68</td><td>  12.92561</td></tr>\n",
       "\t<tr><td>2</td><td>2015</td><td> 1</td><td>1947</td><td>1947.0000</td><td>1947.0</td><td>1947</td><td>        NA</td></tr>\n",
       "\t<tr><td>2</td><td>2016</td><td> 4</td><td> 611</td><td>1376.7500</td><td>1165.5</td><td>2565</td><td> 922.18016</td></tr>\n",
       "\t<tr><td>2</td><td>2018</td><td> 2</td><td> 705</td><td>1077.0000</td><td>1077.0</td><td>1449</td><td> 526.08745</td></tr>\n",
       "\t<tr><td>2</td><td>2019</td><td> 2</td><td> 686</td><td>2194.5000</td><td>2194.5</td><td>3703</td><td>2133.34116</td></tr>\n",
       "\t<tr><td>2</td><td>2020</td><td> 2</td><td> 698</td><td>1144.5000</td><td>1144.5</td><td>1591</td><td> 631.44636</td></tr>\n",
       "\t<tr><td>2</td><td>2021</td><td> 5</td><td> 130</td><td> 417.2000</td><td> 432.0</td><td> 611</td><td> 185.04243</td></tr>\n",
       "\t<tr><td>2</td><td>2022</td><td>16</td><td>  31</td><td> 182.0625</td><td>  96.0</td><td> 843</td><td> 210.47358</td></tr>\n",
       "\t<tr><td>2</td><td>2023</td><td> 3</td><td>  96</td><td> 243.0000</td><td> 115.0</td><td> 518</td><td> 238.34639</td></tr>\n",
       "\t<tr><td>3</td><td>2019</td><td> 1</td><td>1304</td><td>1304.0000</td><td>1304.0</td><td>1304</td><td>        NA</td></tr>\n",
       "\t<tr><td>3</td><td>2020</td><td> 3</td><td> 312</td><td> 920.0000</td><td> 685.0</td><td>1763</td><td> 753.50448</td></tr>\n",
       "\t<tr><td>3</td><td>2021</td><td> 1</td><td>1260</td><td>1260.0000</td><td>1260.0</td><td>1260</td><td>        NA</td></tr>\n",
       "\t<tr><td>3</td><td>2022</td><td>18</td><td> 212</td><td> 498.4444</td><td> 370.5</td><td>1264</td><td> 301.40265</td></tr>\n",
       "\t<tr><td>3</td><td>2023</td><td> 3</td><td> 250</td><td> 352.6667</td><td> 303.0</td><td> 505</td><td> 134.55978</td></tr>\n",
       "\t<tr><td>4</td><td>2016</td><td> 1</td><td>2713</td><td>2713.0000</td><td>2713.0</td><td>2713</td><td>        NA</td></tr>\n",
       "\t<tr><td>4</td><td>2021</td><td> 3</td><td> 489</td><td> 558.6667</td><td> 593.0</td><td> 594</td><td>  60.33517</td></tr>\n",
       "\t<tr><td>4</td><td>2022</td><td>14</td><td>  93</td><td> 247.7143</td><td> 180.5</td><td> 618</td><td> 184.87685</td></tr>\n",
       "\t<tr><td>4</td><td>2023</td><td> 1</td><td> 175</td><td> 175.0000</td><td> 175.0</td><td> 175</td><td>        NA</td></tr>\n",
       "\t<tr><td>5</td><td>2019</td><td> 4</td><td> 807</td><td>1397.7500</td><td>1231.0</td><td>2322</td><td> 669.66727</td></tr>\n",
       "\t<tr><td>5</td><td>2022</td><td>13</td><td> 137</td><td> 462.3846</td><td> 273.0</td><td>2513</td><td> 634.27985</td></tr>\n",
       "\t<tr><td>6</td><td>1996</td><td> 1</td><td> 106</td><td> 106.0000</td><td> 106.0</td><td> 106</td><td>        NA</td></tr>\n",
       "\t<tr><td>6</td><td>2014</td><td> 2</td><td>2236</td><td>2258.0000</td><td>2258.0</td><td>2280</td><td>  31.11270</td></tr>\n",
       "\t<tr><td>6</td><td>2017</td><td> 3</td><td> 135</td><td>2085.3333</td><td>2559.0</td><td>3562</td><td>1761.91723</td></tr>\n",
       "\t<tr><td>6</td><td>2020</td><td> 1</td><td>1555</td><td>1555.0000</td><td>1555.0</td><td>1555</td><td>        NA</td></tr>\n",
       "\t<tr><td>6</td><td>2021</td><td> 2</td><td> 261</td><td> 781.5000</td><td> 781.5</td><td>1302</td><td> 736.09816</td></tr>\n",
       "\t<tr><td>6</td><td>2022</td><td> 2</td><td> 146</td><td> 161.0000</td><td> 161.0</td><td> 176</td><td>  21.21320</td></tr>\n",
       "\t<tr><td>6</td><td>2023</td><td> 2</td><td>  39</td><td> 117.0000</td><td> 117.0</td><td> 195</td><td> 110.30866</td></tr>\n",
       "\t<tr><td>7</td><td>2020</td><td> 1</td><td> 826</td><td> 826.0000</td><td> 826.0</td><td> 826</td><td>        NA</td></tr>\n",
       "\t<tr><td>7</td><td>2021</td><td> 2</td><td> 356</td><td> 965.5000</td><td> 965.5</td><td>1575</td><td> 861.96317</td></tr>\n",
       "\t<tr><td>7</td><td>2022</td><td>20</td><td>  49</td><td> 186.2500</td><td>  96.0</td><td>1163</td><td> 251.14074</td></tr>\n",
       "</tbody>\n",
       "</table>\n"
      ],
      "text/latex": [
       "A grouped\\_df: 38 × 8\n",
       "\\begin{tabular}{llllllll}\n",
       " artist5 & released\\_year & count & min & mean & median & max & std\\\\\n",
       " <int> & <int> & <int> & <int> & <dbl> & <dbl> & <int> & <dbl>\\\\\n",
       "\\hline\n",
       "\t 1 & 2010 &  1 &  621 &  621.0000 &  621.0 &  621 &         NA\\\\\n",
       "\t 1 & 2012 &  1 &  882 &  882.0000 &  882.0 &  882 &         NA\\\\\n",
       "\t 1 & 2014 &  3 &  786 & 1084.6667 & 1113.0 & 1355 &  285.55618\\\\\n",
       "\t 1 & 2017 &  1 &  685 &  685.0000 &  685.0 &  685 &         NA\\\\\n",
       "\t 1 & 2019 &  2 &  185 &  492.5000 &  492.5 &  800 &  434.87067\\\\\n",
       "\t 1 & 2020 &  2 &  607 &  709.5000 &  709.5 &  812 &  144.95689\\\\\n",
       "\t 1 & 2021 &  2 &  350 &  466.5000 &  466.5 &  583 &  164.75588\\\\\n",
       "\t 1 & 2022 & 17 &  121 &  312.8235 &  253.0 &  999 &  206.72180\\\\\n",
       "\t 1 & 2023 &  8 &   30 &   46.2500 &   42.5 &   68 &   12.92561\\\\\n",
       "\t 2 & 2015 &  1 & 1947 & 1947.0000 & 1947.0 & 1947 &         NA\\\\\n",
       "\t 2 & 2016 &  4 &  611 & 1376.7500 & 1165.5 & 2565 &  922.18016\\\\\n",
       "\t 2 & 2018 &  2 &  705 & 1077.0000 & 1077.0 & 1449 &  526.08745\\\\\n",
       "\t 2 & 2019 &  2 &  686 & 2194.5000 & 2194.5 & 3703 & 2133.34116\\\\\n",
       "\t 2 & 2020 &  2 &  698 & 1144.5000 & 1144.5 & 1591 &  631.44636\\\\\n",
       "\t 2 & 2021 &  5 &  130 &  417.2000 &  432.0 &  611 &  185.04243\\\\\n",
       "\t 2 & 2022 & 16 &   31 &  182.0625 &   96.0 &  843 &  210.47358\\\\\n",
       "\t 2 & 2023 &  3 &   96 &  243.0000 &  115.0 &  518 &  238.34639\\\\\n",
       "\t 3 & 2019 &  1 & 1304 & 1304.0000 & 1304.0 & 1304 &         NA\\\\\n",
       "\t 3 & 2020 &  3 &  312 &  920.0000 &  685.0 & 1763 &  753.50448\\\\\n",
       "\t 3 & 2021 &  1 & 1260 & 1260.0000 & 1260.0 & 1260 &         NA\\\\\n",
       "\t 3 & 2022 & 18 &  212 &  498.4444 &  370.5 & 1264 &  301.40265\\\\\n",
       "\t 3 & 2023 &  3 &  250 &  352.6667 &  303.0 &  505 &  134.55978\\\\\n",
       "\t 4 & 2016 &  1 & 2713 & 2713.0000 & 2713.0 & 2713 &         NA\\\\\n",
       "\t 4 & 2021 &  3 &  489 &  558.6667 &  593.0 &  594 &   60.33517\\\\\n",
       "\t 4 & 2022 & 14 &   93 &  247.7143 &  180.5 &  618 &  184.87685\\\\\n",
       "\t 4 & 2023 &  1 &  175 &  175.0000 &  175.0 &  175 &         NA\\\\\n",
       "\t 5 & 2019 &  4 &  807 & 1397.7500 & 1231.0 & 2322 &  669.66727\\\\\n",
       "\t 5 & 2022 & 13 &  137 &  462.3846 &  273.0 & 2513 &  634.27985\\\\\n",
       "\t 6 & 1996 &  1 &  106 &  106.0000 &  106.0 &  106 &         NA\\\\\n",
       "\t 6 & 2014 &  2 & 2236 & 2258.0000 & 2258.0 & 2280 &   31.11270\\\\\n",
       "\t 6 & 2017 &  3 &  135 & 2085.3333 & 2559.0 & 3562 & 1761.91723\\\\\n",
       "\t 6 & 2020 &  1 & 1555 & 1555.0000 & 1555.0 & 1555 &         NA\\\\\n",
       "\t 6 & 2021 &  2 &  261 &  781.5000 &  781.5 & 1302 &  736.09816\\\\\n",
       "\t 6 & 2022 &  2 &  146 &  161.0000 &  161.0 &  176 &   21.21320\\\\\n",
       "\t 6 & 2023 &  2 &   39 &  117.0000 &  117.0 &  195 &  110.30866\\\\\n",
       "\t 7 & 2020 &  1 &  826 &  826.0000 &  826.0 &  826 &         NA\\\\\n",
       "\t 7 & 2021 &  2 &  356 &  965.5000 &  965.5 & 1575 &  861.96317\\\\\n",
       "\t 7 & 2022 & 20 &   49 &  186.2500 &   96.0 & 1163 &  251.14074\\\\\n",
       "\\end{tabular}\n"
      ],
      "text/markdown": [
       "\n",
       "A grouped_df: 38 × 8\n",
       "\n",
       "| artist5 &lt;int&gt; | released_year &lt;int&gt; | count &lt;int&gt; | min &lt;int&gt; | mean &lt;dbl&gt; | median &lt;dbl&gt; | max &lt;int&gt; | std &lt;dbl&gt; |\n",
       "|---|---|---|---|---|---|---|---|\n",
       "| 1 | 2010 |  1 |  621 |  621.0000 |  621.0 |  621 |         NA |\n",
       "| 1 | 2012 |  1 |  882 |  882.0000 |  882.0 |  882 |         NA |\n",
       "| 1 | 2014 |  3 |  786 | 1084.6667 | 1113.0 | 1355 |  285.55618 |\n",
       "| 1 | 2017 |  1 |  685 |  685.0000 |  685.0 |  685 |         NA |\n",
       "| 1 | 2019 |  2 |  185 |  492.5000 |  492.5 |  800 |  434.87067 |\n",
       "| 1 | 2020 |  2 |  607 |  709.5000 |  709.5 |  812 |  144.95689 |\n",
       "| 1 | 2021 |  2 |  350 |  466.5000 |  466.5 |  583 |  164.75588 |\n",
       "| 1 | 2022 | 17 |  121 |  312.8235 |  253.0 |  999 |  206.72180 |\n",
       "| 1 | 2023 |  8 |   30 |   46.2500 |   42.5 |   68 |   12.92561 |\n",
       "| 2 | 2015 |  1 | 1947 | 1947.0000 | 1947.0 | 1947 |         NA |\n",
       "| 2 | 2016 |  4 |  611 | 1376.7500 | 1165.5 | 2565 |  922.18016 |\n",
       "| 2 | 2018 |  2 |  705 | 1077.0000 | 1077.0 | 1449 |  526.08745 |\n",
       "| 2 | 2019 |  2 |  686 | 2194.5000 | 2194.5 | 3703 | 2133.34116 |\n",
       "| 2 | 2020 |  2 |  698 | 1144.5000 | 1144.5 | 1591 |  631.44636 |\n",
       "| 2 | 2021 |  5 |  130 |  417.2000 |  432.0 |  611 |  185.04243 |\n",
       "| 2 | 2022 | 16 |   31 |  182.0625 |   96.0 |  843 |  210.47358 |\n",
       "| 2 | 2023 |  3 |   96 |  243.0000 |  115.0 |  518 |  238.34639 |\n",
       "| 3 | 2019 |  1 | 1304 | 1304.0000 | 1304.0 | 1304 |         NA |\n",
       "| 3 | 2020 |  3 |  312 |  920.0000 |  685.0 | 1763 |  753.50448 |\n",
       "| 3 | 2021 |  1 | 1260 | 1260.0000 | 1260.0 | 1260 |         NA |\n",
       "| 3 | 2022 | 18 |  212 |  498.4444 |  370.5 | 1264 |  301.40265 |\n",
       "| 3 | 2023 |  3 |  250 |  352.6667 |  303.0 |  505 |  134.55978 |\n",
       "| 4 | 2016 |  1 | 2713 | 2713.0000 | 2713.0 | 2713 |         NA |\n",
       "| 4 | 2021 |  3 |  489 |  558.6667 |  593.0 |  594 |   60.33517 |\n",
       "| 4 | 2022 | 14 |   93 |  247.7143 |  180.5 |  618 |  184.87685 |\n",
       "| 4 | 2023 |  1 |  175 |  175.0000 |  175.0 |  175 |         NA |\n",
       "| 5 | 2019 |  4 |  807 | 1397.7500 | 1231.0 | 2322 |  669.66727 |\n",
       "| 5 | 2022 | 13 |  137 |  462.3846 |  273.0 | 2513 |  634.27985 |\n",
       "| 6 | 1996 |  1 |  106 |  106.0000 |  106.0 |  106 |         NA |\n",
       "| 6 | 2014 |  2 | 2236 | 2258.0000 | 2258.0 | 2280 |   31.11270 |\n",
       "| 6 | 2017 |  3 |  135 | 2085.3333 | 2559.0 | 3562 | 1761.91723 |\n",
       "| 6 | 2020 |  1 | 1555 | 1555.0000 | 1555.0 | 1555 |         NA |\n",
       "| 6 | 2021 |  2 |  261 |  781.5000 |  781.5 | 1302 |  736.09816 |\n",
       "| 6 | 2022 |  2 |  146 |  161.0000 |  161.0 |  176 |   21.21320 |\n",
       "| 6 | 2023 |  2 |   39 |  117.0000 |  117.0 |  195 |  110.30866 |\n",
       "| 7 | 2020 |  1 |  826 |  826.0000 |  826.0 |  826 |         NA |\n",
       "| 7 | 2021 |  2 |  356 |  965.5000 |  965.5 | 1575 |  861.96317 |\n",
       "| 7 | 2022 | 20 |   49 |  186.2500 |   96.0 | 1163 |  251.14074 |\n",
       "\n"
      ],
      "text/plain": [
       "   artist5 released_year count min  mean      median max  std       \n",
       "1  1       2010           1     621  621.0000  621.0  621         NA\n",
       "2  1       2012           1     882  882.0000  882.0  882         NA\n",
       "3  1       2014           3     786 1084.6667 1113.0 1355  285.55618\n",
       "4  1       2017           1     685  685.0000  685.0  685         NA\n",
       "5  1       2019           2     185  492.5000  492.5  800  434.87067\n",
       "6  1       2020           2     607  709.5000  709.5  812  144.95689\n",
       "7  1       2021           2     350  466.5000  466.5  583  164.75588\n",
       "8  1       2022          17     121  312.8235  253.0  999  206.72180\n",
       "9  1       2023           8      30   46.2500   42.5   68   12.92561\n",
       "10 2       2015           1    1947 1947.0000 1947.0 1947         NA\n",
       "11 2       2016           4     611 1376.7500 1165.5 2565  922.18016\n",
       "12 2       2018           2     705 1077.0000 1077.0 1449  526.08745\n",
       "13 2       2019           2     686 2194.5000 2194.5 3703 2133.34116\n",
       "14 2       2020           2     698 1144.5000 1144.5 1591  631.44636\n",
       "15 2       2021           5     130  417.2000  432.0  611  185.04243\n",
       "16 2       2022          16      31  182.0625   96.0  843  210.47358\n",
       "17 2       2023           3      96  243.0000  115.0  518  238.34639\n",
       "18 3       2019           1    1304 1304.0000 1304.0 1304         NA\n",
       "19 3       2020           3     312  920.0000  685.0 1763  753.50448\n",
       "20 3       2021           1    1260 1260.0000 1260.0 1260         NA\n",
       "21 3       2022          18     212  498.4444  370.5 1264  301.40265\n",
       "22 3       2023           3     250  352.6667  303.0  505  134.55978\n",
       "23 4       2016           1    2713 2713.0000 2713.0 2713         NA\n",
       "24 4       2021           3     489  558.6667  593.0  594   60.33517\n",
       "25 4       2022          14      93  247.7143  180.5  618  184.87685\n",
       "26 4       2023           1     175  175.0000  175.0  175         NA\n",
       "27 5       2019           4     807 1397.7500 1231.0 2322  669.66727\n",
       "28 5       2022          13     137  462.3846  273.0 2513  634.27985\n",
       "29 6       1996           1     106  106.0000  106.0  106         NA\n",
       "30 6       2014           2    2236 2258.0000 2258.0 2280   31.11270\n",
       "31 6       2017           3     135 2085.3333 2559.0 3562 1761.91723\n",
       "32 6       2020           1    1555 1555.0000 1555.0 1555         NA\n",
       "33 6       2021           2     261  781.5000  781.5 1302  736.09816\n",
       "34 6       2022           2     146  161.0000  161.0  176   21.21320\n",
       "35 6       2023           2      39  117.0000  117.0  195  110.30866\n",
       "36 7       2020           1     826  826.0000  826.0  826         NA\n",
       "37 7       2021           2     356  965.5000  965.5 1575  861.96317\n",
       "38 7       2022          20      49  186.2500   96.0 1163  251.14074"
      ]
     },
     "metadata": {},
     "output_type": "display_data"
    }
   ],
   "source": [
    "df_hm2 %>%\n",
    "  group_by(artist5, released_year) %>%\n",
    "  summarise(\n",
    "    count = n(),\n",
    "    min = min(streams_m, na.rm = TRUE),\n",
    "    mean = mean(streams_m, na.rm = TRUE),\n",
    "    median = median(streams_m, na.rm = TRUE),\n",
    "    max = max(streams_m, na.rm = TRUE),        \n",
    "    std = sd(streams_m, na.rm =TRUE)\n",
    "  ) "
   ]
  },
  {
   "cell_type": "code",
   "execution_count": 36,
   "id": "175ecf8a-04db-40ea-9341-38d110d74ec8",
   "metadata": {},
   "outputs": [
    {
     "data": {
      "text/html": [
       "<table class=\"dataframe\">\n",
       "<caption>A tibble: 38 × 8</caption>\n",
       "<thead>\n",
       "\t<tr><th scope=col>artist5</th><th scope=col>released_year</th><th scope=col>count</th><th scope=col>min</th><th scope=col>mean</th><th scope=col>median</th><th scope=col>max</th><th scope=col>std</th></tr>\n",
       "\t<tr><th scope=col>&lt;int&gt;</th><th scope=col>&lt;int&gt;</th><th scope=col>&lt;int&gt;</th><th scope=col>&lt;int&gt;</th><th scope=col>&lt;dbl&gt;</th><th scope=col>&lt;dbl&gt;</th><th scope=col>&lt;int&gt;</th><th scope=col>&lt;dbl&gt;</th></tr>\n",
       "</thead>\n",
       "<tbody>\n",
       "\t<tr><td>1</td><td>2010</td><td> 1</td><td> 621</td><td> 621.0000</td><td> 621.0</td><td> 621</td><td>        NA</td></tr>\n",
       "\t<tr><td>1</td><td>2012</td><td> 1</td><td> 882</td><td> 882.0000</td><td> 882.0</td><td> 882</td><td>        NA</td></tr>\n",
       "\t<tr><td>1</td><td>2014</td><td> 3</td><td> 786</td><td>1084.6667</td><td>1113.0</td><td>1355</td><td> 285.55618</td></tr>\n",
       "\t<tr><td>1</td><td>2017</td><td> 1</td><td> 685</td><td> 685.0000</td><td> 685.0</td><td> 685</td><td>        NA</td></tr>\n",
       "\t<tr><td>1</td><td>2019</td><td> 2</td><td> 185</td><td> 492.5000</td><td> 492.5</td><td> 800</td><td> 434.87067</td></tr>\n",
       "\t<tr><td>1</td><td>2020</td><td> 2</td><td> 607</td><td> 709.5000</td><td> 709.5</td><td> 812</td><td> 144.95689</td></tr>\n",
       "\t<tr><td>1</td><td>2021</td><td> 2</td><td> 350</td><td> 466.5000</td><td> 466.5</td><td> 583</td><td> 164.75588</td></tr>\n",
       "\t<tr><td>1</td><td>2022</td><td>17</td><td> 121</td><td> 312.8235</td><td> 253.0</td><td> 999</td><td> 206.72180</td></tr>\n",
       "\t<tr><td>1</td><td>2023</td><td> 8</td><td>  30</td><td>  46.2500</td><td>  42.5</td><td>  68</td><td>  12.92561</td></tr>\n",
       "\t<tr><td>2</td><td>2015</td><td> 1</td><td>1947</td><td>1947.0000</td><td>1947.0</td><td>1947</td><td>        NA</td></tr>\n",
       "\t<tr><td>2</td><td>2016</td><td> 4</td><td> 611</td><td>1376.7500</td><td>1165.5</td><td>2565</td><td> 922.18016</td></tr>\n",
       "\t<tr><td>2</td><td>2018</td><td> 2</td><td> 705</td><td>1077.0000</td><td>1077.0</td><td>1449</td><td> 526.08745</td></tr>\n",
       "\t<tr><td>2</td><td>2019</td><td> 2</td><td> 686</td><td>2194.5000</td><td>2194.5</td><td>3703</td><td>2133.34116</td></tr>\n",
       "\t<tr><td>2</td><td>2020</td><td> 2</td><td> 698</td><td>1144.5000</td><td>1144.5</td><td>1591</td><td> 631.44636</td></tr>\n",
       "\t<tr><td>2</td><td>2021</td><td> 5</td><td> 130</td><td> 417.2000</td><td> 432.0</td><td> 611</td><td> 185.04243</td></tr>\n",
       "\t<tr><td>2</td><td>2022</td><td>16</td><td>  31</td><td> 182.0625</td><td>  96.0</td><td> 843</td><td> 210.47358</td></tr>\n",
       "\t<tr><td>2</td><td>2023</td><td> 3</td><td>  96</td><td> 243.0000</td><td> 115.0</td><td> 518</td><td> 238.34639</td></tr>\n",
       "\t<tr><td>3</td><td>2019</td><td> 1</td><td>1304</td><td>1304.0000</td><td>1304.0</td><td>1304</td><td>        NA</td></tr>\n",
       "\t<tr><td>3</td><td>2020</td><td> 3</td><td> 312</td><td> 920.0000</td><td> 685.0</td><td>1763</td><td> 753.50448</td></tr>\n",
       "\t<tr><td>3</td><td>2021</td><td> 1</td><td>1260</td><td>1260.0000</td><td>1260.0</td><td>1260</td><td>        NA</td></tr>\n",
       "\t<tr><td>3</td><td>2022</td><td>18</td><td> 212</td><td> 498.4444</td><td> 370.5</td><td>1264</td><td> 301.40265</td></tr>\n",
       "\t<tr><td>3</td><td>2023</td><td> 3</td><td> 250</td><td> 352.6667</td><td> 303.0</td><td> 505</td><td> 134.55978</td></tr>\n",
       "\t<tr><td>4</td><td>2016</td><td> 1</td><td>2713</td><td>2713.0000</td><td>2713.0</td><td>2713</td><td>        NA</td></tr>\n",
       "\t<tr><td>4</td><td>2021</td><td> 3</td><td> 489</td><td> 558.6667</td><td> 593.0</td><td> 594</td><td>  60.33517</td></tr>\n",
       "\t<tr><td>4</td><td>2022</td><td>14</td><td>  93</td><td> 247.7143</td><td> 180.5</td><td> 618</td><td> 184.87685</td></tr>\n",
       "\t<tr><td>4</td><td>2023</td><td> 1</td><td> 175</td><td> 175.0000</td><td> 175.0</td><td> 175</td><td>        NA</td></tr>\n",
       "\t<tr><td>5</td><td>2019</td><td> 4</td><td> 807</td><td>1397.7500</td><td>1231.0</td><td>2322</td><td> 669.66727</td></tr>\n",
       "\t<tr><td>5</td><td>2022</td><td>13</td><td> 137</td><td> 462.3846</td><td> 273.0</td><td>2513</td><td> 634.27985</td></tr>\n",
       "\t<tr><td>6</td><td>1996</td><td> 1</td><td> 106</td><td> 106.0000</td><td> 106.0</td><td> 106</td><td>        NA</td></tr>\n",
       "\t<tr><td>6</td><td>2014</td><td> 2</td><td>2236</td><td>2258.0000</td><td>2258.0</td><td>2280</td><td>  31.11270</td></tr>\n",
       "\t<tr><td>6</td><td>2017</td><td> 3</td><td> 135</td><td>2085.3333</td><td>2559.0</td><td>3562</td><td>1761.91723</td></tr>\n",
       "\t<tr><td>6</td><td>2020</td><td> 1</td><td>1555</td><td>1555.0000</td><td>1555.0</td><td>1555</td><td>        NA</td></tr>\n",
       "\t<tr><td>6</td><td>2021</td><td> 2</td><td> 261</td><td> 781.5000</td><td> 781.5</td><td>1302</td><td> 736.09816</td></tr>\n",
       "\t<tr><td>6</td><td>2022</td><td> 2</td><td> 146</td><td> 161.0000</td><td> 161.0</td><td> 176</td><td>  21.21320</td></tr>\n",
       "\t<tr><td>6</td><td>2023</td><td> 2</td><td>  39</td><td> 117.0000</td><td> 117.0</td><td> 195</td><td> 110.30866</td></tr>\n",
       "\t<tr><td>7</td><td>2020</td><td> 1</td><td> 826</td><td> 826.0000</td><td> 826.0</td><td> 826</td><td>        NA</td></tr>\n",
       "\t<tr><td>7</td><td>2021</td><td> 2</td><td> 356</td><td> 965.5000</td><td> 965.5</td><td>1575</td><td> 861.96317</td></tr>\n",
       "\t<tr><td>7</td><td>2022</td><td>20</td><td>  49</td><td> 186.2500</td><td>  96.0</td><td>1163</td><td> 251.14074</td></tr>\n",
       "</tbody>\n",
       "</table>\n"
      ],
      "text/latex": [
       "A tibble: 38 × 8\n",
       "\\begin{tabular}{llllllll}\n",
       " artist5 & released\\_year & count & min & mean & median & max & std\\\\\n",
       " <int> & <int> & <int> & <int> & <dbl> & <dbl> & <int> & <dbl>\\\\\n",
       "\\hline\n",
       "\t 1 & 2010 &  1 &  621 &  621.0000 &  621.0 &  621 &         NA\\\\\n",
       "\t 1 & 2012 &  1 &  882 &  882.0000 &  882.0 &  882 &         NA\\\\\n",
       "\t 1 & 2014 &  3 &  786 & 1084.6667 & 1113.0 & 1355 &  285.55618\\\\\n",
       "\t 1 & 2017 &  1 &  685 &  685.0000 &  685.0 &  685 &         NA\\\\\n",
       "\t 1 & 2019 &  2 &  185 &  492.5000 &  492.5 &  800 &  434.87067\\\\\n",
       "\t 1 & 2020 &  2 &  607 &  709.5000 &  709.5 &  812 &  144.95689\\\\\n",
       "\t 1 & 2021 &  2 &  350 &  466.5000 &  466.5 &  583 &  164.75588\\\\\n",
       "\t 1 & 2022 & 17 &  121 &  312.8235 &  253.0 &  999 &  206.72180\\\\\n",
       "\t 1 & 2023 &  8 &   30 &   46.2500 &   42.5 &   68 &   12.92561\\\\\n",
       "\t 2 & 2015 &  1 & 1947 & 1947.0000 & 1947.0 & 1947 &         NA\\\\\n",
       "\t 2 & 2016 &  4 &  611 & 1376.7500 & 1165.5 & 2565 &  922.18016\\\\\n",
       "\t 2 & 2018 &  2 &  705 & 1077.0000 & 1077.0 & 1449 &  526.08745\\\\\n",
       "\t 2 & 2019 &  2 &  686 & 2194.5000 & 2194.5 & 3703 & 2133.34116\\\\\n",
       "\t 2 & 2020 &  2 &  698 & 1144.5000 & 1144.5 & 1591 &  631.44636\\\\\n",
       "\t 2 & 2021 &  5 &  130 &  417.2000 &  432.0 &  611 &  185.04243\\\\\n",
       "\t 2 & 2022 & 16 &   31 &  182.0625 &   96.0 &  843 &  210.47358\\\\\n",
       "\t 2 & 2023 &  3 &   96 &  243.0000 &  115.0 &  518 &  238.34639\\\\\n",
       "\t 3 & 2019 &  1 & 1304 & 1304.0000 & 1304.0 & 1304 &         NA\\\\\n",
       "\t 3 & 2020 &  3 &  312 &  920.0000 &  685.0 & 1763 &  753.50448\\\\\n",
       "\t 3 & 2021 &  1 & 1260 & 1260.0000 & 1260.0 & 1260 &         NA\\\\\n",
       "\t 3 & 2022 & 18 &  212 &  498.4444 &  370.5 & 1264 &  301.40265\\\\\n",
       "\t 3 & 2023 &  3 &  250 &  352.6667 &  303.0 &  505 &  134.55978\\\\\n",
       "\t 4 & 2016 &  1 & 2713 & 2713.0000 & 2713.0 & 2713 &         NA\\\\\n",
       "\t 4 & 2021 &  3 &  489 &  558.6667 &  593.0 &  594 &   60.33517\\\\\n",
       "\t 4 & 2022 & 14 &   93 &  247.7143 &  180.5 &  618 &  184.87685\\\\\n",
       "\t 4 & 2023 &  1 &  175 &  175.0000 &  175.0 &  175 &         NA\\\\\n",
       "\t 5 & 2019 &  4 &  807 & 1397.7500 & 1231.0 & 2322 &  669.66727\\\\\n",
       "\t 5 & 2022 & 13 &  137 &  462.3846 &  273.0 & 2513 &  634.27985\\\\\n",
       "\t 6 & 1996 &  1 &  106 &  106.0000 &  106.0 &  106 &         NA\\\\\n",
       "\t 6 & 2014 &  2 & 2236 & 2258.0000 & 2258.0 & 2280 &   31.11270\\\\\n",
       "\t 6 & 2017 &  3 &  135 & 2085.3333 & 2559.0 & 3562 & 1761.91723\\\\\n",
       "\t 6 & 2020 &  1 & 1555 & 1555.0000 & 1555.0 & 1555 &         NA\\\\\n",
       "\t 6 & 2021 &  2 &  261 &  781.5000 &  781.5 & 1302 &  736.09816\\\\\n",
       "\t 6 & 2022 &  2 &  146 &  161.0000 &  161.0 &  176 &   21.21320\\\\\n",
       "\t 6 & 2023 &  2 &   39 &  117.0000 &  117.0 &  195 &  110.30866\\\\\n",
       "\t 7 & 2020 &  1 &  826 &  826.0000 &  826.0 &  826 &         NA\\\\\n",
       "\t 7 & 2021 &  2 &  356 &  965.5000 &  965.5 & 1575 &  861.96317\\\\\n",
       "\t 7 & 2022 & 20 &   49 &  186.2500 &   96.0 & 1163 &  251.14074\\\\\n",
       "\\end{tabular}\n"
      ],
      "text/markdown": [
       "\n",
       "A tibble: 38 × 8\n",
       "\n",
       "| artist5 &lt;int&gt; | released_year &lt;int&gt; | count &lt;int&gt; | min &lt;int&gt; | mean &lt;dbl&gt; | median &lt;dbl&gt; | max &lt;int&gt; | std &lt;dbl&gt; |\n",
       "|---|---|---|---|---|---|---|---|\n",
       "| 1 | 2010 |  1 |  621 |  621.0000 |  621.0 |  621 |         NA |\n",
       "| 1 | 2012 |  1 |  882 |  882.0000 |  882.0 |  882 |         NA |\n",
       "| 1 | 2014 |  3 |  786 | 1084.6667 | 1113.0 | 1355 |  285.55618 |\n",
       "| 1 | 2017 |  1 |  685 |  685.0000 |  685.0 |  685 |         NA |\n",
       "| 1 | 2019 |  2 |  185 |  492.5000 |  492.5 |  800 |  434.87067 |\n",
       "| 1 | 2020 |  2 |  607 |  709.5000 |  709.5 |  812 |  144.95689 |\n",
       "| 1 | 2021 |  2 |  350 |  466.5000 |  466.5 |  583 |  164.75588 |\n",
       "| 1 | 2022 | 17 |  121 |  312.8235 |  253.0 |  999 |  206.72180 |\n",
       "| 1 | 2023 |  8 |   30 |   46.2500 |   42.5 |   68 |   12.92561 |\n",
       "| 2 | 2015 |  1 | 1947 | 1947.0000 | 1947.0 | 1947 |         NA |\n",
       "| 2 | 2016 |  4 |  611 | 1376.7500 | 1165.5 | 2565 |  922.18016 |\n",
       "| 2 | 2018 |  2 |  705 | 1077.0000 | 1077.0 | 1449 |  526.08745 |\n",
       "| 2 | 2019 |  2 |  686 | 2194.5000 | 2194.5 | 3703 | 2133.34116 |\n",
       "| 2 | 2020 |  2 |  698 | 1144.5000 | 1144.5 | 1591 |  631.44636 |\n",
       "| 2 | 2021 |  5 |  130 |  417.2000 |  432.0 |  611 |  185.04243 |\n",
       "| 2 | 2022 | 16 |   31 |  182.0625 |   96.0 |  843 |  210.47358 |\n",
       "| 2 | 2023 |  3 |   96 |  243.0000 |  115.0 |  518 |  238.34639 |\n",
       "| 3 | 2019 |  1 | 1304 | 1304.0000 | 1304.0 | 1304 |         NA |\n",
       "| 3 | 2020 |  3 |  312 |  920.0000 |  685.0 | 1763 |  753.50448 |\n",
       "| 3 | 2021 |  1 | 1260 | 1260.0000 | 1260.0 | 1260 |         NA |\n",
       "| 3 | 2022 | 18 |  212 |  498.4444 |  370.5 | 1264 |  301.40265 |\n",
       "| 3 | 2023 |  3 |  250 |  352.6667 |  303.0 |  505 |  134.55978 |\n",
       "| 4 | 2016 |  1 | 2713 | 2713.0000 | 2713.0 | 2713 |         NA |\n",
       "| 4 | 2021 |  3 |  489 |  558.6667 |  593.0 |  594 |   60.33517 |\n",
       "| 4 | 2022 | 14 |   93 |  247.7143 |  180.5 |  618 |  184.87685 |\n",
       "| 4 | 2023 |  1 |  175 |  175.0000 |  175.0 |  175 |         NA |\n",
       "| 5 | 2019 |  4 |  807 | 1397.7500 | 1231.0 | 2322 |  669.66727 |\n",
       "| 5 | 2022 | 13 |  137 |  462.3846 |  273.0 | 2513 |  634.27985 |\n",
       "| 6 | 1996 |  1 |  106 |  106.0000 |  106.0 |  106 |         NA |\n",
       "| 6 | 2014 |  2 | 2236 | 2258.0000 | 2258.0 | 2280 |   31.11270 |\n",
       "| 6 | 2017 |  3 |  135 | 2085.3333 | 2559.0 | 3562 | 1761.91723 |\n",
       "| 6 | 2020 |  1 | 1555 | 1555.0000 | 1555.0 | 1555 |         NA |\n",
       "| 6 | 2021 |  2 |  261 |  781.5000 |  781.5 | 1302 |  736.09816 |\n",
       "| 6 | 2022 |  2 |  146 |  161.0000 |  161.0 |  176 |   21.21320 |\n",
       "| 6 | 2023 |  2 |   39 |  117.0000 |  117.0 |  195 |  110.30866 |\n",
       "| 7 | 2020 |  1 |  826 |  826.0000 |  826.0 |  826 |         NA |\n",
       "| 7 | 2021 |  2 |  356 |  965.5000 |  965.5 | 1575 |  861.96317 |\n",
       "| 7 | 2022 | 20 |   49 |  186.2500 |   96.0 | 1163 |  251.14074 |\n",
       "\n"
      ],
      "text/plain": [
       "   artist5 released_year count min  mean      median max  std       \n",
       "1  1       2010           1     621  621.0000  621.0  621         NA\n",
       "2  1       2012           1     882  882.0000  882.0  882         NA\n",
       "3  1       2014           3     786 1084.6667 1113.0 1355  285.55618\n",
       "4  1       2017           1     685  685.0000  685.0  685         NA\n",
       "5  1       2019           2     185  492.5000  492.5  800  434.87067\n",
       "6  1       2020           2     607  709.5000  709.5  812  144.95689\n",
       "7  1       2021           2     350  466.5000  466.5  583  164.75588\n",
       "8  1       2022          17     121  312.8235  253.0  999  206.72180\n",
       "9  1       2023           8      30   46.2500   42.5   68   12.92561\n",
       "10 2       2015           1    1947 1947.0000 1947.0 1947         NA\n",
       "11 2       2016           4     611 1376.7500 1165.5 2565  922.18016\n",
       "12 2       2018           2     705 1077.0000 1077.0 1449  526.08745\n",
       "13 2       2019           2     686 2194.5000 2194.5 3703 2133.34116\n",
       "14 2       2020           2     698 1144.5000 1144.5 1591  631.44636\n",
       "15 2       2021           5     130  417.2000  432.0  611  185.04243\n",
       "16 2       2022          16      31  182.0625   96.0  843  210.47358\n",
       "17 2       2023           3      96  243.0000  115.0  518  238.34639\n",
       "18 3       2019           1    1304 1304.0000 1304.0 1304         NA\n",
       "19 3       2020           3     312  920.0000  685.0 1763  753.50448\n",
       "20 3       2021           1    1260 1260.0000 1260.0 1260         NA\n",
       "21 3       2022          18     212  498.4444  370.5 1264  301.40265\n",
       "22 3       2023           3     250  352.6667  303.0  505  134.55978\n",
       "23 4       2016           1    2713 2713.0000 2713.0 2713         NA\n",
       "24 4       2021           3     489  558.6667  593.0  594   60.33517\n",
       "25 4       2022          14      93  247.7143  180.5  618  184.87685\n",
       "26 4       2023           1     175  175.0000  175.0  175         NA\n",
       "27 5       2019           4     807 1397.7500 1231.0 2322  669.66727\n",
       "28 5       2022          13     137  462.3846  273.0 2513  634.27985\n",
       "29 6       1996           1     106  106.0000  106.0  106         NA\n",
       "30 6       2014           2    2236 2258.0000 2258.0 2280   31.11270\n",
       "31 6       2017           3     135 2085.3333 2559.0 3562 1761.91723\n",
       "32 6       2020           1    1555 1555.0000 1555.0 1555         NA\n",
       "33 6       2021           2     261  781.5000  781.5 1302  736.09816\n",
       "34 6       2022           2     146  161.0000  161.0  176   21.21320\n",
       "35 6       2023           2      39  117.0000  117.0  195  110.30866\n",
       "36 7       2020           1     826  826.0000  826.0  826         NA\n",
       "37 7       2021           2     356  965.5000  965.5 1575  861.96317\n",
       "38 7       2022          20      49  186.2500   96.0 1163  251.14074"
      ]
     },
     "metadata": {},
     "output_type": "display_data"
    }
   ],
   "source": [
    "df_hm2 %>%\n",
    "  group_by(artist5, released_year) %>%\n",
    "  summarise(\n",
    "    count = n(),\n",
    "    min = min(streams_m, na.rm = TRUE),\n",
    "    mean = mean(streams_m, na.rm = TRUE),\n",
    "    median = median(streams_m, na.rm = TRUE),\n",
    "    max = max(streams_m, na.rm = TRUE),        \n",
    "    std = sd(streams_m, na.rm =TRUE)\n",
    "  , .groups = \"drop\") \n"
   ]
  },
  {
   "cell_type": "code",
   "execution_count": null,
   "id": "e644ff13-94f3-4466-bfb4-47a76263a81f",
   "metadata": {},
   "outputs": [],
   "source": [
    "df_hm2$artist5[df_hm2$artist4 == 'Taylor Swift'] <-1\n",
    "df_hm2$artist5[df_hm2$artist4 == 'The Weeknd'] <-2\n",
    "df_hm2$artist5[df_hm2$artist4 == 'Bad Bunny'] <-3\n",
    "df_hm2$artist5[df_hm2$artist4 == 'Drake'] <-4\n",
    "df_hm2$artist5[df_hm2$artist4 == 'Harry Styles'] <-5\n",
    "df_hm2$artist5[df_hm2$artist4 == 'Ed Sheeran'] <-6\n",
    "df_hm2$artist5[df_hm2$artist4 == 'SZA'] <-7"
   ]
  },
  {
   "cell_type": "code",
   "execution_count": null,
   "id": "1096cf34-12ad-49d2-b0ab-64e639a5afdb",
   "metadata": {},
   "outputs": [],
   "source": [
    "df_ts %>%\n",
    "  group_by(artist4) %>%\n",
    "  summarise(\n",
    "    min = min(streams_m, na.rm = TRUE),\n",
    "    mean = mean(streams_m, na.rm = TRUE),\n",
    "    median = median(streams_m, na.rm = TRUE),\n",
    "    max = max(streams_m, na.rm = TRUE),        \n",
    "    std = sd(streams_m, na.rm =TRUE)\n",
    "  ) "
   ]
  },
  {
   "cell_type": "code",
   "execution_count": 37,
   "id": "2250c34e-b1a6-45f1-afd5-1a01b89da632",
   "metadata": {},
   "outputs": [
    {
     "data": {
      "text/html": [
       "<table class=\"dataframe\">\n",
       "<caption>A tibble: 38 × 8</caption>\n",
       "<thead>\n",
       "\t<tr><th scope=col>artist5</th><th scope=col>released_year</th><th scope=col>count</th><th scope=col>min</th><th scope=col>mean</th><th scope=col>median</th><th scope=col>max</th><th scope=col>std</th></tr>\n",
       "\t<tr><th scope=col>&lt;chr&gt;</th><th scope=col>&lt;int&gt;</th><th scope=col>&lt;int&gt;</th><th scope=col>&lt;int&gt;</th><th scope=col>&lt;dbl&gt;</th><th scope=col>&lt;dbl&gt;</th><th scope=col>&lt;int&gt;</th><th scope=col>&lt;dbl&gt;</th></tr>\n",
       "</thead>\n",
       "<tbody>\n",
       "\t<tr><td>Bad Bunny   </td><td>2019</td><td> 1</td><td>1304</td><td>1304.0000</td><td>1304.0</td><td>1304</td><td>        NA</td></tr>\n",
       "\t<tr><td>Bad Bunny   </td><td>2020</td><td> 3</td><td> 312</td><td> 920.0000</td><td> 685.0</td><td>1763</td><td> 753.50448</td></tr>\n",
       "\t<tr><td>Bad Bunny   </td><td>2021</td><td> 1</td><td>1260</td><td>1260.0000</td><td>1260.0</td><td>1260</td><td>        NA</td></tr>\n",
       "\t<tr><td>Bad Bunny   </td><td>2022</td><td>18</td><td> 212</td><td> 498.4444</td><td> 370.5</td><td>1264</td><td> 301.40265</td></tr>\n",
       "\t<tr><td>Bad Bunny   </td><td>2023</td><td> 3</td><td> 250</td><td> 352.6667</td><td> 303.0</td><td> 505</td><td> 134.55978</td></tr>\n",
       "\t<tr><td>Drake       </td><td>2016</td><td> 1</td><td>2713</td><td>2713.0000</td><td>2713.0</td><td>2713</td><td>        NA</td></tr>\n",
       "\t<tr><td>Drake       </td><td>2021</td><td> 3</td><td> 489</td><td> 558.6667</td><td> 593.0</td><td> 594</td><td>  60.33517</td></tr>\n",
       "\t<tr><td>Drake       </td><td>2022</td><td>14</td><td>  93</td><td> 247.7143</td><td> 180.5</td><td> 618</td><td> 184.87685</td></tr>\n",
       "\t<tr><td>Drake       </td><td>2023</td><td> 1</td><td> 175</td><td> 175.0000</td><td> 175.0</td><td> 175</td><td>        NA</td></tr>\n",
       "\t<tr><td>Ed Sheeran  </td><td>1996</td><td> 1</td><td> 106</td><td> 106.0000</td><td> 106.0</td><td> 106</td><td>        NA</td></tr>\n",
       "\t<tr><td>Ed Sheeran  </td><td>2014</td><td> 2</td><td>2236</td><td>2258.0000</td><td>2258.0</td><td>2280</td><td>  31.11270</td></tr>\n",
       "\t<tr><td>Ed Sheeran  </td><td>2017</td><td> 3</td><td> 135</td><td>2085.3333</td><td>2559.0</td><td>3562</td><td>1761.91723</td></tr>\n",
       "\t<tr><td>Ed Sheeran  </td><td>2020</td><td> 1</td><td>1555</td><td>1555.0000</td><td>1555.0</td><td>1555</td><td>        NA</td></tr>\n",
       "\t<tr><td>Ed Sheeran  </td><td>2021</td><td> 2</td><td> 261</td><td> 781.5000</td><td> 781.5</td><td>1302</td><td> 736.09816</td></tr>\n",
       "\t<tr><td>Ed Sheeran  </td><td>2022</td><td> 2</td><td> 146</td><td> 161.0000</td><td> 161.0</td><td> 176</td><td>  21.21320</td></tr>\n",
       "\t<tr><td>Ed Sheeran  </td><td>2023</td><td> 2</td><td>  39</td><td> 117.0000</td><td> 117.0</td><td> 195</td><td> 110.30866</td></tr>\n",
       "\t<tr><td>Harry Styles</td><td>2019</td><td> 4</td><td> 807</td><td>1397.7500</td><td>1231.0</td><td>2322</td><td> 669.66727</td></tr>\n",
       "\t<tr><td>Harry Styles</td><td>2022</td><td>13</td><td> 137</td><td> 462.3846</td><td> 273.0</td><td>2513</td><td> 634.27985</td></tr>\n",
       "\t<tr><td>SZA         </td><td>2020</td><td> 1</td><td> 826</td><td> 826.0000</td><td> 826.0</td><td> 826</td><td>        NA</td></tr>\n",
       "\t<tr><td>SZA         </td><td>2021</td><td> 2</td><td> 356</td><td> 965.5000</td><td> 965.5</td><td>1575</td><td> 861.96317</td></tr>\n",
       "\t<tr><td>SZA         </td><td>2022</td><td>20</td><td>  49</td><td> 186.2500</td><td>  96.0</td><td>1163</td><td> 251.14074</td></tr>\n",
       "\t<tr><td>Taylor Swift</td><td>2010</td><td> 1</td><td> 621</td><td> 621.0000</td><td> 621.0</td><td> 621</td><td>        NA</td></tr>\n",
       "\t<tr><td>Taylor Swift</td><td>2012</td><td> 1</td><td> 882</td><td> 882.0000</td><td> 882.0</td><td> 882</td><td>        NA</td></tr>\n",
       "\t<tr><td>Taylor Swift</td><td>2014</td><td> 3</td><td> 786</td><td>1084.6667</td><td>1113.0</td><td>1355</td><td> 285.55618</td></tr>\n",
       "\t<tr><td>Taylor Swift</td><td>2017</td><td> 1</td><td> 685</td><td> 685.0000</td><td> 685.0</td><td> 685</td><td>        NA</td></tr>\n",
       "\t<tr><td>Taylor Swift</td><td>2019</td><td> 2</td><td> 185</td><td> 492.5000</td><td> 492.5</td><td> 800</td><td> 434.87067</td></tr>\n",
       "\t<tr><td>Taylor Swift</td><td>2020</td><td> 2</td><td> 607</td><td> 709.5000</td><td> 709.5</td><td> 812</td><td> 144.95689</td></tr>\n",
       "\t<tr><td>Taylor Swift</td><td>2021</td><td> 2</td><td> 350</td><td> 466.5000</td><td> 466.5</td><td> 583</td><td> 164.75588</td></tr>\n",
       "\t<tr><td>Taylor Swift</td><td>2022</td><td>17</td><td> 121</td><td> 312.8235</td><td> 253.0</td><td> 999</td><td> 206.72180</td></tr>\n",
       "\t<tr><td>Taylor Swift</td><td>2023</td><td> 8</td><td>  30</td><td>  46.2500</td><td>  42.5</td><td>  68</td><td>  12.92561</td></tr>\n",
       "\t<tr><td>The Weeknd  </td><td>2015</td><td> 1</td><td>1947</td><td>1947.0000</td><td>1947.0</td><td>1947</td><td>        NA</td></tr>\n",
       "\t<tr><td>The Weeknd  </td><td>2016</td><td> 4</td><td> 611</td><td>1376.7500</td><td>1165.5</td><td>2565</td><td> 922.18016</td></tr>\n",
       "\t<tr><td>The Weeknd  </td><td>2018</td><td> 2</td><td> 705</td><td>1077.0000</td><td>1077.0</td><td>1449</td><td> 526.08745</td></tr>\n",
       "\t<tr><td>The Weeknd  </td><td>2019</td><td> 2</td><td> 686</td><td>2194.5000</td><td>2194.5</td><td>3703</td><td>2133.34116</td></tr>\n",
       "\t<tr><td>The Weeknd  </td><td>2020</td><td> 2</td><td> 698</td><td>1144.5000</td><td>1144.5</td><td>1591</td><td> 631.44636</td></tr>\n",
       "\t<tr><td>The Weeknd  </td><td>2021</td><td> 5</td><td> 130</td><td> 417.2000</td><td> 432.0</td><td> 611</td><td> 185.04243</td></tr>\n",
       "\t<tr><td>The Weeknd  </td><td>2022</td><td>16</td><td>  31</td><td> 182.0625</td><td>  96.0</td><td> 843</td><td> 210.47358</td></tr>\n",
       "\t<tr><td>The Weeknd  </td><td>2023</td><td> 3</td><td>  96</td><td> 243.0000</td><td> 115.0</td><td> 518</td><td> 238.34639</td></tr>\n",
       "</tbody>\n",
       "</table>\n"
      ],
      "text/latex": [
       "A tibble: 38 × 8\n",
       "\\begin{tabular}{llllllll}\n",
       " artist5 & released\\_year & count & min & mean & median & max & std\\\\\n",
       " <chr> & <int> & <int> & <int> & <dbl> & <dbl> & <int> & <dbl>\\\\\n",
       "\\hline\n",
       "\t Bad Bunny    & 2019 &  1 & 1304 & 1304.0000 & 1304.0 & 1304 &         NA\\\\\n",
       "\t Bad Bunny    & 2020 &  3 &  312 &  920.0000 &  685.0 & 1763 &  753.50448\\\\\n",
       "\t Bad Bunny    & 2021 &  1 & 1260 & 1260.0000 & 1260.0 & 1260 &         NA\\\\\n",
       "\t Bad Bunny    & 2022 & 18 &  212 &  498.4444 &  370.5 & 1264 &  301.40265\\\\\n",
       "\t Bad Bunny    & 2023 &  3 &  250 &  352.6667 &  303.0 &  505 &  134.55978\\\\\n",
       "\t Drake        & 2016 &  1 & 2713 & 2713.0000 & 2713.0 & 2713 &         NA\\\\\n",
       "\t Drake        & 2021 &  3 &  489 &  558.6667 &  593.0 &  594 &   60.33517\\\\\n",
       "\t Drake        & 2022 & 14 &   93 &  247.7143 &  180.5 &  618 &  184.87685\\\\\n",
       "\t Drake        & 2023 &  1 &  175 &  175.0000 &  175.0 &  175 &         NA\\\\\n",
       "\t Ed Sheeran   & 1996 &  1 &  106 &  106.0000 &  106.0 &  106 &         NA\\\\\n",
       "\t Ed Sheeran   & 2014 &  2 & 2236 & 2258.0000 & 2258.0 & 2280 &   31.11270\\\\\n",
       "\t Ed Sheeran   & 2017 &  3 &  135 & 2085.3333 & 2559.0 & 3562 & 1761.91723\\\\\n",
       "\t Ed Sheeran   & 2020 &  1 & 1555 & 1555.0000 & 1555.0 & 1555 &         NA\\\\\n",
       "\t Ed Sheeran   & 2021 &  2 &  261 &  781.5000 &  781.5 & 1302 &  736.09816\\\\\n",
       "\t Ed Sheeran   & 2022 &  2 &  146 &  161.0000 &  161.0 &  176 &   21.21320\\\\\n",
       "\t Ed Sheeran   & 2023 &  2 &   39 &  117.0000 &  117.0 &  195 &  110.30866\\\\\n",
       "\t Harry Styles & 2019 &  4 &  807 & 1397.7500 & 1231.0 & 2322 &  669.66727\\\\\n",
       "\t Harry Styles & 2022 & 13 &  137 &  462.3846 &  273.0 & 2513 &  634.27985\\\\\n",
       "\t SZA          & 2020 &  1 &  826 &  826.0000 &  826.0 &  826 &         NA\\\\\n",
       "\t SZA          & 2021 &  2 &  356 &  965.5000 &  965.5 & 1575 &  861.96317\\\\\n",
       "\t SZA          & 2022 & 20 &   49 &  186.2500 &   96.0 & 1163 &  251.14074\\\\\n",
       "\t Taylor Swift & 2010 &  1 &  621 &  621.0000 &  621.0 &  621 &         NA\\\\\n",
       "\t Taylor Swift & 2012 &  1 &  882 &  882.0000 &  882.0 &  882 &         NA\\\\\n",
       "\t Taylor Swift & 2014 &  3 &  786 & 1084.6667 & 1113.0 & 1355 &  285.55618\\\\\n",
       "\t Taylor Swift & 2017 &  1 &  685 &  685.0000 &  685.0 &  685 &         NA\\\\\n",
       "\t Taylor Swift & 2019 &  2 &  185 &  492.5000 &  492.5 &  800 &  434.87067\\\\\n",
       "\t Taylor Swift & 2020 &  2 &  607 &  709.5000 &  709.5 &  812 &  144.95689\\\\\n",
       "\t Taylor Swift & 2021 &  2 &  350 &  466.5000 &  466.5 &  583 &  164.75588\\\\\n",
       "\t Taylor Swift & 2022 & 17 &  121 &  312.8235 &  253.0 &  999 &  206.72180\\\\\n",
       "\t Taylor Swift & 2023 &  8 &   30 &   46.2500 &   42.5 &   68 &   12.92561\\\\\n",
       "\t The Weeknd   & 2015 &  1 & 1947 & 1947.0000 & 1947.0 & 1947 &         NA\\\\\n",
       "\t The Weeknd   & 2016 &  4 &  611 & 1376.7500 & 1165.5 & 2565 &  922.18016\\\\\n",
       "\t The Weeknd   & 2018 &  2 &  705 & 1077.0000 & 1077.0 & 1449 &  526.08745\\\\\n",
       "\t The Weeknd   & 2019 &  2 &  686 & 2194.5000 & 2194.5 & 3703 & 2133.34116\\\\\n",
       "\t The Weeknd   & 2020 &  2 &  698 & 1144.5000 & 1144.5 & 1591 &  631.44636\\\\\n",
       "\t The Weeknd   & 2021 &  5 &  130 &  417.2000 &  432.0 &  611 &  185.04243\\\\\n",
       "\t The Weeknd   & 2022 & 16 &   31 &  182.0625 &   96.0 &  843 &  210.47358\\\\\n",
       "\t The Weeknd   & 2023 &  3 &   96 &  243.0000 &  115.0 &  518 &  238.34639\\\\\n",
       "\\end{tabular}\n"
      ],
      "text/markdown": [
       "\n",
       "A tibble: 38 × 8\n",
       "\n",
       "| artist5 &lt;chr&gt; | released_year &lt;int&gt; | count &lt;int&gt; | min &lt;int&gt; | mean &lt;dbl&gt; | median &lt;dbl&gt; | max &lt;int&gt; | std &lt;dbl&gt; |\n",
       "|---|---|---|---|---|---|---|---|\n",
       "| Bad Bunny    | 2019 |  1 | 1304 | 1304.0000 | 1304.0 | 1304 |         NA |\n",
       "| Bad Bunny    | 2020 |  3 |  312 |  920.0000 |  685.0 | 1763 |  753.50448 |\n",
       "| Bad Bunny    | 2021 |  1 | 1260 | 1260.0000 | 1260.0 | 1260 |         NA |\n",
       "| Bad Bunny    | 2022 | 18 |  212 |  498.4444 |  370.5 | 1264 |  301.40265 |\n",
       "| Bad Bunny    | 2023 |  3 |  250 |  352.6667 |  303.0 |  505 |  134.55978 |\n",
       "| Drake        | 2016 |  1 | 2713 | 2713.0000 | 2713.0 | 2713 |         NA |\n",
       "| Drake        | 2021 |  3 |  489 |  558.6667 |  593.0 |  594 |   60.33517 |\n",
       "| Drake        | 2022 | 14 |   93 |  247.7143 |  180.5 |  618 |  184.87685 |\n",
       "| Drake        | 2023 |  1 |  175 |  175.0000 |  175.0 |  175 |         NA |\n",
       "| Ed Sheeran   | 1996 |  1 |  106 |  106.0000 |  106.0 |  106 |         NA |\n",
       "| Ed Sheeran   | 2014 |  2 | 2236 | 2258.0000 | 2258.0 | 2280 |   31.11270 |\n",
       "| Ed Sheeran   | 2017 |  3 |  135 | 2085.3333 | 2559.0 | 3562 | 1761.91723 |\n",
       "| Ed Sheeran   | 2020 |  1 | 1555 | 1555.0000 | 1555.0 | 1555 |         NA |\n",
       "| Ed Sheeran   | 2021 |  2 |  261 |  781.5000 |  781.5 | 1302 |  736.09816 |\n",
       "| Ed Sheeran   | 2022 |  2 |  146 |  161.0000 |  161.0 |  176 |   21.21320 |\n",
       "| Ed Sheeran   | 2023 |  2 |   39 |  117.0000 |  117.0 |  195 |  110.30866 |\n",
       "| Harry Styles | 2019 |  4 |  807 | 1397.7500 | 1231.0 | 2322 |  669.66727 |\n",
       "| Harry Styles | 2022 | 13 |  137 |  462.3846 |  273.0 | 2513 |  634.27985 |\n",
       "| SZA          | 2020 |  1 |  826 |  826.0000 |  826.0 |  826 |         NA |\n",
       "| SZA          | 2021 |  2 |  356 |  965.5000 |  965.5 | 1575 |  861.96317 |\n",
       "| SZA          | 2022 | 20 |   49 |  186.2500 |   96.0 | 1163 |  251.14074 |\n",
       "| Taylor Swift | 2010 |  1 |  621 |  621.0000 |  621.0 |  621 |         NA |\n",
       "| Taylor Swift | 2012 |  1 |  882 |  882.0000 |  882.0 |  882 |         NA |\n",
       "| Taylor Swift | 2014 |  3 |  786 | 1084.6667 | 1113.0 | 1355 |  285.55618 |\n",
       "| Taylor Swift | 2017 |  1 |  685 |  685.0000 |  685.0 |  685 |         NA |\n",
       "| Taylor Swift | 2019 |  2 |  185 |  492.5000 |  492.5 |  800 |  434.87067 |\n",
       "| Taylor Swift | 2020 |  2 |  607 |  709.5000 |  709.5 |  812 |  144.95689 |\n",
       "| Taylor Swift | 2021 |  2 |  350 |  466.5000 |  466.5 |  583 |  164.75588 |\n",
       "| Taylor Swift | 2022 | 17 |  121 |  312.8235 |  253.0 |  999 |  206.72180 |\n",
       "| Taylor Swift | 2023 |  8 |   30 |   46.2500 |   42.5 |   68 |   12.92561 |\n",
       "| The Weeknd   | 2015 |  1 | 1947 | 1947.0000 | 1947.0 | 1947 |         NA |\n",
       "| The Weeknd   | 2016 |  4 |  611 | 1376.7500 | 1165.5 | 2565 |  922.18016 |\n",
       "| The Weeknd   | 2018 |  2 |  705 | 1077.0000 | 1077.0 | 1449 |  526.08745 |\n",
       "| The Weeknd   | 2019 |  2 |  686 | 2194.5000 | 2194.5 | 3703 | 2133.34116 |\n",
       "| The Weeknd   | 2020 |  2 |  698 | 1144.5000 | 1144.5 | 1591 |  631.44636 |\n",
       "| The Weeknd   | 2021 |  5 |  130 |  417.2000 |  432.0 |  611 |  185.04243 |\n",
       "| The Weeknd   | 2022 | 16 |   31 |  182.0625 |   96.0 |  843 |  210.47358 |\n",
       "| The Weeknd   | 2023 |  3 |   96 |  243.0000 |  115.0 |  518 |  238.34639 |\n",
       "\n"
      ],
      "text/plain": [
       "   artist5      released_year count min  mean      median max  std       \n",
       "1  Bad Bunny    2019           1    1304 1304.0000 1304.0 1304         NA\n",
       "2  Bad Bunny    2020           3     312  920.0000  685.0 1763  753.50448\n",
       "3  Bad Bunny    2021           1    1260 1260.0000 1260.0 1260         NA\n",
       "4  Bad Bunny    2022          18     212  498.4444  370.5 1264  301.40265\n",
       "5  Bad Bunny    2023           3     250  352.6667  303.0  505  134.55978\n",
       "6  Drake        2016           1    2713 2713.0000 2713.0 2713         NA\n",
       "7  Drake        2021           3     489  558.6667  593.0  594   60.33517\n",
       "8  Drake        2022          14      93  247.7143  180.5  618  184.87685\n",
       "9  Drake        2023           1     175  175.0000  175.0  175         NA\n",
       "10 Ed Sheeran   1996           1     106  106.0000  106.0  106         NA\n",
       "11 Ed Sheeran   2014           2    2236 2258.0000 2258.0 2280   31.11270\n",
       "12 Ed Sheeran   2017           3     135 2085.3333 2559.0 3562 1761.91723\n",
       "13 Ed Sheeran   2020           1    1555 1555.0000 1555.0 1555         NA\n",
       "14 Ed Sheeran   2021           2     261  781.5000  781.5 1302  736.09816\n",
       "15 Ed Sheeran   2022           2     146  161.0000  161.0  176   21.21320\n",
       "16 Ed Sheeran   2023           2      39  117.0000  117.0  195  110.30866\n",
       "17 Harry Styles 2019           4     807 1397.7500 1231.0 2322  669.66727\n",
       "18 Harry Styles 2022          13     137  462.3846  273.0 2513  634.27985\n",
       "19 SZA          2020           1     826  826.0000  826.0  826         NA\n",
       "20 SZA          2021           2     356  965.5000  965.5 1575  861.96317\n",
       "21 SZA          2022          20      49  186.2500   96.0 1163  251.14074\n",
       "22 Taylor Swift 2010           1     621  621.0000  621.0  621         NA\n",
       "23 Taylor Swift 2012           1     882  882.0000  882.0  882         NA\n",
       "24 Taylor Swift 2014           3     786 1084.6667 1113.0 1355  285.55618\n",
       "25 Taylor Swift 2017           1     685  685.0000  685.0  685         NA\n",
       "26 Taylor Swift 2019           2     185  492.5000  492.5  800  434.87067\n",
       "27 Taylor Swift 2020           2     607  709.5000  709.5  812  144.95689\n",
       "28 Taylor Swift 2021           2     350  466.5000  466.5  583  164.75588\n",
       "29 Taylor Swift 2022          17     121  312.8235  253.0  999  206.72180\n",
       "30 Taylor Swift 2023           8      30   46.2500   42.5   68   12.92561\n",
       "31 The Weeknd   2015           1    1947 1947.0000 1947.0 1947         NA\n",
       "32 The Weeknd   2016           4     611 1376.7500 1165.5 2565  922.18016\n",
       "33 The Weeknd   2018           2     705 1077.0000 1077.0 1449  526.08745\n",
       "34 The Weeknd   2019           2     686 2194.5000 2194.5 3703 2133.34116\n",
       "35 The Weeknd   2020           2     698 1144.5000 1144.5 1591  631.44636\n",
       "36 The Weeknd   2021           5     130  417.2000  432.0  611  185.04243\n",
       "37 The Weeknd   2022          16      31  182.0625   96.0  843  210.47358\n",
       "38 The Weeknd   2023           3      96  243.0000  115.0  518  238.34639"
      ]
     },
     "metadata": {},
     "output_type": "display_data"
    }
   ],
   "source": [
    "# Assume you have a named vector where the names are the numbers and the values are the artist names\n",
    "artist_names <- c(\"1\" = \"Taylor Swift\", \"2\" = \"The Weeknd\", \"3\" = \"Bad Bunny\",\n",
    "                  \"4\" = \"Drake\", \"5\" = \"Harry Styles\", \"6\" = \"Ed Sheeran\",\n",
    "                  \"7\" = \"SZA\")\n",
    "\n",
    "# Use the mutate function to replace the numbers with artist names\n",
    "df_hm2 <- df_hm2 %>%\n",
    "  mutate(artist5 = artist_names[as.character(artist5)])\n",
    "\n",
    "# Now you can group by artist5 and released_year and calculate the statistics\n",
    "df_hm2 %>%\n",
    "  group_by(artist5, released_year) %>%\n",
    "  summarise(\n",
    "    count = n(),\n",
    "    min = min(streams_m, na.rm = TRUE),\n",
    "    mean = mean(streams_m, na.rm = TRUE),\n",
    "    median = median(streams_m, na.rm = TRUE),\n",
    "    max = max(streams_m, na.rm = TRUE),        \n",
    "    std = sd(streams_m, na.rm =TRUE)\n",
    "  , .groups = \"drop\") \n"
   ]
  },
  {
   "cell_type": "code",
   "execution_count": 38,
   "id": "1e179b1f-6e6c-43f5-b371-4b02a91c4694",
   "metadata": {},
   "outputs": [
    {
     "data": {
      "text/plain": [
       "\n",
       "   Bad Bunny        Drake   Ed Sheeran Harry Styles          SZA Taylor Swift \n",
       "          26           19           13           17           23           37 \n",
       "  The Weeknd \n",
       "          35 "
      ]
     },
     "metadata": {},
     "output_type": "display_data"
    }
   ],
   "source": [
    "table(df_hm2$artist5)"
   ]
  },
  {
   "cell_type": "code",
   "execution_count": null,
   "id": "59c7dcea-c648-4905-b80e-6153b3214780",
   "metadata": {},
   "outputs": [],
   "source": []
  },
  {
   "cell_type": "code",
   "execution_count": null,
   "id": "25199278-a679-4b27-9b4d-4cd5995672ff",
   "metadata": {},
   "outputs": [],
   "source": []
  }
 ],
 "metadata": {
  "kernelspec": {
   "display_name": "R",
   "language": "R",
   "name": "ir"
  },
  "language_info": {
   "codemirror_mode": "r",
   "file_extension": ".r",
   "mimetype": "text/x-r-source",
   "name": "R",
   "pygments_lexer": "r",
   "version": "4.3.1"
  }
 },
 "nbformat": 4,
 "nbformat_minor": 5
}
