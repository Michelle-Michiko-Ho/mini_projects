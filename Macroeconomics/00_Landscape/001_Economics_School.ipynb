{
 "cells": [
  {
   "cell_type": "markdown",
   "id": "6936fc2b-5dff-4865-baab-a5c0e0e80167",
   "metadata": {},
   "source": [
    "# School of Economics History"
   ]
  },
  {
   "cell_type": "markdown",
   "id": "2b08bcfc-9f49-4c83-9655-c5559d966826",
   "metadata": {},
   "source": [
    "\n",
    "The progression of economic theories and schools of thought has evolved significantly over the centuries. Here’s a chronological overview of the major schools and their stages:\n",
    "\n",
    "### 1. **Mercantilism (16th - 18th Century)**\n",
    "   - Focused on the role of the state in managing the economy.\n",
    "   - Emphasized trade surplus and the accumulation of gold and silver.\n",
    "   - Key figures: Thomas Mun, Jean-Baptiste Colbert.\n",
    "\n",
    "### 2. **Classical Economics (Late 18th - 19th Century)**\n",
    "   - Introduced concepts of free markets and the \"invisible hand.\"\n",
    "   - Focused on production, supply, and long-term growth.\n",
    "   - Key figures: Adam Smith, David Ricardo, Jean-Baptiste Say, John Stuart Mill.\n",
    "\n",
    "### 3. **Marxian Economics (Mid-19th Century)**\n",
    "   - Critiqued capitalism, focusing on class struggle and exploitation.\n",
    "   - Introduced the labor theory of value and the concept of surplus value.\n",
    "   - Key figure: Karl Marx.\n",
    "\n",
    "### 4. **Neoclassical Economics (Late 19th Century - Early 20th Century)**\n",
    "   - Emphasized utility, marginalism, and individual decision-making.\n",
    "   - Introduced concepts of supply and demand equilibrium.\n",
    "   - Key figures: Alfred Marshall, Léon Walras, Vilfredo Pareto.\n",
    "\n",
    "### 5. **Keynesian Economics (1930s - 1970s)**\n",
    "   - Emerged during the Great Depression, emphasizing the importance of aggregate demand.\n",
    "   - Advocated for government intervention to manage economic cycles.\n",
    "   - Key figure: John Maynard Keynes.\n",
    "\n",
    "### 6. **Monetarism (1960s - 1980s)**\n",
    "   - Focused on the role of money supply in influencing economic activity.\n",
    "   - Critiqued Keynesian policies, advocating for control of inflation.\n",
    "   - Key figure: Milton Friedman.\n",
    "\n",
    "### 7. **New Classical Economics (1970s - Present)**\n",
    "   - Introduced the concept of rational expectations and microfoundations of macroeconomic models.\n",
    "   - Emphasized that markets are efficient and that government intervention is often counterproductive.\n",
    "   - Key figures: Robert Lucas, Thomas Sargent.\n",
    "\n",
    "### 8. **New Keynesian Economics (1980s - Present)**\n",
    "   - Integrated microeconomic foundations into Keynesian economics.\n",
    "   - Emphasized price stickiness and market imperfections.\n",
    "   - Key figures: Greg Mankiw, David Romer.\n",
    "\n",
    "### 9. **Behavioral Economics (Late 20th Century - Present)**\n",
    "   - Focuses on psychological factors influencing economic decision-making.\n",
    "   - Challenges the assumption of rational behavior in traditional economics.\n",
    "   - Key figures: Daniel Kahneman, Richard Thaler.\n",
    "\n",
    "### 10. **Post-Keynesian Economics (Late 20th Century - Present)**\n",
    "   - Builds on Keynes's ideas, emphasizing uncertainty, and the role of effective demand.\n",
    "   - Critiques both neoclassical and mainstream Keynesian models.\n",
    "   - Key figures: Joan Robinson, Hyman Minsky.\n",
    "\n",
    "### 11. **Institutional Economics (Late 20th Century - Present)**\n",
    "   - Focuses on the role of institutions in shaping economic behavior and outcomes.\n",
    "   - Examines how legal, social, and political factors influence economic performance.\n",
    "   - Key figures: Douglass North, Oliver Williamson.\n",
    "\n",
    "### Conclusion\n",
    "The landscape of economic thought continues to evolve, integrating insights from various disciplines and responding to contemporary challenges. Each school has contributed to a richer understanding of economic dynamics, reflecting the complexity of human behavior and societal interactions."
   ]
  },
  {
   "cell_type": "markdown",
   "id": "1f4ad0f9-f31c-4ad0-a6de-0d81800d6c96",
   "metadata": {},
   "source": [
    "## Classical School\n",
    "\n",
    "**Key Figures**\n",
    "\n",
    "The Classical School of economics, which emerged in the late 18th and early 19th centuries, included several prominent economists who laid the foundations for modern economic thought. Key figures include:\n",
    "\n",
    "1. **Adam Smith**: Often referred to as the father of economics, his seminal work, \"The Wealth of Nations\" (1776), introduced ideas about the division of labor, free markets, and the \"invisible hand\" guiding economic activity.\n",
    "\n",
    "2. **David Ricardo**: Known for his theory of comparative advantage, Ricardo's work expanded on Smith's ideas and focused on trade, value, and distribution in his book \"Principles of Political Economy and Taxation\" (1817).\n",
    "\n",
    "3. **Thomas Malthus**: Famous for his theories on population growth, Malthus's work \"An Essay on the Principle of Population\" (1798) argued that population tends to outstrip food supply, leading to periodic famines and societal issues.\n",
    "\n",
    "4. **John Stuart Mill**: Mill contributed significantly to classical economics and political philosophy. His book \"Principles of Political Economy\" (1848) synthesized earlier classical ideas and addressed issues like social justice and liberty.\n",
    "\n",
    "5. **Jean-Baptiste Say**: Known for Say's Law, which posits that supply creates its own demand, Say's work emphasized the role of production in the economy.\n",
    "\n",
    "These economists significantly shaped the Classical School's principles, influencing later economic thought and policies."
   ]
  },
  {
   "cell_type": "markdown",
   "id": "91e71a90-651e-40ae-83de-ba6830bb82d8",
   "metadata": {},
   "source": [
    "# Keyesian School of Economics\n",
    "\n",
    "The idea that demand creates supply is primarily associated with the **Keynesian School of economics**, founded by John Maynard Keynes during the 1930s. Keynes challenged the Classical view, particularly Say's Law, by arguing that demand is a critical driver of economic activity, especially during periods of economic downturn.\n",
    "\n",
    "Key influences on the development of this idea include:\n",
    "\n",
    "1. **The Great Depression**: The severe economic downturn highlighted the failures of the Classical model, as high unemployment and underconsumption contradicted the notion that supply would naturally create demand.\n",
    "\n",
    "2. **Keynes's \"The General Theory of Employment, Interest, and Money\" (1936)**: In this seminal work, Keynes argued that aggregate demand (total spending in the economy) is what drives production and employment. He emphasized that insufficient demand can lead to prolonged periods of unemployment and economic stagnation.\n",
    "\n",
    "3. **Multiplier Effect**: Keynes introduced the concept of the multiplier effect, where an increase in demand leads to a more significant increase in economic output. This idea further supported the notion that demand drives supply.\n",
    "\n",
    "4. **Post-World War II Economic Policies**: Many governments adopted Keynesian policies to stimulate demand through fiscal measures, reinforcing the belief that managing demand is essential for economic stability.\n",
    "\n",
    "These ideas collectively contributed to the view that demand is a fundamental driver of economic activity, contrasting with the Classical emphasis on supply."
   ]
  },
  {
   "cell_type": "code",
   "execution_count": null,
   "id": "f61353c8-0c6f-4888-b8ae-d402313c71e5",
   "metadata": {},
   "outputs": [],
   "source": []
  }
 ],
 "metadata": {
  "kernelspec": {
   "display_name": "Python 3 (ipykernel)",
   "language": "python",
   "name": "python3"
  },
  "language_info": {
   "codemirror_mode": {
    "name": "ipython",
    "version": 3
   },
   "file_extension": ".py",
   "mimetype": "text/x-python",
   "name": "python",
   "nbconvert_exporter": "python",
   "pygments_lexer": "ipython3",
   "version": "3.10.14"
  }
 },
 "nbformat": 4,
 "nbformat_minor": 5
}
