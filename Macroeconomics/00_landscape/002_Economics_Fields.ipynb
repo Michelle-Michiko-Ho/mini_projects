{
 "cells": [
  {
   "cell_type": "markdown",
   "id": "7bd35fb7-66ad-4029-afea-d710d65424cd",
   "metadata": {},
   "source": [
    "# Agricultural Economics"
   ]
  },
  {
   "cell_type": "markdown",
   "id": "a632727f-e536-418d-970b-ab0f685960fd",
   "metadata": {},
   "source": [
    "**Time Periods**\n",
    "\n",
    "Agricultural economics began to emerge as a distinct field in the late 19th and early 20th centuries. Its development was driven by the need to address the economic aspects of agriculture, including production, distribution, and consumption.\n",
    "\n",
    "Key milestones include:\n",
    "\n",
    "1. **Late 19th Century**: The rise of agricultural science and the increasing importance of agriculture in national economies prompted scholars to analyze agricultural practices through an economic lens.\n",
    "\n",
    "2. **1900s**: The establishment of agricultural economics as a formal discipline can be traced back to this period, with universities beginning to offer specialized programs. In the United States, for example, land-grant universities played a crucial role in integrating agricultural science with economic principles.\n",
    "\n",
    "3. **Post-World War II**: The field expanded significantly due to advances in technology, changes in agricultural policy, and the need for food production strategies in a rapidly industrializing world.\n",
    "\n",
    "Today, agricultural economics encompasses a wide range of topics, including farm management, agricultural policy, rural development, and the economics of food systems.\n",
    "\n",
    "\n",
    "**Key Figures**\n",
    "\n",
    "During the emergence of agricultural economics in the late 19th and early 20th centuries, several prominent economists made significant contributions to the field:\n",
    "\n",
    "1. **John Stuart Mill**: Although primarily known for his work in classical economics, Mill also discussed agricultural issues, emphasizing the importance of agriculture in economic development.\n",
    "\n",
    "2. **Alfred Marshall**: His work in microeconomic theory laid foundational concepts that influenced agricultural economics, particularly in understanding supply and demand.\n",
    "\n",
    "3. **Richard T. Ely**: A key figure in American economics, Ely focused on social reform and the role of agriculture in economic development. He helped establish agricultural economics as a formal discipline in the U.S.\n",
    "\n",
    "4. **W. J. Spillman**: Known for his contributions to agricultural marketing and rural economics, Spillman played a significant role in developing agricultural economics as a field of study.\n",
    "\n",
    "5. **Gunnar Myrdal**: Although better known for his work in development economics, Myrdal’s analysis of rural economies and the impact of agricultural policies was influential in shaping agricultural economics.\n",
    "\n",
    "These economists helped establish agricultural economics as a distinct discipline, addressing the complexities of agricultural production, policy, and its role in the broader economy."
   ]
  },
  {
   "cell_type": "code",
   "execution_count": null,
   "id": "abe9ecbe-6ae5-44eb-b5f0-8aef9a793ddf",
   "metadata": {},
   "outputs": [],
   "source": []
  }
 ],
 "metadata": {
  "kernelspec": {
   "display_name": "Python 3 (ipykernel)",
   "language": "python",
   "name": "python3"
  },
  "language_info": {
   "codemirror_mode": {
    "name": "ipython",
    "version": 3
   },
   "file_extension": ".py",
   "mimetype": "text/x-python",
   "name": "python",
   "nbconvert_exporter": "python",
   "pygments_lexer": "ipython3",
   "version": "3.10.14"
  }
 },
 "nbformat": 4,
 "nbformat_minor": 5
}
