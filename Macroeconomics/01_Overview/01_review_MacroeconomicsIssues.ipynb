{
 "cells": [
  {
   "cell_type": "markdown",
   "id": "124b6742-cffd-47dd-9bd7-952403cf5c76",
   "metadata": {},
   "source": [
    "# Actual vs Potential Economic Growth"
   ]
  },
  {
   "cell_type": "markdown",
   "id": "68eaff42-55e2-4db1-84d6-36dac82c78ed",
   "metadata": {},
   "source": [
    "<ul style=\"list-style: none; padding-left: 0; margin-left: 0;\">\n",
    "    <li style=\"display: flex; align-items: center; margin-bottom: 10px;\">\n",
    "        <span style=\"color: orange; font-size: 20pt; font-weight: bold; margin-right: 10px;\">•</span>\n",
    "        <span style=\"color: orange; font-size: 20pt; font-weight: bold; text-decoration: none;\">Actual < Potential</span>\n",
    "    </li>\n",
    "    <li style=\"display: flex; align-items: center; margin-bottom: 10px;\">\n",
    "        <span style=\"color: dodgerblue; font-size: 20pt; font-weight: bold; margin-right: 10px;\">•</span>\n",
    "        <span style=\"color: dodgerblue; font-size: 20pt; font-weight: bold; text-decoration: none;\">Actual > Potential</span>\n",
    "    </li>    \n",
    "</ul>\n",
    "\n"
   ]
  },
  {
   "cell_type": "markdown",
   "id": "29553a2e-2b12-477a-996c-b1b851165cb7",
   "metadata": {},
   "source": [
    "# Nominal vs Real GDP"
   ]
  },
  {
   "cell_type": "markdown",
   "id": "33beb4c9-2f42-46d9-bdde-234eae60849a",
   "metadata": {},
   "source": [
    "<ul style=\"list-style: none; padding-left: 0; margin-left: 0;\">\n",
    "    <li style=\"display: flex; align-items: center; margin-bottom: 10px;\">\n",
    "        <span style=\"color: darkturquoise; font-size: 20pt; font-weight: bold; margin-right: 10px;\">•</span>\n",
    "        <span style=\"color: darkturquoise; font-size: 20pt; font-weight: bold; text-decoration: none;\">Nominal GDP</span>\n",
    "    </li>\n",
    "    <li style=\"display: flex; align-items: center; margin-bottom: 10px;\">\n",
    "        <span style=\"color: cornflowerblue; font-size: 20pt; font-weight: bold; margin-right: 10px;\">•</span>\n",
    "        <span style=\"color: cornflowerblue; font-size: 20pt; font-weight: bold; text-decoration: none;\">Real GDP</span>\n",
    "    </li>    \n",
    "</ul>\n",
    "\n"
   ]
  },
  {
   "cell_type": "markdown",
   "id": "b0e4cee3-8610-4bf0-b685-74ae407b7ccd",
   "metadata": {},
   "source": [
    "# What happens when Gov't runs budget deficit???\n",
    "\n",
    "<h5 style=\"color: crimson; font-style: italic;font-weight: bold;font-size: 15pt;\">Crowding Out Effect</h5>\n",
    "\n",
    "**Define**\n",
    "- It refers to a situation where increased government borrowing to finance a budget deficit leads to a reduction in private sector investment.\n",
    "- When the government runs a budget deficit, it often borrows money by issuing bonds. This increased demand for funds can raise interest rates, making it more expensive for businesses and individuals to borrow.\n",
    "- Potentially, it triggers inflation rising.\n",
    "- As a result,\n",
    "     - private investments may decline\n",
    "     - Real GDP growth may slow\n",
    "       \n",
    "(Reason: because higher interest rates can deter borrowing for things like business expansion or home purchases.)\n",
    "\n",
    "<h5 style=\"color: darkgray; font-style: italic;font-weight: bold;font-size: 15pt;\">Essentially, the government’s borrowing \"crowds out\" private investment, potentially slowing economic growth in the long run.</h5>\n",
    "\n"
   ]
  },
  {
   "cell_type": "code",
   "execution_count": null,
   "id": "dcc1f701-5d4d-4027-af72-964aeabfd035",
   "metadata": {},
   "outputs": [],
   "source": []
  },
  {
   "cell_type": "code",
   "execution_count": null,
   "id": "05f081c7-e8ba-4e2a-99a9-a8aec12c40b7",
   "metadata": {},
   "outputs": [],
   "source": []
  }
 ],
 "metadata": {
  "kernelspec": {
   "display_name": "Python 3 (ipykernel)",
   "language": "python",
   "name": "python3"
  },
  "language_info": {
   "codemirror_mode": {
    "name": "ipython",
    "version": 3
   },
   "file_extension": ".py",
   "mimetype": "text/x-python",
   "name": "python",
   "nbconvert_exporter": "python",
   "pygments_lexer": "ipython3",
   "version": "3.10.14"
  }
 },
 "nbformat": 4,
 "nbformat_minor": 5
}
