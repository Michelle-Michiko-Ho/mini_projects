{
 "cells": [
  {
   "cell_type": "markdown",
   "id": "ee1ec43c-5e9c-4f6b-bcde-58c86c3301bb",
   "metadata": {},
   "source": [
    "<a id=\"top\"></a>"
   ]
  },
  {
   "cell_type": "markdown",
   "id": "a8c3b47e-9796-4a2a-b339-5074968c1037",
   "metadata": {},
   "source": [
    "# Big Macroeconomic Issues\n",
    "\n",
    "<ul style=\"list-style: none; padding-left: 0; margin-left: 0;\">\n",
    "    <li style=\"display: flex; align-items: center; margin-bottom: 10px;\">\n",
    "        <span style=\"color: royalblue; font-size: 30pt; font-weight: bold; margin-right: 10px;\">•</span>\n",
    "        <a href=\"#inflation\" style=\"color: royalblue; font-size: 30pt; font-weight: bold; text-decoration: none;\">Inflation</a>\n",
    "    </li>\n",
    "    <li style=\"display: flex; align-items: center; margin-bottom: 10px;\">\n",
    "        <span style=\"color: green; font-size: 30pt; font-weight: bold; margin-right: 10px;\">•</span>\n",
    "        <a href=\"#unemployment\" style=\"color: green; font-size: 30pt; font-weight: bold; text-decoration: none;\">Unemployment</a>\n",
    "    </li>\n",
    "    <li style=\"display: flex; align-items: center; margin-bottom: 10px;\">\n",
    "        <span style=\"color: brown; font-size: 30pt; font-weight: bold; margin-right: 10px;\">•</span>\n",
    "        <a href=\"#gdp\" style=\"color: brown; font-size: 30pt; font-weight: bold; text-decoration: none;\">GDP</a>\n",
    "    </li>\n",
    "    <li style=\"display: flex; align-items: center; margin-bottom: 10px;\">\n",
    "        <span style=\"color: orange; font-size: 30pt; font-weight: bold; margin-right: 10px;\">•</span>\n",
    "        <a href=\"#budget\" style=\"color: orange; font-size: 30pt; font-weight: bold; text-decoration: none;\">Budget</a>\n",
    "    </li>\n",
    "    <li style=\"display: flex; align-items: center; margin-bottom: 10px;\">\n",
    "        <span style=\"color: iris; font-size: 30pt; font-weight: bold; margin-right: 10px;\">•</span>\n",
    "        <a href=\"#trade\" style=\"color: iris; font-size: 30pt; font-weight: bold; text-decoration: none;\">Trade</a>\n",
    "    </li>     \n",
    "</ul>"
   ]
  },
  {
   "cell_type": "markdown",
   "id": "61f68d43-3342-4223-ad1c-cd5e4767502f",
   "metadata": {},
   "source": [
    "<a id=\"inflation\"></a>\n",
    "<h1 style=\"color: royalblue; font-weight: bold;font-size: 30pt;\">Inflation</h1>\n",
    "\n",
    "- Define: Upward movement of prices from one year to the next\n",
    "\n",
    "- Measusre: By percentage change in price indices:\n",
    "\n",
    "   - CPI (consumer price index)\n",
    "   - PPI (producer price index)\n",
    "   - Usually, CPI is adopted and GDP Deflator is accessed <br><br>\n",
    "\n",
    "\n",
    "- CPI calculation including:\n",
    "   - Food\n",
    "   - Clothing\n",
    "   - Shelter\n",
    "   - Fuel\n",
    "   - Transportation\n",
    "   - Medical Care\n",
    "   - College Tuition\n",
    "     \n",
    "  \n",
    "  \n",
    "\n"
   ]
  },
  {
   "cell_type": "markdown",
   "id": "b518ed7e-5cd6-4f6f-9c8d-dbd687813ff5",
   "metadata": {},
   "source": [
    "The **GDP deflator** is an important measure for understanding inflation in the context of an economy's overall output. Here's how to interpret it:\n",
    "\n",
    "### Interpretation of GDP Deflator\n",
    "\n",
    "1. **Calculating Inflation**: The GDP deflator is calculated as:\n",
    "   $\n",
    "   \\text{GDP Deflator} = \\left( \\frac{\\text{Nominal GDP}}{\\text{Real GDP}} \\right) \\times 100\n",
    "   $\n",
    "   A deflator value greater than 100 indicates that nominal GDP is higher than real GDP, suggesting that inflation has occurred since the base year used for real GDP calculations.\n",
    "\n",
    "2. **Overall Price Level**: The GDP deflator measures the average price level of all goods and services produced domestically. A rising deflator indicates that the overall price level in the economy is increasing, while a falling deflator suggests deflation or a decrease in the price level.\n",
    "\n",
    "3. **Distinguishing between Growth and Inflation**: By comparing nominal and real GDP using the deflator, you can see how much of the economic growth is due to increases in output versus increases in prices. If nominal GDP grows significantly while real GDP grows only modestly, it suggests that inflation is a significant factor.\n",
    "\n",
    "4. **Policy Implications**: Policymakers use the GDP deflator to assess inflationary pressures in the economy. A rapidly rising deflator may prompt central banks to adjust monetary policy, such as raising interest rates, to control inflation.\n",
    "\n",
    "5. **Broad Scope**: Unlike CPI and PPI, which focus on specific baskets of consumer goods or producer prices, the GDP deflator provides a comprehensive view of price changes across the entire economy, making it useful for overall economic analysis.\n",
    "\n",
    "### Summary\n",
    "In essence, the GDP deflator helps to gauge inflation's impact on economic growth and provides insight into the relationship between prices and output in the economy. It’s a valuable tool for both economists and policymakers in assessing economic health and formulating strategies."
   ]
  },
  {
   "cell_type": "markdown",
   "id": "0a1f35ef-4879-43c6-a633-55700a061754",
   "metadata": {},
   "source": [
    "# Q1. What do you think happens if the rate of inflation exceeds the rate of the growth in our paychecks?"
   ]
  },
  {
   "cell_type": "markdown",
   "id": "96aab086-a8ef-4d24-9a7a-bdc7f4c689fd",
   "metadata": {},
   "source": [
    "<ul style=\"list-style: none; padding-left: 0; margin-left: 0;\">\n",
    "    <li style=\"display: flex; align-items: flex-start; margin-bottom: 10px;\">\n",
    "        <span style=\"color: royalblue; font-size: 20pt; font-weight: bold; margin-right: 10px;\">&#9670;</span>\n",
    "        <span style=\"color: royalblue; font-size: 20pt; font-weight: bold; width: 400px; display: inline-block;\">Real Income / Purchasing Power declining</span>\n",
    "        <div style=\"width: 4px; height: 100px; background-color: gray; margin: 0 15px;\"></div>\n",
    "        <ul style=\"list-style: none; padding-left: 20px; margin-left: 0;\">\n",
    "            <li style=\"display: flex; align-items: center; margin-bottom: 10px;\">\n",
    "                <span style=\"color: pink; font-size: 20pt; font-weight: bold; margin-right: 10px;\">&#9670;</span>\n",
    "                <span style=\"color: pink; font-size: 20pt; font-weight: bold;\">even though wages up / cruel tax indeed</span>\n",
    "            </li>\n",
    "        </ul>\n",
    "    </li>\n",
    "    <li style=\"display: flex; align-items: flex-start; margin-bottom: 10px;\">\n",
    "        <span style=\"color: green; font-size: 20pt; font-weight: bold; margin-right: 10px;\">&#9670;</span>\n",
    "        <span style=\"color: green; font-size: 20pt; font-weight: bold; width: 400px; display: inline-block;\">Unemployment</span>\n",
    "        <div style=\"width: 4px; height: 100px; background-color: gray; margin: 0 15px;\"></div>\n",
    "        <ul style=\"list-style: none; padding-left: 20px; margin-left: 0;\">\n",
    "            <li style=\"display: flex; align-items: center; margin-bottom: 10px;\">\n",
    "                <span style=\"color: pink; font-size: 20pt; font-weight: bold; margin-right: 10px;\">&#9670;</span>\n",
    "                <span style=\"color: pink; font-size: 20pt; font-weight: bold;\">resulting from a recession / cruel tax indeed</span>\n",
    "            </li>\n",
    "        </ul>\n",
    "    </li>\n",
    "</ul>\n"
   ]
  },
  {
   "cell_type": "markdown",
   "id": "f71f29fc-6e0d-480a-9ade-80f9c9782fea",
   "metadata": {},
   "source": [
    "## Key Changes:\n",
    "\n",
    "- Fixed Width: Added width: 400px; display: inline-block; to both the royal blue and green text spans. You can adjust the width based on your actual content length.\n",
    "\n",
    "- Flex Alignment: Ensured align-items: flex-start; is used for both main  \"li\" entries to keep the items aligned at the top. With this setup, both entries should line up neatly, creating a balanced appearance. You can adjust the width to suit your specific layout needs!"
   ]
  },
  {
   "cell_type": "markdown",
   "id": "03925130-d4c1-476f-9dcd-226ee25abc6d",
   "metadata": {},
   "source": [
    "<a id=\"unemployment\"></a>\n",
    "<h1 style=\"color: green; font-weight: bold;font-size: 30pt;\">Unemployment</h1>\n",
    "\n",
    "<ul style=\"list-style: none; padding-left: 0; margin-left: 0;\">\n",
    "    <li style=\"display: flex; align-items: center; margin-bottom: 10px;\">        \n",
    "        <a href=\"#top\" style=\"color: royalblue; font-size: 9pt; font-weight: bold; text-decoration: none;\">Return to Top</a>\n",
    "    </li>    \n",
    "</ul>"
   ]
  },
  {
   "cell_type": "markdown",
   "id": "4ed23354-0d66-45a0-8c68-6feac1380228",
   "metadata": {},
   "source": [
    "# Unemployment Rate: \n",
    "\n",
    "### - the number of unemployed persons divided by the number of people in the labor force\n",
    "### - healthy economic climate ranges: 3% - 6% (prior to 2019)"
   ]
  },
  {
   "cell_type": "markdown",
   "id": "9638da2c-1ae0-46e0-bae2-0340d44ce030",
   "metadata": {},
   "source": [
    "<a id=\"gdp\"></a>\n",
    "<h1 style=\"color: brown;font-weight: bold; font-size: 30pt;\">GDP (Gross Domestic Product)</h1>\n",
    "\n",
    "<ul style=\"list-style: none; padding-left: 0; margin-left: 0;\">\n",
    "    <li style=\"display: flex; align-items: center; margin-bottom: 10px;\">        \n",
    "        <a href=\"#top\" style=\"color: royalblue; font-size: 9pt; font-weight: bold; text-decoration: none;\">Return to Top</a>\n",
    "    </li>    \n",
    "</ul>\n",
    "\n",
    "- Define: as market value of all final goods and services in given year\n",
    "- Measure:\n",
    "   - Income approach: GDP = (roughly)\n",
    "       - Wages (workers)+\n",
    "       - Rents (property owners)\n",
    "       - Interest (lenders)\n",
    "       - Profits (firms)\n",
    "   - Expenditure approach: GDP = (roughly)\n",
    "       - Consumption\n",
    "       - Business Investment\n",
    "       - Gov't Spending\n",
    "       - Net Exports\n",
    "           - Exports minus\n",
    "           - Imports <br><br>\n",
    "\n",
    "<div style=\"text-align: center;\">\n",
    "    <h1 style=\"color: brown; font-weight: bold; font-size: 20pt;\">The \"GDP Keynesian Equation\"</h1>\n",
    "    <h1 style=\"color: brown; font-weight: bold; font-size: 20pt;\">&#8593;</h1> <!-- Upward arrow with larger size -->\n",
    "    <h1 style=\"color: brown; font-weight: bold; font-size: 20pt;\">GDP = C + I + G + (X-M)</h1>\n",
    "    <h1 style=\"color: brown; font-weight: bold; font-size: 20pt;\">&#8593;</h1> <!-- Upward arrow with larger size -->\n",
    "    <h1 style=\"color: brown;font-weight: bold; font-size: 20pt;\">GDP Forecasting Model</h1>\n",
    "</div>\n",
    "\n",
    "                                     "
   ]
  },
  {
   "cell_type": "markdown",
   "id": "95da696e-94d2-42f3-9fac-aa387597dfe5",
   "metadata": {},
   "source": [
    "<h1 style=\"color: brown;font-weight: bold; font-size: 30pt;\">Actual vs Potential GDP Growth</h1>"
   ]
  },
  {
   "cell_type": "markdown",
   "id": "88457ec7-9b08-4fa6-84a8-02d5265ffe16",
   "metadata": {},
   "source": [
    "**Actual GDP** is the total economic output produced by a country during a specific period, reflecting real economic activity. It can fluctuate based on various factors like consumer demand, investment, and external shocks.\n",
    "\n",
    "**Potential GDP**, on the other hand, represents the maximum output an economy can sustain over the long term without leading to inflation. It reflects the economy's productive capacity, considering factors like labor force, capital, and technology.\n",
    "\n",
    "The difference between the two can indicate economic conditions:\n",
    "\n",
    "- **When actual GDP is below potential GDP**: This may signal underutilization of resources, often associated with unemployment and economic slack.\n",
    "- **When actual GDP exceeds potential GDP**: This may indicate an overheating economy, leading to inflation as demand outstrips supply. \n",
    "\n",
    "Understanding this distinction helps policymakers gauge economic health and make informed decisions."
   ]
  },
  {
   "cell_type": "markdown",
   "id": "bcc02447-94c0-46d8-8425-e099f47352d0",
   "metadata": {},
   "source": [
    "<h1 style=\"color: Magenta;font-weight: bold; font-size: 30pt;\">Measuring GDP: Nominal vs Real</h1>"
   ]
  },
  {
   "cell_type": "markdown",
   "id": "5d790200-21b7-4f7c-babc-e6b31c89ecf7",
   "metadata": {},
   "source": [
    "<ul style=\"list-style: none; padding-left: 0; margin-left: 0;\">\n",
    "    <li style=\"display: flex; align-items: center; margin-bottom: 10px;\">        \n",
    "        <a href=\"#top\" style=\"color: royalblue; font-size: 9pt; font-weight: bold; text-decoration: none;\">Return to Top</a>\n",
    "    </li>    \n",
    "</ul>"
   ]
  },
  {
   "cell_type": "markdown",
   "id": "0fde2e38-57a4-4805-ac31-c9f8f4dbe38d",
   "metadata": {},
   "source": [
    "The two main ways to measure GDP are **nominal GDP** and **real GDP**, and they serve different purposes:\n",
    "\n",
    "### Nominal GDP\n",
    "- **Definition**: Nominal GDP measures the total value of all goods and services produced in an economy at current market prices during a specific period, without adjusting for inflation.\n",
    "- **Implication**: It reflects the economic output in terms of today’s prices, which can make it difficult to compare across different time periods since it may be influenced by changes in price levels.\n",
    "\n",
    "### Real GDP\n",
    "- **Definition**: Real GDP adjusts nominal GDP for inflation or deflation, providing a more accurate representation of an economy's true growth by using constant prices from a base year.\n",
    "- **Implication**: It allows for better comparisons over time, as it reflects the actual increase in volume of goods and services produced, independent of price changes.\n",
    "\n",
    "<span style=\"color: dodgerblue; font-style: italic; font-size: 12pt;\">Real economic growth is measured by real GDP!</span>\n",
    "\n",
    "### Summary\n",
    "- **Nominal GDP**: Current prices, not adjusted for inflation.\n",
    "- **Real GDP**: Constant prices, adjusted for inflation, allowing for more accurate historical comparisons.\n",
    "\n",
    "This distinction is important for understanding economic performance and trends."
   ]
  },
  {
   "cell_type": "markdown",
   "id": "495c84fc-93eb-4d4e-b7e6-1cb754f02192",
   "metadata": {},
   "source": [
    "<a id=\"budget\"></a>\n",
    "<h1 style=\"color: orange; font-weight: bold;font-size: 30pt;\">Budget</h1>\n",
    "\n",
    "<ul style=\"list-style: none; padding-left: 0; margin-left: 0;\">\n",
    "    <li style=\"display: flex; align-items: center; margin-bottom: 10px;\">        \n",
    "        <a href=\"#top\" style=\"color: royalblue; font-size: 9pt; font-weight: bold; text-decoration: none;\">Return to Top</a>\n",
    "    </li>    \n",
    "</ul>\n",
    "\n",
    "**Define**:\n",
    "- A financial plan that outlines the expected revenues and expenditures of a government for a specific period, typically a year.\n",
    "- It serves as a roadmap for how public funds will be allocated to various sectors\n",
    "- It reflects the government's priorities and economic policies, aiming to balance the need for public services with fiscal responsibility.\n",
    "\n",
    "**Gov't Revenues:**\n",
    "- Taxes\n",
    "    - Income Tax\n",
    "    - Sales Tax\n",
    "    - Property Tax    \n",
    "    - Corporate Tax\n",
    "- Fees and Charges\n",
    "    - Licensing Fees (i.e. driving, business operations)\n",
    "    - Park Entrance Fees\n",
    "    - Cout Fees\n",
    "- Fines and Penalties\n",
    "    - Traffic Fines\n",
    "    - Environmental Penalties\n",
    "      \n",
    "- Investment Income: earnings from investments made by gov't.\n",
    "- Sales of Goods and Services \n",
    "\n",
    "**Gov't Expenditures**\n",
    "- Education\n",
    "- Health Care\n",
    "- National Defense\n",
    "- Infrastructure\n",
    "- Social Services\n",
    "- Regulations\n",
    "\n",
    "**Types:**\n",
    "- Deficit (Debt): when Gov't Revenues < Gov't Expenditures\n",
    "- Surplus : when Gov't Revenues > Gov't Expenditures"
   ]
  },
  {
   "cell_type": "markdown",
   "id": "a8590213-9e36-4275-ba46-b3cfba456178",
   "metadata": {},
   "source": [
    "<ul style=\"list-style: none; padding-left: 0; margin-left: 0;\">\n",
    "    <li style=\"display: flex; align-items: center; margin-bottom: 10px;\">        \n",
    "        <a href=\"#top\" style=\"color: royalblue; font-size: 9pt; font-weight: bold; text-decoration: none;\">Return to Top</a>\n",
    "    </li>    \n",
    "</ul>"
   ]
  },
  {
   "cell_type": "markdown",
   "id": "03949f75-abf7-4c27-b0fd-1fda62d0a9f3",
   "metadata": {},
   "source": [
    "<a id=\"trade\"></a>\n",
    "<h1 style=\"color: purple; font-weight: bold;font-size: 30pt;\">Trade</h1>\n",
    "\n",
    "<!-- <strong>Define</strong>:<span style=\"color: blue; font-style: italic; font-size: 12pt; margin-left: 5px;\">the exchanges of goods --> <!--and services internationally.</span> -->\n",
    "\n",
    "<strong>Define</strong>:<br>\n",
    "<span style=\"color: blue; font-style: italic; margin: 0; padding: 0; line-height: 0; font-size: 12pt;\">the exchange of goods and services internationally.</span><br>\n",
    "\n",
    "\n",
    "<!--**Define**:-->\n",
    "<!--<h5 style=\"color: blue; font-style: italic; margin: 0; padding: 0; font-size: 12pt;\">the exchanges of goods and services internationally.</h5>-->\n",
    "\n",
    "\n",
    "**Types:**\n",
    "- Deficit (Debt): when Export < Import\n",
    "- Surplus : when Export > Import"
   ]
  },
  {
   "cell_type": "markdown",
   "id": "cf1ffa48-cdc8-43d1-b074-9a48c00573ca",
   "metadata": {},
   "source": [
    "<ul style=\"list-style: none; padding-left: 0; margin-left: 0;\">\n",
    "    <li style=\"display: flex; align-items: center; margin-bottom: 10px;\">        \n",
    "        <a href=\"#top\" style=\"color: royalblue; font-size: 9pt; font-weight: bold; text-decoration: none;\">Return to Top</a>\n",
    "    </li>    \n",
    "</ul>"
   ]
  }
 ],
 "metadata": {
  "kernelspec": {
   "display_name": "Python 3 (ipykernel)",
   "language": "python",
   "name": "python3"
  },
  "language_info": {
   "codemirror_mode": {
    "name": "ipython",
    "version": 3
   },
   "file_extension": ".py",
   "mimetype": "text/x-python",
   "name": "python",
   "nbconvert_exporter": "python",
   "pygments_lexer": "ipython3",
   "version": "3.10.14"
  }
 },
 "nbformat": 4,
 "nbformat_minor": 5
}
