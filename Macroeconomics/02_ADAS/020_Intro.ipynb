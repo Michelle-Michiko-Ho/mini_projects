{
 "cells": [
  {
   "cell_type": "markdown",
   "id": "e1c27871-a693-452c-8703-741739011ab4",
   "metadata": {},
   "source": [
    "# Classifical Keynesian Debate in Modern Context"
   ]
  },
  {
   "cell_type": "markdown",
   "id": "3bb3c3e6-3638-48f1-9081-880c0fb61c38",
   "metadata": {},
   "source": [
    "# Q1. How Activist Should Gov't be\n",
    "# Q2. Is it Gov't Role to Implement Discretionary Policies to Solve Macro Problems?\n",
    "# Q3. Might Govn't Intervention Make the Situation Worse?"
   ]
  },
  {
   "cell_type": "markdown",
   "id": "ead451b7-3b55-41e8-a5c4-f43157fa0710",
   "metadata": {},
   "source": [
    "# Great Depression Time Period\n",
    "#### -*How Macroeconomy Adjust During A Recession* \n",
    "\n",
    "### Cause (backdrop): \n",
    "- Trade low\n",
    "- Unemployment high\n",
    "- Food shortages\n",
    "\n",
    "### Action (Debate)\n",
    "- Classical\n",
    "- Classical Keynesian\n",
    "\n"
   ]
  },
  {
   "cell_type": "markdown",
   "id": "24aa5966-b1b7-4282-8cc9-8c39f67085df",
   "metadata": {},
   "source": [
    "\n",
    "### 1. <span style=\"color: red;\">Classical Price Adjustment Mechanism</span> <a href=\"#classical\">🔗</a>\n",
    "   - Prices Fall ==> Consumption Rises\n",
    "   - Wages Fall  ==> Production Rises\n",
    "   - Interest Rates Fall ==> Investment Rises\n",
    "\n",
    "Leading to Economy returning to full employment.\n",
    "\n",
    "**Main idea:**\n",
    "- No gov't intervetion needed.\n",
    "- Leave the market alone.\n",
    "- *Laissez faire*\n",
    "\n",
    "<span style=\"color: red;\">Note: Favored by ideological conservatives now</span>\n",
    "\n",
    "**Sum Up:**\n",
    "- Recession is a natural part of the business cycle.\n",
    "- Self-correcting\n",
    "- No Govn't Intervention\n",
    "\n",
    "\n",
    "### 2. <span style=\"color: blue;\">Keynesian Income Adjustment Mechanism</span> <a href=\"#keynesian\">🔗</a>\n",
    "   - People's incomes fall (*in the absence of gov't intervention*)\n",
    "        - Consumption falls ==> Business Production down\n",
    "        - Savings fall  ==> Business Investment down\n",
    "\n",
    "leading to deepending Recession\n",
    "\n",
    "**Main Idea:**\n",
    "- Discretionary Policy Intervention Necessary\n",
    "- prescribe larger scale gov't expenditures to prime the conomic pump\n",
    "- believe fiscal and monetary policies will positively affect the economy\n",
    "- heavy intervention  \n",
    "\n",
    "- thinkging...in the absence of gov't intervention...there may be a fall of\n",
    "   - income\n",
    "   - savings\n",
    "   - investment\n",
    "     \n",
    "<span style=\"color: red;\">Note: Favored by ideological liberals now</span>"
   ]
  },
  {
   "cell_type": "markdown",
   "id": "87c506d7-10ee-44d3-b120-0984f9daf1fe",
   "metadata": {},
   "source": [
    "# <span style=\"color: dodgerblue;\">Progression:</span>\n",
    "\n",
    "- <span style=\"color: dodgerblue;\">First Industrial Revolution (late 18th century: 1760 - 1840)</span>\n",
    "- <span style=\"color: dodgerblue;\">Second Industrial Revolution aka Technological Revolution (mid 19th century: 1850 - 1920s)</span>\n",
    "- <span style=\"color: dodgerblue;\">Great Depression (1930s)</span>\n",
    "\n",
    "### &diams; <span style=\"color: red;\">Classical Theory (no govn't intervention) Had Worked Well Until Great Depgression</span> <a href=\"#classical\">🔗</a>\n",
    "\n",
    "##### Failures of Two Pillars:\n",
    "- <span style=\"color: fuchsia;\">Say's Law</span>\n",
    "- <span style=\"color: fuchsia;\">Quantity Theory of Money</span>\n",
    "\n",
    "### &diams; <span style=\"color: blue;\">Classical Keynesian (w/ govn't intervention) Started to Emerge As To Combat Great Depgression</span> <a href=\"#classical\">🔗</a>\n",
    "\n",
    "##### Successes in Two Areas:\n",
    "- <span style=\"color: dodgerblue;\">The General Theory Of Employment, Interest, And Money By John Maynard Keynes Published</span>\n",
    "- <span style=\"color: dodgerblue;\">President Franklin Delano Roosevelt Adopted the Theory</span>\n",
    "\n"
   ]
  },
  {
   "cell_type": "markdown",
   "id": "00fee288-b3a5-45e8-bc35-1d4340f2402c",
   "metadata": {},
   "source": [
    "# <span style=\"color: green;\">Say's law:</span>\n",
    "\n",
    "- <span style=\"color: teal;\">SUPPLY CREATES DEMAND</span>\n",
    "- <span style=\"color: teal;\">Create Supply Side: people work to produce (goods + services) ==> Earn Income </span>\n",
    "- <span style=\"color: teal;\">Create Demand Side: people spend all their income to buy all supply ==> Supply creates demand</span>\n",
    "\n",
    "### &diams; <span style=\"color: blue;\">Key Assumption: Income equals Value of Goods and Services produced </span> <a href=\"#classical\">🔗</a>\n",
    "\n",
    "\n",
    "# <span style=\"color: brown;\">Problem of Say's law:</span>\n",
    "\n",
    "### Critiques:\n",
    "\n",
    "- <span style=\"color: lightslategray;font style: bold;\">By Thomas Malthus: People don't spend all their income</span>\n",
    "- <span style=\"color: teal;\">Create Supply Side: people work to produce (goods + services) ==> Earn Income </span>\n",
    "- <span style=\"color: teal;\">Create Demand Side: people spend all their income to buy all supply ==> Supply creates demand</span>"
   ]
  },
  {
   "cell_type": "markdown",
   "id": "c7dd8f5c-1b07-4e1d-aa5d-84a4d8da1bbd",
   "metadata": {},
   "source": []
  }
 ],
 "metadata": {
  "kernelspec": {
   "display_name": "Python 3 (ipykernel)",
   "language": "python",
   "name": "python3"
  },
  "language_info": {
   "codemirror_mode": {
    "name": "ipython",
    "version": 3
   },
   "file_extension": ".py",
   "mimetype": "text/x-python",
   "name": "python",
   "nbconvert_exporter": "python",
   "pygments_lexer": "ipython3",
   "version": "3.10.13"
  }
 },
 "nbformat": 4,
 "nbformat_minor": 5
}
