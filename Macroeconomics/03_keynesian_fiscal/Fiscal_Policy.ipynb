{
 "cells": [
  {
   "cell_type": "markdown",
   "id": "e8aa1ef7-2565-4fbe-98f9-c99560225aa3",
   "metadata": {},
   "source": [
    "<a id=\"top\"></a>\n",
    "### <span style=\"color: red;\"></span>"
   ]
  },
  {
   "cell_type": "markdown",
   "id": "83bc2f6f-d8d8-40aa-88b7-e5ce14aec2ec",
   "metadata": {},
   "source": [
    "### &diams; <span style=\"color: green;\">Highlight </span> \n",
    "<ul style=\"margin-left: 40px; color: green; font-size:20px;\">\n",
    "    <li style=\"color: darkviolet; font-style: italic;\">Keynesian Model<a href=\"#km\">🔗</a></li>    \n",
    "    <li style=\"color: deepskyblue; font-style: italic;\"><a href=\"#asfactors\">🔗</a></li>\n",
    "    <li style=\"color: darkgray; font-style: italic;\"><a href=\"#advsas\">🔗</a></li>    \n",
    "    \n",
    "</ul>"
   ]
  },
  {
   "cell_type": "markdown",
   "id": "4f10012a-9902-48be-ac11-0ff35a149ed3",
   "metadata": {},
   "source": [
    "<a id=\"km\"></a>\n",
    "\n",
    "<span style=\"color: darkviolet; font-size: 30px; font-weight: bold;\">Keynesia Model</span>\n",
    "\n",
    "\n",
    "\n",
    "#### <span style=\"color: green;\">aka 1. Multipler Model</span>\n",
    "#### <span style=\"color: green;\">aka 2. Aggregate Production / Aggregate Expenditure Model</span>\n",
    "### &diams; <span style=\"color: blue;\">Keynesian Model is considered the tool to understand Fiscal Policy</span>\n",
    "\n",
    "\n",
    "<div style=\"margin-left: 40px;\">\n",
    "   <span style=\"color: Fuchsia; font-size: 20px;font-weight: bold;\">Fiscal Policy</span>    \n",
    "   <div style=\"margin-left: 20px;font-size: 15px\">\n",
    "       &#8594; <span style=\"color: darkpurple;font-weight:bold;\">Expansionary</span><br>\n",
    "       <div style=\"margin-left: 20px;font-size: 18px\">\n",
    "          &#9678; <span style=\"color: teal;\">Increased Govn't Expenditures</span><br>\n",
    "          &#9678; <span style=\"color: teal;\">Tax Cut</span><br>\n",
    "       </div>   \n",
    "           <div style=\"margin-left: 30px;font-size: 18px\">\n",
    "              &#9758; <span style=\"color: brown;font-weight:bold;\">Fight Recession</span>         \n",
    "           </div>   \n",
    "       &#8594; <span style=\"color: darkpurple;font-weight:bold;\">Contractionary</span>\n",
    "        <div style=\"margin-left: 20px;font-size: 18px\">\n",
    "          &#9678; <span style=\"color: teal;\">Decreased Govn't Expenditures</span><br>\n",
    "          &#9678; <span style=\"color: teal;\">Tax Hike</span><br>\n",
    "       </div>               \n",
    "           <div style=\"margin-left: 30px;font-size: 18px; font-style: bold;\">\n",
    "              &#9758; <span style=\"color: brown;font-weight:bold;\">Fight Inflation</span>          \n",
    "           </div>   \n",
    "    </div>\n",
    "</div>\n",
    " \n",
    " \n",
    "### &diams; <span style=\"color: red;\">Why is fiscal policy important from a business perspective?</span> \n",
    "\n",
    "#### Reasons:\n",
    "\n",
    "<div style=\"margin-left: 40px;\">\n",
    "    <span style=\"color: Fuchsia; font-size: 20px; font-weight: bold;\">1. Affects Business Climate + Condition</span>\n",
    "    <div style=\"margin-left: 20px; font-size: 18px;\">\n",
    "        <!--&#8594; <span style=\"color: teal;\">Expansionary</span><br> -->\n",
    "        <div style=\"margin-left: 20px; font-size: 18px;\">\n",
    "            &#9678; <span style=\"color: teal;\">Entering into Bull Market</span><br>\n",
    "            &#9678; <span style=\"color: teal;\">Entering into Bear Market</span><br>\n",
    "        </div>\n",
    "        <div style=\"margin-left: 30px; font-size: 18px;\">\n",
    "            <!-- &#9758; <span style=\"color: brown; font-weight: bold;\">Fight Recession</span> -->\n",
    "        </div>\n",
    "    </div>\n",
    "    <span style=\"color: Fuchsia; font-size: 20px; font-weight: bold;\">2. Affects Tax Policy + Interest Rates</span>\n",
    "    <div style=\"margin-left: 20px; font-size: 18px;\">\n",
    "        <!--&#8594; <span style=\"color: teal;\"></span><br> -->\n",
    "        <div style=\"margin-left: 20px; font-size: 18px;\">\n",
    "            &#9678; <span style=\"color: teal;\"></span><br>\n",
    "            &#9678; <span style=\"color: teal;\"></span><br>\n",
    "        </div>\n",
    "        <div style=\"margin-left: 30px; font-size: 18px;\">\n",
    "            &#9758; <span style=\"color: brown; font-weight: bold;\">Fight Recession</span>\n",
    "        </div>\n",
    "    </div>\n",
    "</div>\n",
    "\n",
    "\n",
    "# <span style=\"color: brown;\">ScenarioA</span>\n",
    "\n",
    "- **<span style=\"color: lightslategray;\">Ques: Govn't Increases Spenging to Stimualte Economy</span>**\n",
    "  - <span style=\"color: green;\">Increased Spending creates Budget Deficit</span>\n",
    "    - <span style=\"color: brown;\">Govn't Borrows Money to Finance Deficit</span>\n",
    "    - <span style=\"color: brown;\">Govn't Raises Taxes on Businesses to Finance Deficit</span><br>\n",
    "    <div style=\"margin-left: 30px; font-size: 18px;\">\n",
    "            &#9758; <span style=\"color: purple; font-weight: bold;\">Interest Rates Rise on Business Investment</span>\n",
    "        </div>\n",
    "\n"
   ]
  },
  {
   "cell_type": "markdown",
   "id": "1f51dd37-c034-413d-86d7-6163dd7a5643",
   "metadata": {},
   "source": [
    "<span style=\"color: dodgerblue;\">Back To Top</span> <a href=\"#top\">🔗</a>"
   ]
  }
 ],
 "metadata": {
  "kernelspec": {
   "display_name": "Python 3 (ipykernel)",
   "language": "python",
   "name": "python3"
  },
  "language_info": {
   "codemirror_mode": {
    "name": "ipython",
    "version": 3
   },
   "file_extension": ".py",
   "mimetype": "text/x-python",
   "name": "python",
   "nbconvert_exporter": "python",
   "pygments_lexer": "ipython3",
   "version": "3.10.14"
  }
 },
 "nbformat": 4,
 "nbformat_minor": 5
}
