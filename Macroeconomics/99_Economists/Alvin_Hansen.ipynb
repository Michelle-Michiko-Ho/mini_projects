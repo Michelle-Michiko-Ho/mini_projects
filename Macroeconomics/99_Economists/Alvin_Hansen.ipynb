{
 "cells": [
  {
   "cell_type": "markdown",
   "id": "0d4a46c6-1580-4e06-a0b2-70ff94b0e16b",
   "metadata": {},
   "source": [
    "<a id=\"top\"></a>\n",
    "### <span style=\"color: red;\"></span>"
   ]
  },
  {
   "cell_type": "markdown",
   "id": "33d88902-685a-452d-a8de-982d1718f53d",
   "metadata": {},
   "source": [
    "### &diams; <span style=\"color: green;\">Highlight </span> \n",
    "<ul style=\"margin-left: 40px; color: green; font-size:20px;\">\n",
    "    <li><a href=\"https://archive.org/details/AGUIDETOKEYNESBYALVINH.HANSEN/page/n3/mode/2up\" style=\"color: deepskyblue; font-style: italic;\">Famous work: A Guide to Keynes (1953)🔗</a></li>\n",
    "    <li style=\"color: darkgray; font-style: italic;\">Alternative Link: Cycles of Prosperity and Depression in US/UK/Germany; Business-Cycle Theory (1927) + others><a href=\"https://www.encyclopedia.com/people/social-sciences-and-law/sociology-biographies/alvin-hansen#A\">🔗</a></li>\n",
    "    <!-- <li style=\"color: darkturquoise; font-style: italic;\">Key Idea: Fixed Nature of Lifetime Earnings Relative to Labor Productivity and Market Conditions</li> -->\n",
    "    \n",
    "</ul>"
   ]
  },
  {
   "cell_type": "markdown",
   "id": "7054602f-e1f8-4593-a96a-c4049c55368d",
   "metadata": {
    "jp-MarkdownHeadingCollapsed": true
   },
   "source": [
    "\n",
    "<span style=\"color: black; font-style: regular;font-size:25px;\">Background of Alvin Hansen<a href=\"https://www.encyclopedia.com/people/social-sciences-and-law/sociology-biographies/alvin-hansen\">🔗</a></span>\n",
    "\n",
    "Alvin Hansen was a prominent American economist whose work had a significant influence on the development of macroeconomic theory in the 20th century. His ideas were particularly relevant during the Great Depression and the post-World War II era. An outline of his background, contributions, and the context in which he worked are as follows:\n",
    "\n",
    "### 1. **Early Life and Education**\n",
    "   - **Born:** *August 23, 1887* in *Galesville, Wisconsin*.\n",
    "   - **Death:** *December 6, 1975* in Cambridge, Massachusetts.\n",
    "   - **Education:**\n",
    "     - Hansen attended *St. Olaf College* in Minnesota, where he studied economics and graduated in 1910.\n",
    "     - He then went on to *Harvard University*, earning his PhD in economics in 1914 under the guidance of notable economists like *Frank W. Taussig*.\n",
    "\n",
    "### 2. **Early Career and Influences**\n",
    "   - After completing his doctorate, Hansen held teaching positions at various institutions, including *Swarthmore College* and later at *Harvard University* (1918–1935).\n",
    "   - **Influences:** \n",
    "     - Hansen was deeply influenced by the work of *John Maynard Keynes* and was instrumental in introducing Keynesian economics to the United States.\n",
    "     - He was also influenced by the economic environment of the time, particularly the **Great Depression**, which shaped much of his thinking on economic policy and theory.\n",
    "\n",
    "### 3. **Economic Beliefs**\n",
    "   Alvin Hansen's economic beliefs evolved during his career, and his views can be broadly classified into three main stages:\n",
    "\n",
    "   - **Pre-Keynesian Economics:** \n",
    "     - Early in his career, Hansen adhered to the classical economic theory, which emphasized the self-correcting nature of the economy. However, he began to see the limitations of this view during the Great Depression, especially the failure of the economy to recover swiftly.\n",
    "   \n",
    "   - **Keynesian Economics:**\n",
    "     - Hansen became a leading advocate of *Keynesian economics* in the U.S. after the publication of *John Maynard Keynes' \"The General Theory of Employment, Interest, and Money\"* (1936). \n",
    "     - He emphasized the importance of aggregate demand in determining the overall level of economic activity and argued that the government should play a key role in managing the economy through fiscal policy, particularly through public works and other forms of government spending to stimulate demand.\n",
    "   \n",
    "   - **Secular Stagnation Theory:**\n",
    "     - Hansen is perhaps best known for popularizing the concept of *secular stagnation* in the U.S. in the 1930s and 1940s. He argued that Western economies, particularly the U.S., might experience prolonged periods of stagnation due to a lack of sufficient investment opportunities and a shrinking population, which would lower the potential for growth.\n",
    "     - He foresaw that even with full employment, the economy might not reach a satisfactory level of output due to insufficient investment and that government intervention would be necessary to boost demand.\n",
    "\n",
    "### 4. **Contributions to Economic Thought**\n",
    "   - **Keynesian Economics in the U.S.:**\n",
    "     - Hansen was a key figure in the dissemination of Keynesian thought in America. He worked to apply Keynesian theory to the U.S. economy, focusing on the need for fiscal policy intervention in times of economic downturn.\n",
    "     - His *\"full employment\" model* was a major contribution to the policy debate in the post-World War II period. This idea was influential in shaping the policies of President Franklin D. Roosevelt's New Deal and later, in the formulation of post-war economic policies.\n",
    "   \n",
    "   - **Secular Stagnation:**\n",
    "     - His concept of secular stagnation became highly influential, particularly in the context of the post-war economic boom. However, the idea was not widely accepted at the time, though it experienced a resurgence in the aftermath of the 2008 financial crisis and the low-growth environment of the 2010s.\n",
    "   \n",
    "   - **The \"Hansen Model\":**\n",
    "     - Hansen's work on the *\"Hansen Model\"* was an early attempt to integrate Keynesian theory with economic models that emphasized consumption, investment, and government policy. This helped frame much of the macroeconomic policy discussions in the U.S. in the mid-20th century.\n",
    "\n",
    "   - **Key Publications:**\n",
    "     - *\"Full Employment or the New Economics\"* (1941) – This book popularized the Keynesian model in the U.S. and argued that full employment could be achieved through government intervention.\n",
    "     - *\"The Economic Problem of the American Worker\"* (1940) – A significant contribution to understanding labor market dynamics during the Depression.\n",
    "     - *\"Business Cycles and National Income\"* (1951) – This work extended Hansen’s theories on business cycles and national income.\n",
    "\n",
    "### 5. **Political Environment**\n",
    "   - Hansen's work occurred during a period of great political and economic change in the United States, including:\n",
    "     - **The Great Depression (1929–1939):** A period of massive unemployment, bank failures, and economic turmoil, which spurred a rethinking of classical economic policies and led to the rise of New Deal programs under President Franklin D. Roosevelt.\n",
    "     - **World War II:** The U.S. economy saw a dramatic transformation due to wartime production, which also influenced Hansen’s thinking about the role of government in managing aggregate demand.\n",
    "     - **Post-War Economic Boom (1945–1970s):** After World War II, the U.S. experienced rapid economic growth, but Hansen's theory of secular stagnation suggested that the U.S. might face longer-term challenges due to factors such as aging populations and a lack of new investment opportunities.\n",
    "     - **Cold War Era:** The political landscape of the Cold War also influenced economic policy debates, including the role of government intervention in the economy, which aligned with Hansen's beliefs in the need for active fiscal policy.\n",
    "\n",
    "### 6. **Later Years and Legacy**\n",
    "   - **Academic Career:**\n",
    "     - Hansen was a professor at Harvard University for much of his career, eventually becoming a *Professor Emeritus* in 1957.\n",
    "     - He continued to write and lecture on economic policy until his retirement in 1961.\n",
    "   \n",
    "   - **Influence on U.S. Economic Policy:**\n",
    "     - While the idea of secular stagnation was not widely accepted in Hansen's time, many of his Keynesian ideas had a lasting impact on U.S. economic policy, especially in terms of advocating for government intervention during economic downturns and promoting the idea of a full-employment economy.\n",
    "     - His thoughts were also influential in the development of the *post-war welfare state* and economic planning that characterized the U.S. and other Western economies in the mid-20th century.\n",
    "   \n",
    "   \n",
    "\n",
    "### Summary\n",
    "Alvin Hansen’s economic career spanned a transformative period in U.S. history, from the Great Depression through the post-World War II economic boom. He was a pivotal figure in introducing Keynesian economics to the United States, advocating for government intervention to achieve full employment, and warning about the risks of secular stagnation. His ideas about fiscal policy and the role of the government in managing demand remain influential in modern macroeconomic thought."
   ]
  },
  {
   "cell_type": "markdown",
   "id": "366f585b-607d-4e03-b8c2-d9e842691897",
   "metadata": {},
   "source": [
    "<span style=\"color: dodgerblue;\">Back To Top</span> <a href=\"#top\">🔗</a>"
   ]
  },
  {
   "cell_type": "markdown",
   "id": "dc54757d-dec0-476a-a13b-54b80065e493",
   "metadata": {},
   "source": [
    "<span style=\"color: dodgerblue;\">Back To Top</span> <a href=\"#top\">🔗</a>"
   ]
  },
  {
   "cell_type": "markdown",
   "id": "6321fceb-4b51-4803-b3e7-517bb2973830",
   "metadata": {},
   "source": [
    "Credit: ChatGPT"
   ]
  }
 ],
 "metadata": {
  "kernelspec": {
   "display_name": "Python 3 (ipykernel)",
   "language": "python",
   "name": "python3"
  },
  "language_info": {
   "codemirror_mode": {
    "name": "ipython",
    "version": 3
   },
   "file_extension": ".py",
   "mimetype": "text/x-python",
   "name": "python",
   "nbconvert_exporter": "python",
   "pygments_lexer": "ipython3",
   "version": "3.10.14"
  }
 },
 "nbformat": 4,
 "nbformat_minor": 5
}
